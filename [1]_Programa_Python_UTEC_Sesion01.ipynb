{
  "nbformat": 4,
  "nbformat_minor": 0,
  "metadata": {
    "colab": {
      "provenance": [],
      "include_colab_link": true
    },
    "kernelspec": {
      "name": "python3",
      "display_name": "Python 3"
    },
    "language_info": {
      "name": "python"
    }
  },
  "cells": [
    {
      "cell_type": "markdown",
      "metadata": {
        "id": "view-in-github",
        "colab_type": "text"
      },
      "source": [
        "<a href=\"https://colab.research.google.com/github/Armando1701/UTEC_Phyton_Jorge/blob/main/%5B1%5D_Programa_Python_UTEC_Sesion01.ipynb\" target=\"_parent\"><img src=\"https://colab.research.google.com/assets/colab-badge.svg\" alt=\"Open In Colab\"/></a>"
      ]
    },
    {
      "cell_type": "markdown",
      "source": [
        "## [1] Ejemplos de resutados en Python (listas)"
      ],
      "metadata": {
        "id": "RC5ssv_RyXXl"
      }
    },
    {
      "cell_type": "markdown",
      "source": [
        "### [1.1] De expresiones regulares"
      ],
      "metadata": {
        "id": "m8U92nipzNEz"
      }
    },
    {
      "cell_type": "code",
      "execution_count": null,
      "metadata": {
        "id": "y2j3ZkyJxfTf",
        "outputId": "cd5c5ed8-4aff-4c40-c9b1-b46009088824",
        "colab": {
          "base_uri": "https://localhost:8080/"
        }
      },
      "outputs": [
        {
          "output_type": "stream",
          "name": "stdout",
          "text": [
            "['david@example.com', 'ana123@gmail.com']\n"
          ]
        }
      ],
      "source": [
        "import re\n",
        "\n",
        "texto = \"Mi correo es david@example.com y el de Ana es ana123@gmail.com\"\n",
        "correos = re.findall(r'\\S+@\\S+', texto)\n",
        "print(correos)"
      ]
    },
    {
      "cell_type": "code",
      "source": [
        "type(correos)"
      ],
      "metadata": {
        "id": "3v6nvVipPNXy",
        "outputId": "8ea943ac-b516-4c68-8ce6-99b32e6292d9",
        "colab": {
          "base_uri": "https://localhost:8080/"
        }
      },
      "execution_count": null,
      "outputs": [
        {
          "output_type": "execute_result",
          "data": {
            "text/plain": [
              "list"
            ]
          },
          "metadata": {},
          "execution_count": 3
        }
      ]
    },
    {
      "cell_type": "code",
      "source": [
        "import pandas as pd"
      ],
      "metadata": {
        "id": "6TWMwXEmMdbJ"
      },
      "execution_count": null,
      "outputs": []
    },
    {
      "cell_type": "code",
      "source": [
        "import sys\n",
        "\n",
        "sys.path"
      ],
      "metadata": {
        "id": "gMe2Xfm-PpsR",
        "outputId": "43f43419-c68f-43cc-f231-e0e33cc0bab7",
        "colab": {
          "base_uri": "https://localhost:8080/"
        }
      },
      "execution_count": null,
      "outputs": [
        {
          "output_type": "execute_result",
          "data": {
            "text/plain": [
              "['/content',\n",
              " '/env/python',\n",
              " '/usr/lib/python311.zip',\n",
              " '/usr/lib/python3.11',\n",
              " '/usr/lib/python3.11/lib-dynload',\n",
              " '',\n",
              " '/usr/local/lib/python3.11/dist-packages',\n",
              " '/usr/lib/python3/dist-packages',\n",
              " '/usr/local/lib/python3.11/dist-packages/IPython/extensions',\n",
              " '/usr/local/lib/python3.11/dist-packages/setuptools/_vendor',\n",
              " '/root/.ipython']"
            ]
          },
          "metadata": {},
          "execution_count": 6
        }
      ]
    },
    {
      "cell_type": "code",
      "source": [
        "type(sys.path)"
      ],
      "metadata": {
        "id": "JqrS4ESGPwUh",
        "outputId": "e75b5ce0-1355-4703-d19d-d420015f9b07",
        "colab": {
          "base_uri": "https://localhost:8080/"
        }
      },
      "execution_count": null,
      "outputs": [
        {
          "output_type": "execute_result",
          "data": {
            "text/plain": [
              "list"
            ]
          },
          "metadata": {},
          "execution_count": 7
        }
      ]
    },
    {
      "cell_type": "code",
      "source": [
        "type(correos)"
      ],
      "metadata": {
        "id": "E-JxjBuwyavM",
        "outputId": "8f0703d4-5f24-40f6-9ae9-a0010add534a",
        "colab": {
          "base_uri": "https://localhost:8080/"
        }
      },
      "execution_count": null,
      "outputs": [
        {
          "output_type": "execute_result",
          "data": {
            "text/plain": [
              "list"
            ]
          },
          "metadata": {},
          "execution_count": 2
        }
      ]
    },
    {
      "cell_type": "markdown",
      "source": [
        "### [1.2] Del uso de librerías"
      ],
      "metadata": {
        "id": "emDsY1i0z-Ej"
      }
    },
    {
      "cell_type": "code",
      "source": [
        "import sys\n",
        "\n",
        "sys.path"
      ],
      "metadata": {
        "id": "p6yeYDvb0Lr7",
        "outputId": "236015d9-016a-4f73-d983-f26ae1980188",
        "colab": {
          "base_uri": "https://localhost:8080/"
        }
      },
      "execution_count": null,
      "outputs": [
        {
          "output_type": "execute_result",
          "data": {
            "text/plain": [
              "['/content',\n",
              " '/env/python',\n",
              " '/usr/lib/python311.zip',\n",
              " '/usr/lib/python3.11',\n",
              " '/usr/lib/python3.11/lib-dynload',\n",
              " '',\n",
              " '/usr/local/lib/python3.11/dist-packages',\n",
              " '/usr/lib/python3/dist-packages',\n",
              " '/usr/local/lib/python3.11/dist-packages/IPython/extensions',\n",
              " '/usr/local/lib/python3.11/dist-packages/setuptools/_vendor',\n",
              " '/root/.ipython']"
            ]
          },
          "metadata": {},
          "execution_count": 3
        }
      ]
    },
    {
      "cell_type": "code",
      "source": [
        "type(sys.path)"
      ],
      "metadata": {
        "id": "3QgxX7400Tod",
        "outputId": "2cbef774-ec2a-46fc-a67c-d1a006d4c4b3",
        "colab": {
          "base_uri": "https://localhost:8080/"
        }
      },
      "execution_count": null,
      "outputs": [
        {
          "output_type": "execute_result",
          "data": {
            "text/plain": [
              "list"
            ]
          },
          "metadata": {},
          "execution_count": 4
        }
      ]
    },
    {
      "cell_type": "markdown",
      "source": [
        "### [1.3] De Dataframes"
      ],
      "metadata": {
        "id": "SrQhILEo0bwm"
      }
    },
    {
      "cell_type": "code",
      "source": [
        "import pandas as pd\n",
        "\n",
        "df = pd.read_csv(\"/content/clientes.csv\", sep=\";\")\n",
        "nombres = df.columns.tolist()\n",
        "print(nombres)"
      ],
      "metadata": {
        "id": "wvk_SxO8zEaK",
        "outputId": "a39d905f-65d9-4c8a-c5f4-e9931926c4dd",
        "colab": {
          "base_uri": "https://localhost:8080/"
        }
      },
      "execution_count": null,
      "outputs": [
        {
          "output_type": "stream",
          "name": "stdout",
          "text": [
            "['ID', 'EDAD', 'INGRESOS', 'RIESGO', 'LINEA_TC']\n"
          ]
        }
      ]
    },
    {
      "cell_type": "code",
      "source": [
        "type(nombres)"
      ],
      "metadata": {
        "id": "m77tovvY0sQC",
        "outputId": "448aca94-7b69-402c-bb8e-4aae2831ebf3",
        "colab": {
          "base_uri": "https://localhost:8080/"
        }
      },
      "execution_count": null,
      "outputs": [
        {
          "output_type": "execute_result",
          "data": {
            "text/plain": [
              "list"
            ]
          },
          "metadata": {},
          "execution_count": 6
        }
      ]
    },
    {
      "cell_type": "markdown",
      "source": [
        "### [1.3] De archivos de texto"
      ],
      "metadata": {
        "id": "ZmHzYEI91xj3"
      }
    },
    {
      "cell_type": "code",
      "source": [
        "import csv\n",
        "\n",
        "with open(\"/content/clientes.csv\", newline='') as archivo:\n",
        "    lector = csv.reader(archivo, delimiter=';')\n",
        "    filas = list(lector)\n",
        "    print(filas)  # Lista de listas (filas del archivo CSV)\n"
      ],
      "metadata": {
        "id": "Sp2JIB8x1Gp0",
        "outputId": "48954e40-df8a-4367-b5f3-347b57010e8f",
        "colab": {
          "base_uri": "https://localhost:8080/"
        }
      },
      "execution_count": null,
      "outputs": [
        {
          "output_type": "stream",
          "name": "stdout",
          "text": [
            "[['ID', 'EDAD', 'INGRESOS', 'RIESGO', 'LINEA_TC'], ['123', '36', '1348', 'A', '49924'], ['234', '52', '9479', 'A', '28454'], ['345', '60', '7511', 'B', '14250'], ['456', '40', '7992', 'C', '32064'], ['567', '58', '2675', 'C', '1485'], ['678', '47', '7086', 'D', '29157'], ['789', '31', '4704', 'E', '14945'], ['999', '42', '6245', 'E', '8798']]\n"
          ]
        }
      ]
    },
    {
      "cell_type": "markdown",
      "source": [
        "## [2] Crear una lista"
      ],
      "metadata": {
        "id": "irKBCMSW02eJ"
      }
    },
    {
      "cell_type": "markdown",
      "source": [
        "### Actividad N001"
      ],
      "metadata": {
        "id": "--8g9GOM463B"
      }
    },
    {
      "cell_type": "code",
      "source": [
        "lugares_jorge = [\"Ayacucho\", \"Chachapoyas\", \"Arequipa\", \"Cusco\", \"Piura\"]"
      ],
      "metadata": {
        "id": "-i4cTZy8NKzy"
      },
      "execution_count": null,
      "outputs": []
    },
    {
      "cell_type": "code",
      "source": [
        "type(lugares_jorge)"
      ],
      "metadata": {
        "id": "62fLjdwpNiMb",
        "outputId": "1cf1f443-7d95-4ac0-86ec-54767e85d2a1",
        "colab": {
          "base_uri": "https://localhost:8080/"
        }
      },
      "execution_count": null,
      "outputs": [
        {
          "output_type": "execute_result",
          "data": {
            "text/plain": [
              "list"
            ]
          },
          "metadata": {},
          "execution_count": 4
        }
      ]
    },
    {
      "cell_type": "code",
      "source": [
        "print (f\"La lista de mis lugares favoritos es \\n{lugares_jorge}\")"
      ],
      "metadata": {
        "id": "VrdmvQCoNkYJ",
        "outputId": "38a666b0-dde4-416b-e70a-52a87e6b647d",
        "colab": {
          "base_uri": "https://localhost:8080/"
        }
      },
      "execution_count": null,
      "outputs": [
        {
          "output_type": "stream",
          "name": "stdout",
          "text": [
            "La lista de mis lugares favoritos es \n",
            "['Ayacucho', 'Chachapoyas', 'Arequipa', 'Cusco', 'Piura']\n"
          ]
        }
      ]
    },
    {
      "cell_type": "code",
      "source": [
        "lugares = ['macchupichu','punta sal','pastoruri','laguna sauce','huacachina']"
      ],
      "metadata": {
        "id": "vnmUFQc_0xKy"
      },
      "execution_count": 11,
      "outputs": []
    },
    {
      "cell_type": "code",
      "source": [
        "print(f\"La lista de mis lugares favoritos es \\n {lugares}\")"
      ],
      "metadata": {
        "id": "EwmY7UZh21hv",
        "outputId": "6778cbeb-9811-43f9-8583-d1f90b2ee341",
        "colab": {
          "base_uri": "https://localhost:8080/"
        }
      },
      "execution_count": null,
      "outputs": [
        {
          "output_type": "stream",
          "name": "stdout",
          "text": [
            "La lista de mis lugares favoritos es \n",
            " ['macchupichu', 'punta sal', 'pastoruri', 'laguna sauce', 'huacachina']\n"
          ]
        }
      ]
    },
    {
      "cell_type": "markdown",
      "source": [
        "## [3] Tipos de listas"
      ],
      "metadata": {
        "id": "wQ0it4O23BVX"
      }
    },
    {
      "cell_type": "markdown",
      "source": [
        "### Actividad N002"
      ],
      "metadata": {
        "id": "mJ__gEzN5A8u"
      }
    },
    {
      "cell_type": "code",
      "source": [
        "name = \"jorge\"\n",
        "last_name = \"cardenas\"\n",
        "profesion = \"ingeniero industrial\"\n",
        "age = 33\n",
        "centrolabores = \"fape\"\n",
        "experience = 8\n",
        "\n",
        "info_personal = [name, last_name, profesion, age, centrolabores, experience]\n",
        "print(f\"La lista info_personal contiene \\n {info_personal}\")\n"
      ],
      "metadata": {
        "id": "6FR66QouOXNs",
        "outputId": "ab01e0db-f365-43c2-94c9-120577b293e3",
        "colab": {
          "base_uri": "https://localhost:8080/"
        }
      },
      "execution_count": 31,
      "outputs": [
        {
          "output_type": "stream",
          "name": "stdout",
          "text": [
            "La lista info_personal contiene \n",
            " ['jorge', 'cardenas', 'ingeniero industrial', 33, 'fape', 8]\n"
          ]
        }
      ]
    },
    {
      "cell_type": "code",
      "source": [
        "name_1 = \"gianmarco\"\n",
        "last_name_1 = \"cardenas\"\n",
        "profesion_1 = \"estudiante\"\n",
        "age_1 = 23\n",
        "centrolabores_1 = \"unsm\"\n",
        "experience_1 = 0\n",
        "\n",
        "info_personal_1 = [name_1, last_name_1, profesion_1, age_1, centrolabores_1, experience_1]\n",
        "print(f\"La lista info_personal contiene \\n {info_personal_1}\")"
      ],
      "metadata": {
        "id": "QfjqraUZxE8h",
        "outputId": "4726df27-edb5-419e-aa6e-89f7c7d3bdf6",
        "colab": {
          "base_uri": "https://localhost:8080/"
        }
      },
      "execution_count": null,
      "outputs": [
        {
          "output_type": "stream",
          "name": "stdout",
          "text": [
            "La lista info_personal contiene \n",
            " ['gianmarco', 'cardenas', 'estudiante', 23, 'unsm', 0]\n"
          ]
        }
      ]
    },
    {
      "cell_type": "code",
      "source": [
        "type(info_personal_1)"
      ],
      "metadata": {
        "id": "qzSveoy0Pjs2",
        "outputId": "56591a73-224b-4e24-871f-130ddff0fad3",
        "colab": {
          "base_uri": "https://localhost:8080/"
        }
      },
      "execution_count": null,
      "outputs": [
        {
          "output_type": "execute_result",
          "data": {
            "text/plain": [
              "list"
            ]
          },
          "metadata": {},
          "execution_count": 11
        }
      ]
    },
    {
      "cell_type": "code",
      "source": [
        "nombre = 'david'\n",
        "apellidoPaterno = 'allende'\n",
        "profesion = 'estadístico'\n",
        "edad = 37\n",
        "centroLabores = 'misd'\n",
        "aniosExperiencia = 13\n",
        "\n",
        "info_personal = [nombre, apellidoPaterno, profesion, edad, centroLabores, aniosExperiencia]"
      ],
      "metadata": {
        "id": "GaG9FW5Y27RN"
      },
      "execution_count": null,
      "outputs": []
    },
    {
      "cell_type": "code",
      "source": [
        "print(f\"La lista info_personal contiene \\n {info_personal}\")"
      ],
      "metadata": {
        "id": "aK6OVxAI3oUN",
        "outputId": "1d85def8-18e0-4619-f403-d3c3f4297ab7",
        "colab": {
          "base_uri": "https://localhost:8080/"
        }
      },
      "execution_count": null,
      "outputs": [
        {
          "output_type": "stream",
          "name": "stdout",
          "text": [
            "La lista info_personal contiene \n",
            " ['david', 'allende', 'estadístico', 37, 'misd', 13]\n"
          ]
        }
      ]
    },
    {
      "cell_type": "markdown",
      "source": [
        "## [4] Acceder a los elementos de una lista"
      ],
      "metadata": {
        "id": "7Bw-DDlF31UD"
      }
    },
    {
      "cell_type": "code",
      "source": [
        "materias = ['álgebra','aritmética','razonamiento verbal','trigonometría','geometría']"
      ],
      "metadata": {
        "id": "WFYgRar93v2D"
      },
      "execution_count": 3,
      "outputs": []
    },
    {
      "cell_type": "code",
      "source": [
        "print(f\"La lista materias contiene \\n {materias}\")\n",
        "print(f\"El primer elemento de la lista materias es {materias[0]}\")\n",
        "print(f\"El segundo elemento de la lista materias es {materias[1]}\")\n",
        "print(f\"El tercer elemento de la lista materias es {materias[2]}\")\n",
        "print(f\"El último elemento de la lista materias es {materias[-1].upper()}\")"
      ],
      "metadata": {
        "id": "lTC_xydf4VfA",
        "outputId": "0a653024-666a-4b0d-ed3a-37f83cc823fb",
        "colab": {
          "base_uri": "https://localhost:8080/"
        }
      },
      "execution_count": null,
      "outputs": [
        {
          "output_type": "stream",
          "name": "stdout",
          "text": [
            "La lista materias contiene \n",
            " ['álgebra', 'aritmética', 'razonamiento verbal', 'trigonometría', 'geometría']\n",
            "El primer elemento de la lista materias es álgebra\n",
            "El segundo elemento de la lista materias es aritmética\n",
            "El tercer elemento de la lista materias es razonamiento verbal\n",
            "El último elemento de la lista materias es GEOMETRÍA\n"
          ]
        }
      ]
    },
    {
      "cell_type": "code",
      "source": [
        "type(materias)"
      ],
      "metadata": {
        "id": "-qhGtVNmyLp6",
        "outputId": "ae929a87-71bd-4086-c5ca-a7491fdda28c",
        "colab": {
          "base_uri": "https://localhost:8080/"
        }
      },
      "execution_count": null,
      "outputs": [
        {
          "output_type": "execute_result",
          "data": {
            "text/plain": [
              "list"
            ]
          },
          "metadata": {},
          "execution_count": 16
        }
      ]
    },
    {
      "cell_type": "markdown",
      "source": [
        "### Actividad N003"
      ],
      "metadata": {
        "id": "q0AS9Dqx4wN2"
      }
    },
    {
      "cell_type": "code",
      "source": [
        "## SOLUCIÓN ACTIVIDAD N003\n"
      ],
      "metadata": {
        "id": "aFI0M3XO4oSb"
      },
      "execution_count": null,
      "outputs": []
    },
    {
      "cell_type": "code",
      "source": [
        "print(f\"La lista lugares: \\n {lugares}\")\n",
        "print(f\"El primer elemento de la lista lugares es {lugares[0]}\")\n",
        "print(f\"El primer elemento de la lista lugares (en mayúsculas) es {lugares[0].upper()}\")"
      ],
      "metadata": {
        "id": "-2v5LC1A5RKV",
        "outputId": "d6ed3c00-5c57-4f28-843b-f456b9e8e898",
        "colab": {
          "base_uri": "https://localhost:8080/"
        }
      },
      "execution_count": null,
      "outputs": [
        {
          "output_type": "stream",
          "name": "stdout",
          "text": [
            "La lista lugares: \n",
            " ['macchupichu', 'punta sal', 'pastoruri', 'laguna sauce', 'huacachina']\n",
            "El primer elemento de la lista lugares es macchupichu\n",
            "El primer elemento de la lista lugares (en mayúsculas) es MACCHUPICHU\n"
          ]
        }
      ]
    },
    {
      "cell_type": "code",
      "source": [
        "print(f\"La lista lugares: \\n {lugares_jorge}\")\n",
        "print(f\"El tercer elemento de la lista lugares es {lugares_jorge[2]}\")"
      ],
      "metadata": {
        "id": "dFraEHjiQ49l",
        "outputId": "ff528e69-ab81-4506-af22-2a526cb38727",
        "colab": {
          "base_uri": "https://localhost:8080/"
        }
      },
      "execution_count": null,
      "outputs": [
        {
          "output_type": "stream",
          "name": "stdout",
          "text": [
            "La lista lugares: \n",
            " ['Ayacucho', 'Chachapoyas', 'Arequipa', 'Cusco', 'Piura']\n",
            "El tercer elemento de la lista lugares es Arequipa\n"
          ]
        }
      ]
    },
    {
      "cell_type": "markdown",
      "source": [
        "### Actividad N004"
      ],
      "metadata": {
        "id": "oxmJ79pa57qM"
      }
    },
    {
      "cell_type": "code",
      "source": [
        "## SOLUCIÓN ACTIVIDAD N004\n",
        "print(f\"Hola me llamo {info_personal[0].capitalize()} {info_personal[1].capitalize()} soy {info_personal[2].capitalize()}, \\n tengo {info_personal[3]} años, trabajo en la empresa {info_personal[4].capitalize()} y \\n tengo {info_personal[5]} años de experiencia laboral\")"
      ],
      "metadata": {
        "id": "CeGQrfyY5frQ",
        "outputId": "0a6573f8-8ab1-4d4d-c7b6-4c2a3f7a9d0d",
        "colab": {
          "base_uri": "https://localhost:8080/"
        }
      },
      "execution_count": null,
      "outputs": [
        {
          "output_type": "stream",
          "name": "stdout",
          "text": [
            "Hola me llamo Jorge Cardenas soy Ingeniero industrial, \n",
            " tengo 33 años, trabajo en la empresa Fape y \n",
            " tengo 8 años de experiencia laboral\n"
          ]
        }
      ]
    },
    {
      "cell_type": "code",
      "source": [
        "print(f\"Hola me llamo {info_personal_1[0].capitalize()}) {info_personal_1[1].capitalize()} soy {info_personal_1[2]}, \\n tengo {info_personal_1[3]} años, trabajo en la empresa {info_personal_1[4].capitalize()}\")"
      ],
      "metadata": {
        "id": "AOWKX41D1jo0",
        "outputId": "a8ac2671-5531-44f0-9a85-47e2f1c06f21",
        "colab": {
          "base_uri": "https://localhost:8080/"
        }
      },
      "execution_count": null,
      "outputs": [
        {
          "output_type": "stream",
          "name": "stdout",
          "text": [
            "Hola me llamo Gianmarco) Cardenas soy estudiante, \n",
            " tengo 23 años, trabajo en la empresa Unsm\n"
          ]
        }
      ]
    },
    {
      "cell_type": "code",
      "source": [
        "print(f\"La lista materias contiene \\n{materias}\")\n",
        "print(f\"El último elemento de la lista es {materias[-1]}\")"
      ],
      "metadata": {
        "id": "l6kaEYDr6Sn_",
        "outputId": "95231401-93eb-4380-d4ad-8a5c9d1c9286",
        "colab": {
          "base_uri": "https://localhost:8080/"
        }
      },
      "execution_count": null,
      "outputs": [
        {
          "output_type": "stream",
          "name": "stdout",
          "text": [
            "La lista materias contiene \n",
            "['álgebra', 'aritmética', 'razonamiento verbal', 'trigonometría', 'geometría']\n",
            "El último elemento de la lista es geometría\n"
          ]
        }
      ]
    },
    {
      "cell_type": "markdown",
      "source": [
        "### Actividad N005"
      ],
      "metadata": {
        "id": "gXt3UlLD6j1I"
      }
    },
    {
      "cell_type": "code",
      "source": [
        "## SOLUCIÓN ACTIVIDAD N005\n",
        "marcas_jorge = [\"xiaomi\", \"lan\",\"coca cola\", \"apple\"]\n",
        "print(f\"La última marca es {marcas_jorge [-1].upper()}\")"
      ],
      "metadata": {
        "id": "Xw-NMtVe6aJ4",
        "outputId": "90966222-3880-4a81-84e3-a313af7b400d",
        "colab": {
          "base_uri": "https://localhost:8080/"
        }
      },
      "execution_count": 2,
      "outputs": [
        {
          "output_type": "stream",
          "name": "stdout",
          "text": [
            "La última marca es APPLE\n"
          ]
        }
      ]
    },
    {
      "cell_type": "markdown",
      "source": [
        "## [5] Modificar los elementos de una lista"
      ],
      "metadata": {
        "id": "9vPV8Ya06s84"
      }
    },
    {
      "cell_type": "code",
      "source": [
        "print(f\"La lista original de materias es \\n{materias}\")\n",
        "materias[1] = 'filosofía'\n",
        "print(f\"La lista actualizada de materias es \\n{materias}\")"
      ],
      "metadata": {
        "id": "qeD97ZwE6n4m",
        "outputId": "7d3a1fb9-0879-41f7-9045-c5ed7bc93f73",
        "colab": {
          "base_uri": "https://localhost:8080/"
        }
      },
      "execution_count": null,
      "outputs": [
        {
          "output_type": "stream",
          "name": "stdout",
          "text": [
            "La lista original de materias es \n",
            "['álgebra', 'aritmética', 'razonamiento verbal', 'trigonometría', 'geometría']\n",
            "La lista actualizada de materias es \n",
            "['álgebra', 'filosofía', 'razonamiento verbal', 'trigonometría', 'geometría']\n"
          ]
        }
      ]
    },
    {
      "cell_type": "markdown",
      "source": [
        "### Actividad N006"
      ],
      "metadata": {
        "id": "piyoQAzu7Pqv"
      }
    },
    {
      "cell_type": "code",
      "source": [
        "## SOLUCIÓN ACTIVIDAD N006\n",
        "print(f\"La empresa que trabajo actualmente es {info_personal[4].upper()}\")\n",
        "info_personal[4] = \"Alicorp\"\n",
        "print(f\"La empresa que me gustaría trabajar es {info_personal[4]}\")"
      ],
      "metadata": {
        "id": "cW_FXD7G7JI_",
        "outputId": "9938f71f-4121-4bd7-aaf6-c4f3e43a1166",
        "colab": {
          "base_uri": "https://localhost:8080/"
        }
      },
      "execution_count": null,
      "outputs": [
        {
          "output_type": "stream",
          "name": "stdout",
          "text": [
            "La empresa que trabajo actualmente es FAPE\n",
            "La empresa que me gustaría trabajar es Alicorp\n"
          ]
        }
      ]
    },
    {
      "cell_type": "markdown",
      "source": [
        "## [6] Añadir un elemento a una lista"
      ],
      "metadata": {
        "id": "nzRyoj8H7bMD"
      }
    },
    {
      "cell_type": "markdown",
      "source": [
        "### Método append"
      ],
      "metadata": {
        "id": "F5qgskxX79FW"
      }
    },
    {
      "cell_type": "code",
      "source": [
        "print(f\"La lista original es \\n{materias}\")\n",
        "materias.append('química')\n",
        "print(f\"La lista actualizada es \\n{materias}\")"
      ],
      "metadata": {
        "id": "5YeIR2kw7XTZ",
        "outputId": "4891f983-336b-4432-bdd0-be3640c5ea07",
        "colab": {
          "base_uri": "https://localhost:8080/"
        }
      },
      "execution_count": null,
      "outputs": [
        {
          "output_type": "stream",
          "name": "stdout",
          "text": [
            "La lista original es \n",
            "['álgebra', 'filosofía', 'razonamiento verbal', 'trigonometría', 'geometría']\n",
            "La lista actualizada es \n",
            "['álgebra', 'filosofía', 'razonamiento verbal', 'trigonometría', 'geometría', 'química']\n"
          ]
        }
      ]
    },
    {
      "cell_type": "markdown",
      "source": [
        "### Actividad N007"
      ],
      "metadata": {
        "id": "uKnBn9RX7zoB"
      }
    },
    {
      "cell_type": "code",
      "source": [
        "## SOLUCIÓN ACTIVIDA N007\n",
        "print(f\"La lista original es \\n{lugares_jorge}\")\n",
        "lugares_jorge.append('Loreto')\n",
        "print(f\"La lista actualizada es \\n{lugares_jorge}\")"
      ],
      "metadata": {
        "id": "f25BvpPa7vSw",
        "outputId": "efcb9abc-d5d7-4210-bdbc-7a17ea6ca9b4",
        "colab": {
          "base_uri": "https://localhost:8080/"
        }
      },
      "execution_count": null,
      "outputs": [
        {
          "output_type": "stream",
          "name": "stdout",
          "text": [
            "La lista original es \n",
            "['Ayacucho', 'Chachapoyas', 'Arequipa', 'Cusco', 'Piura']\n",
            "La lista actualizada es \n",
            "['Ayacucho', 'Chachapoyas', 'Arequipa', 'Cusco', 'Piura', 'Loreto']\n"
          ]
        }
      ]
    },
    {
      "cell_type": "markdown",
      "source": [
        "### Método insert"
      ],
      "metadata": {
        "id": "Ejv_9b5g8CKs"
      }
    },
    {
      "cell_type": "code",
      "source": [
        "print(f\"La lista de materias es \\n{materias}\")\n",
        "materias.insert(3,'física')\n",
        "print(f\"La lista de materias actualizada es \\n{materias}\")"
      ],
      "metadata": {
        "id": "jC1p2XUZ73wB",
        "outputId": "12d34289-e175-49b8-bd6e-9b2f6bf17b14",
        "colab": {
          "base_uri": "https://localhost:8080/"
        }
      },
      "execution_count": null,
      "outputs": [
        {
          "output_type": "stream",
          "name": "stdout",
          "text": [
            "La lista de materias es \n",
            "['álgebra', 'filosofía', 'razonamiento verbal', 'trigonometría', 'geometría', 'química']\n",
            "La lista de materias actualizada es \n",
            "['álgebra', 'filosofía', 'razonamiento verbal', 'física', 'trigonometría', 'geometría', 'química']\n"
          ]
        }
      ]
    },
    {
      "cell_type": "markdown",
      "source": [
        "### Actividad N008"
      ],
      "metadata": {
        "id": "DcgswlJf8ggw"
      }
    },
    {
      "cell_type": "code",
      "source": [
        "## SOLUCIÓN ACTIVIDAD N008\n",
        "info_personal"
      ],
      "metadata": {
        "id": "0xWkqsRR8azc",
        "outputId": "75d8e7bf-f028-4bf1-a8c4-f4fe2c0d7e60",
        "colab": {
          "base_uri": "https://localhost:8080/"
        }
      },
      "execution_count": null,
      "outputs": [
        {
          "output_type": "execute_result",
          "data": {
            "text/plain": [
              "['jorge', 'cardenas', 'ingeniero industrial', 33, 'Alicorp', 8]"
            ]
          },
          "metadata": {},
          "execution_count": 47
        }
      ]
    },
    {
      "cell_type": "code",
      "source": [
        "info_personal.insert(3,\"USIL\")"
      ],
      "metadata": {
        "id": "DAAPy_OqAOQK"
      },
      "execution_count": null,
      "outputs": []
    },
    {
      "cell_type": "code",
      "source": [
        "print(f\"Hola me llamo {info_personal[0].capitalize()} {info_personal[1].capitalize()} soy {info_personal[2].capitalize()}, \\n estudie en {info_personal[3]}, tengo {info_personal[4]} años, trabajo en la empresa {info_personal[5].capitalize()} y \\n tengo {info_personal[6]} años de experiencia laboral\")"
      ],
      "metadata": {
        "id": "piVLbDKEAo_l",
        "outputId": "9b50eb3f-c7ad-40c8-fad2-9e6a69203dc7",
        "colab": {
          "base_uri": "https://localhost:8080/"
        }
      },
      "execution_count": null,
      "outputs": [
        {
          "output_type": "stream",
          "name": "stdout",
          "text": [
            "Hola me llamo Jorge Cardenas soy Ingeniero industrial, \n",
            " estudie en USIL, tengo 33 años, trabajo en la empresa Alicorp y \n",
            " tengo 8 años de experiencia laboral\n"
          ]
        }
      ]
    },
    {
      "cell_type": "code",
      "source": [],
      "metadata": {
        "id": "CN0KPZmqAj6y"
      },
      "execution_count": null,
      "outputs": []
    },
    {
      "cell_type": "code",
      "source": [
        "del info_personal[4]"
      ],
      "metadata": {
        "id": "bjLHv0Fze07R"
      },
      "execution_count": null,
      "outputs": []
    },
    {
      "cell_type": "code",
      "source": [
        "info_personal"
      ],
      "metadata": {
        "id": "yT90Kj-XfKg8",
        "outputId": "2930d73e-cbef-402a-c6ce-f90c61f42fc6",
        "colab": {
          "base_uri": "https://localhost:8080/"
        }
      },
      "execution_count": null,
      "outputs": [
        {
          "output_type": "execute_result",
          "data": {
            "text/plain": [
              "['david', 'allende', 'estadístico', 37, 13]"
            ]
          },
          "metadata": {},
          "execution_count": 32
        }
      ]
    },
    {
      "cell_type": "markdown",
      "source": [
        "## [7] Remover los elementos de una lista"
      ],
      "metadata": {
        "id": "s2icJ_8C8scH"
      }
    },
    {
      "cell_type": "markdown",
      "source": [
        "### Método del"
      ],
      "metadata": {
        "id": "Oc8L61Ao9Vyt"
      }
    },
    {
      "cell_type": "code",
      "source": [
        "print(f\"La lista materias es \\n{materias}\")\n",
        "del materias[3]\n",
        "print(f\"La lista actualizada es \\n{materias}\")"
      ],
      "metadata": {
        "id": "1K-iK1NQ8kEf",
        "outputId": "385b9a98-5c14-4da2-cb1e-157a3b7513e9",
        "colab": {
          "base_uri": "https://localhost:8080/"
        }
      },
      "execution_count": null,
      "outputs": [
        {
          "output_type": "stream",
          "name": "stdout",
          "text": [
            "La lista materias es \n",
            "['álgebra', 'filosofía', 'razonamiento verbal', 'trigonometría', 'geometría', 'química']\n",
            "La lista actualizada es \n",
            "['álgebra', 'filosofía', 'razonamiento verbal', 'geometría', 'química']\n"
          ]
        }
      ]
    },
    {
      "cell_type": "markdown",
      "source": [
        "### Actividad N009"
      ],
      "metadata": {
        "id": "VFggpdYt9MR4"
      }
    },
    {
      "cell_type": "code",
      "source": [
        "## SOLUCIÓN ACTIVIDAD N009\n",
        "print(f\"La lista marcas es \\n{marcas_jorge}\")\n",
        "del marcas_jorge[2]\n",
        "print(f\"La lista marcas actualizada es \\n{marcas_jorge}\")"
      ],
      "metadata": {
        "id": "2j90g_Ct9Itc",
        "outputId": "76df2bd3-d7d7-4a14-9b93-71b97208ba99",
        "colab": {
          "base_uri": "https://localhost:8080/"
        }
      },
      "execution_count": null,
      "outputs": [
        {
          "output_type": "stream",
          "name": "stdout",
          "text": [
            "La lista marcas es \n",
            "['xiaomi', 'lan', 'coca cola', 'apple']\n",
            "La lista marcas actualizada es \n",
            "['xiaomi', 'lan', 'apple']\n"
          ]
        }
      ]
    },
    {
      "cell_type": "markdown",
      "source": [],
      "metadata": {
        "id": "itYsZtLr9a1y"
      }
    },
    {
      "cell_type": "markdown",
      "source": [
        "### Método pop"
      ],
      "metadata": {
        "id": "G_-05doA9ckW"
      }
    },
    {
      "cell_type": "code",
      "source": [
        "print(f\"La lista materias es \\n{materias}\")\n",
        "el_exc1 = materias.pop()\n",
        "print(f\"La lista materias actualizada es \\n{materias}\")"
      ],
      "metadata": {
        "id": "vzzIn2MP9QQ0",
        "outputId": "3c88a62d-d739-4267-e36f-a5b22e9a727a",
        "colab": {
          "base_uri": "https://localhost:8080/"
        }
      },
      "execution_count": null,
      "outputs": [
        {
          "output_type": "stream",
          "name": "stdout",
          "text": [
            "La lista materias es \n",
            "['álgebra', 'filosofía', 'razonamiento verbal', 'geometría', 'química']\n",
            "La lista materias actualizada es \n",
            "['álgebra', 'filosofía', 'razonamiento verbal', 'geometría']\n"
          ]
        }
      ]
    },
    {
      "cell_type": "code",
      "source": [
        "print(f\"El elemento eliminado de la lista materias, ubicado al final de la lista es {el_exc1}\")"
      ],
      "metadata": {
        "id": "_dYro6si9qDD",
        "outputId": "9f48c753-8167-4d67-e6c1-fd76cf8c42b3",
        "colab": {
          "base_uri": "https://localhost:8080/"
        }
      },
      "execution_count": null,
      "outputs": [
        {
          "output_type": "stream",
          "name": "stdout",
          "text": [
            "El elemento eliminado de la lista materias, ubicado al final de la lista es química\n"
          ]
        }
      ]
    },
    {
      "cell_type": "code",
      "source": [
        "el_exc2 = materias.pop(3)\n",
        "print(f\"El elemento eliminado de la lista materias, ubicado en la cuarta posición es {el_exc2}\")\n",
        "print(f\"La lista materias actualizada es \\n{materias}\")"
      ],
      "metadata": {
        "id": "X-w9D9Cf9wsE",
        "outputId": "fc83f486-d027-4efd-fc0b-9e432425b9b0",
        "colab": {
          "base_uri": "https://localhost:8080/"
        }
      },
      "execution_count": null,
      "outputs": [
        {
          "output_type": "stream",
          "name": "stdout",
          "text": [
            "El elemento eliminado de la lista materias, ubicado en la cuarta posición es geometría\n",
            "La lista materias actualizada es \n",
            "['álgebra', 'filosofía', 'razonamiento verbal']\n"
          ]
        }
      ]
    },
    {
      "cell_type": "markdown",
      "source": [
        "### Actividad N010"
      ],
      "metadata": {
        "id": "11c8mjWM-N4m"
      }
    },
    {
      "cell_type": "code",
      "source": [
        "## SOLUCIÓN ACTIVIDAD N010\n",
        "print(f\"La lista lugares es \\n{lugares_jorge}\")\n",
        "el_exc1 = lugares_jorge.pop()\n",
        "print(f\"La lista materias actualizada es \\n{lugares_jorge}\")"
      ],
      "metadata": {
        "id": "QhLPByTU-BPb",
        "outputId": "1b65206d-350a-4ce7-b407-084edfcab7e0",
        "colab": {
          "base_uri": "https://localhost:8080/"
        }
      },
      "execution_count": null,
      "outputs": [
        {
          "output_type": "stream",
          "name": "stdout",
          "text": [
            "La lista lugares es \n",
            "['Ayacucho', 'Chachapoyas', 'Arequipa', 'Cusco', 'Piura', 'Loreto']\n",
            "La lista materias actualizada es \n",
            "['Ayacucho', 'Chachapoyas', 'Arequipa', 'Cusco', 'Piura']\n"
          ]
        }
      ]
    },
    {
      "cell_type": "code",
      "source": [
        "## SOLUCIÓN ACTIVIDAD N010\n",
        "print(f\"La lista lugares es \\n{lugares_jorge}\")\n",
        "el_exc1 = lugares_jorge.pop(1)\n",
        "print(f\"La lista materias actualizada es \\n{lugares_jorge}\")"
      ],
      "metadata": {
        "id": "F3M3MfLrkQjI",
        "outputId": "14ed7d36-6e26-43f6-a083-a3120fb167ba",
        "colab": {
          "base_uri": "https://localhost:8080/"
        }
      },
      "execution_count": null,
      "outputs": [
        {
          "output_type": "stream",
          "name": "stdout",
          "text": [
            "La lista lugares es \n",
            "['Ayacucho', 'Chachapoyas', 'Arequipa', 'Cusco', 'Piura']\n",
            "La lista materias actualizada es \n",
            "['Ayacucho', 'Arequipa', 'Cusco', 'Piura']\n"
          ]
        }
      ]
    },
    {
      "cell_type": "code",
      "source": [
        "print(f\"El elemento eliminado de la lista lugares es {el_exc1}\")"
      ],
      "metadata": {
        "id": "x8OiyK78kgRS",
        "outputId": "311bf713-146c-4ec7-d1d2-9bd5cf918d26",
        "colab": {
          "base_uri": "https://localhost:8080/"
        }
      },
      "execution_count": null,
      "outputs": [
        {
          "output_type": "stream",
          "name": "stdout",
          "text": [
            "El elemento eliminado de la lista lugares es Chachapoyas\n"
          ]
        }
      ]
    },
    {
      "cell_type": "markdown",
      "source": [
        "### Método remove"
      ],
      "metadata": {
        "id": "GPviXjjh-WZr"
      }
    },
    {
      "cell_type": "code",
      "source": [
        "print(f\"La lista materias es \\n{materias}\")\n",
        "materias.remove('trigonometría')\n",
        "print(f\"La lista materias actualizada es \\n{materias}\")"
      ],
      "metadata": {
        "id": "tAxqSlE0-SDt",
        "outputId": "19193f25-fdfc-435c-b02a-0d541606fe5a",
        "colab": {
          "base_uri": "https://localhost:8080/"
        }
      },
      "execution_count": 5,
      "outputs": [
        {
          "output_type": "stream",
          "name": "stdout",
          "text": [
            "La lista materias es \n",
            "['álgebra', 'aritmética', 'razonamiento verbal', 'trigonometría', 'geometría']\n",
            "La lista materias actualizada es \n",
            "['álgebra', 'aritmética', 'razonamiento verbal', 'geometría']\n"
          ]
        }
      ]
    },
    {
      "cell_type": "markdown",
      "source": [
        "### Actividad N011"
      ],
      "metadata": {
        "id": "I7nsxzfd-oTV"
      }
    },
    {
      "cell_type": "code",
      "source": [
        "#Lista brands\n",
        "\n",
        "brands = [\"Coca Cola\", \"Apple\", \"IBM\", \"McDonalds\"]\n",
        "\n",
        "#Dada la lista marcas, remover el elemento que más usas\n",
        "\n",
        "print(f\"La lista original es \\n{brands}\")\n",
        "\n",
        "brands.remove('Apple')\n",
        "\n",
        "print(f\"La lista actualizada es \\n{brands}\")"
      ],
      "metadata": {
        "id": "SNSkworxESNx",
        "outputId": "f24b8913-6267-44f8-8f0f-6d98ca2a14af",
        "colab": {
          "base_uri": "https://localhost:8080/"
        }
      },
      "execution_count": 8,
      "outputs": [
        {
          "output_type": "stream",
          "name": "stdout",
          "text": [
            "La lista original es \n",
            "['Coca Cola', 'Apple', 'IBM', 'McDonalds']\n",
            "La lista actualizada es \n",
            "['Coca Cola', 'IBM', 'McDonalds']\n"
          ]
        }
      ]
    },
    {
      "cell_type": "code",
      "source": [
        "marcas_jorge"
      ],
      "metadata": {
        "id": "hma2t6XrGM8A",
        "outputId": "26efcda6-2bc5-4da4-a398-93dd9b96b572",
        "colab": {
          "base_uri": "https://localhost:8080/"
        }
      },
      "execution_count": null,
      "outputs": [
        {
          "output_type": "execute_result",
          "data": {
            "text/plain": [
              "['xiaomi', 'lan', 'apple']"
            ]
          },
          "metadata": {},
          "execution_count": 62
        }
      ]
    },
    {
      "cell_type": "code",
      "source": [
        "from os import remove\n",
        "## SOLUCIÓN ACTIVIDAD N011\n",
        "print(f\"Los elementos de la lista marcas es \\n{marcas_jorge}\")\n",
        "marcas_jorge.remove(\"xiaomi\")\n",
        "print(f\"Los elementos de la lista marcas actualiza es \\n{marcas_jorge}\")"
      ],
      "metadata": {
        "id": "i3RyrzJw-kCr",
        "outputId": "73350612-c15b-4592-a496-4874e3977747",
        "colab": {
          "base_uri": "https://localhost:8080/"
        }
      },
      "execution_count": null,
      "outputs": [
        {
          "output_type": "stream",
          "name": "stdout",
          "text": [
            "Los elementos de la lista marcas es \n",
            "['xiaomi', 'lan', 'apple']\n",
            "Los elementos de la lista marcas actualiza es \n",
            "['lan', 'apple']\n"
          ]
        }
      ]
    },
    {
      "cell_type": "markdown",
      "source": [
        "## [8] Ordenar los elementos de una lista"
      ],
      "metadata": {
        "id": "PMOmvQ1O-vz7"
      }
    },
    {
      "cell_type": "markdown",
      "source": [
        "### De manera permanente"
      ],
      "metadata": {
        "id": "2fdlt9Vc_weK"
      }
    },
    {
      "cell_type": "code",
      "source": [
        "print(f\"La lista materias es \\n{materias}\")\n",
        "materias.sort()\n",
        "print(f\"La lista materias actualizada es \\n{materias}\")\n"
      ],
      "metadata": {
        "id": "UCivu0jT-ryW",
        "outputId": "08e87edb-6f86-430d-9036-01a80e8e5fa1",
        "colab": {
          "base_uri": "https://localhost:8080/"
        }
      },
      "execution_count": 9,
      "outputs": [
        {
          "output_type": "stream",
          "name": "stdout",
          "text": [
            "La lista materias es \n",
            "['álgebra', 'aritmética', 'razonamiento verbal', 'geometría']\n",
            "La lista materias actualizada es \n",
            "['aritmética', 'geometría', 'razonamiento verbal', 'álgebra']\n"
          ]
        }
      ]
    },
    {
      "cell_type": "code",
      "source": [
        "print(f\"La lista lugares es \\n{lugares}\")\n",
        "lugares.sort(reverse=True)\n",
        "print(f\"La lista lugares actualizada es \\n{lugares}\")"
      ],
      "metadata": {
        "id": "rjkFon3L_Byz",
        "outputId": "8a7d570e-227e-4f6a-91b1-82a5de3f1396",
        "colab": {
          "base_uri": "https://localhost:8080/"
        }
      },
      "execution_count": 12,
      "outputs": [
        {
          "output_type": "stream",
          "name": "stdout",
          "text": [
            "La lista lugares es \n",
            "['macchupichu', 'punta sal', 'pastoruri', 'laguna sauce', 'huacachina']\n",
            "La lista lugares actualizada es \n",
            "['punta sal', 'pastoruri', 'macchupichu', 'laguna sauce', 'huacachina']\n"
          ]
        }
      ]
    },
    {
      "cell_type": "code",
      "source": [
        "materias[-1]"
      ],
      "metadata": {
        "id": "gYBmV8rdFn-H",
        "outputId": "067332ac-82a5-416b-dc90-d880a8ffb180",
        "colab": {
          "base_uri": "https://localhost:8080/",
          "height": 35
        }
      },
      "execution_count": 13,
      "outputs": [
        {
          "output_type": "execute_result",
          "data": {
            "text/plain": [
              "'álgebra'"
            ],
            "application/vnd.google.colaboratory.intrinsic+json": {
              "type": "string"
            }
          },
          "metadata": {},
          "execution_count": 13
        }
      ]
    },
    {
      "cell_type": "markdown",
      "source": [
        "### Actividad N012"
      ],
      "metadata": {
        "id": "jJh7CDJO_s2r"
      }
    },
    {
      "cell_type": "code",
      "source": [
        "## SOLUCIÓN ACTIVIDAD N012\n",
        "paises_jorge = [\"Peru\" , \"Dinamarca\", \"Australia\", \"Francia\", \"Bolivia\"]\n",
        "print(f\"La lista paises es \\n{paises_jorge}\")\n",
        "paises_jorge.sort()\n",
        "print(f\"La lista paises en orden ascendente es \\n{paises_jorge}\")\n",
        "paises_jorge.sort(reverse=True)\n",
        "print(f\"La lista paises en orden descendente es \\n{paises_jorge}\")"
      ],
      "metadata": {
        "id": "vvPtDflm_cNf",
        "outputId": "214185ff-36b8-48b8-cf43-13e9e76ffd54",
        "colab": {
          "base_uri": "https://localhost:8080/"
        }
      },
      "execution_count": 14,
      "outputs": [
        {
          "output_type": "stream",
          "name": "stdout",
          "text": [
            "La lista paises es \n",
            "['Peru', 'Dinamarca', 'Australia', 'Francia', 'Bolivia']\n",
            "La lista paises en orden ascendente es \n",
            "['Australia', 'Bolivia', 'Dinamarca', 'Francia', 'Peru']\n",
            "La lista paises en orden descendente es \n",
            "['Peru', 'Francia', 'Dinamarca', 'Bolivia', 'Australia']\n"
          ]
        }
      ]
    },
    {
      "cell_type": "markdown",
      "source": [
        "### De manera temporal"
      ],
      "metadata": {
        "id": "gpQQQ2ZU_6tG"
      }
    },
    {
      "cell_type": "code",
      "source": [
        "print(f\"La lista lugares es \\n{lugares}\")\n",
        "print(f\"\\nLa lista lugares actualizada es \\n{sorted(lugares)}\")\n",
        "print(f\"La lista lugares es \\n{lugares}\")"
      ],
      "metadata": {
        "id": "8V88UcQL_5Qb",
        "outputId": "378ac0a6-65ee-48fd-8834-caae9f3bf33d",
        "colab": {
          "base_uri": "https://localhost:8080/"
        }
      },
      "execution_count": 17,
      "outputs": [
        {
          "output_type": "stream",
          "name": "stdout",
          "text": [
            "La lista lugares es \n",
            "['punta sal', 'pastoruri', 'macchupichu', 'laguna sauce', 'huacachina']\n",
            "\n",
            "La lista lugares actualizada es \n",
            "['huacachina', 'laguna sauce', 'macchupichu', 'pastoruri', 'punta sal']\n",
            "La lista lugares es \n",
            "['punta sal', 'pastoruri', 'macchupichu', 'laguna sauce', 'huacachina']\n"
          ]
        }
      ]
    },
    {
      "cell_type": "code",
      "source": [
        "print(f\"La lista lugares es \\n{lugares}\")\n",
        "print(f\"\\nLa lista lugares actualizada es \\n{sorted(lugares,reverse=True)}\")\n",
        "print(f\"\\nLa lista lugares es \\n{lugares}\")"
      ],
      "metadata": {
        "id": "NbIEj-qrAI5R",
        "outputId": "c5eb8c0e-42d4-4c9c-ec82-2328b343a56a",
        "colab": {
          "base_uri": "https://localhost:8080/"
        }
      },
      "execution_count": 18,
      "outputs": [
        {
          "output_type": "stream",
          "name": "stdout",
          "text": [
            "La lista lugares es \n",
            "['punta sal', 'pastoruri', 'macchupichu', 'laguna sauce', 'huacachina']\n",
            "\n",
            "La lista lugares actualizada es \n",
            "['punta sal', 'pastoruri', 'macchupichu', 'laguna sauce', 'huacachina']\n",
            "\n",
            "La lista lugares es \n",
            "['punta sal', 'pastoruri', 'macchupichu', 'laguna sauce', 'huacachina']\n"
          ]
        }
      ]
    },
    {
      "cell_type": "code",
      "source": [
        "print(f\"La lista lugares es \\n{paises_jorge}\")\n",
        "print(f\"La lista lugares actualiazada es \\n{sorted(paises_jorge)}\")\n",
        "print(f\"La lista lugares actualizada es \\n{sorted(paises_jorge,reverse=True)}\")"
      ],
      "metadata": {
        "id": "WSlkj9l5jATz",
        "outputId": "5187380f-e773-4f8e-d3d6-105a6cc65433",
        "colab": {
          "base_uri": "https://localhost:8080/"
        }
      },
      "execution_count": null,
      "outputs": [
        {
          "output_type": "stream",
          "name": "stdout",
          "text": [
            "La lista lugares es \n",
            "['Peru', 'Francia', 'Dinamarca', 'Australia']\n",
            "La lista lugares actualiazada es \n",
            "['Australia', 'Dinamarca', 'Francia', 'Peru']\n",
            "La lista lugares actualizada es \n",
            "['Peru', 'Francia', 'Dinamarca', 'Australia']\n"
          ]
        }
      ]
    },
    {
      "cell_type": "code",
      "source": [
        "paises_jorge"
      ],
      "metadata": {
        "id": "5IKJoKRTHmdN",
        "outputId": "2bedb231-5a5d-4866-b901-29b4aeaeee14",
        "colab": {
          "base_uri": "https://localhost:8080/"
        }
      },
      "execution_count": 15,
      "outputs": [
        {
          "output_type": "execute_result",
          "data": {
            "text/plain": [
              "['Peru', 'Francia', 'Dinamarca', 'Bolivia', 'Australia']"
            ]
          },
          "metadata": {},
          "execution_count": 15
        }
      ]
    },
    {
      "cell_type": "markdown",
      "source": [
        "### Actividad N013"
      ],
      "metadata": {
        "id": "rDQF6aidAYLm"
      }
    },
    {
      "cell_type": "code",
      "source": [
        "## SOLUCIÓN ACTIVIDAD N013\n",
        "print(f\"La lista paises es \\n{paises_jorge}\")\n",
        "print(f\"La lista ordenada es \\n {sorted(paises_jorge)}\")"
      ],
      "metadata": {
        "id": "5gUbMvDKAQs2",
        "outputId": "9b74e341-7ab6-4c56-cd14-5fd85fdb2345",
        "colab": {
          "base_uri": "https://localhost:8080/"
        }
      },
      "execution_count": 23,
      "outputs": [
        {
          "output_type": "stream",
          "name": "stdout",
          "text": [
            "La lista paises es \n",
            "['Peru', 'Francia', 'Dinamarca', 'Bolivia', 'Australia']\n",
            "La lista ordenada es \n",
            " ['Australia', 'Bolivia', 'Dinamarca', 'Francia', 'Peru']\n"
          ]
        }
      ]
    },
    {
      "cell_type": "markdown",
      "source": [
        "## [9] Invertir los elementos de una lista"
      ],
      "metadata": {
        "id": "TCzgVFc2Adgi"
      }
    },
    {
      "cell_type": "code",
      "source": [
        "print(f\"La lista materias es \\n{materias}\")\n",
        "materias.reverse()\n",
        "print(f\"La lista materias actualizada es \\n{materias}\")"
      ],
      "metadata": {
        "id": "VfMEiCyEAb4e",
        "outputId": "ca95b9e6-cc26-43c6-f171-754bd53eb2b6",
        "colab": {
          "base_uri": "https://localhost:8080/"
        }
      },
      "execution_count": 24,
      "outputs": [
        {
          "output_type": "stream",
          "name": "stdout",
          "text": [
            "La lista materias es \n",
            "['aritmética', 'geometría', 'razonamiento verbal', 'álgebra']\n",
            "La lista materias actualizada es \n",
            "['álgebra', 'razonamiento verbal', 'geometría', 'aritmética']\n"
          ]
        }
      ]
    },
    {
      "cell_type": "code",
      "source": [
        "materias"
      ],
      "metadata": {
        "id": "h2m1soOUJA_m",
        "outputId": "164a405f-f70f-427a-f636-474e73af77c0",
        "colab": {
          "base_uri": "https://localhost:8080/"
        }
      },
      "execution_count": 25,
      "outputs": [
        {
          "output_type": "execute_result",
          "data": {
            "text/plain": [
              "['álgebra', 'razonamiento verbal', 'geometría', 'aritmética']"
            ]
          },
          "metadata": {},
          "execution_count": 25
        }
      ]
    },
    {
      "cell_type": "markdown",
      "source": [
        "### Actividad N014"
      ],
      "metadata": {
        "id": "BnpGEyXRAy9X"
      }
    },
    {
      "cell_type": "code",
      "source": [
        "## SOLUCIÓN ACTIVIDAD N014\n",
        "universidades = [\"pucp\", \"usil\", \"ulima\", \"usmp\", \"utec\"]\n",
        "print(f\"La lista universidades es \\n{universidades}\")\n",
        "universidades.reverse()\n",
        "print(f\"La lista universidades actualizada es \\n{universidades}\")\n",
        "print(f\"La lista universidades es \\n{universidades}\")"
      ],
      "metadata": {
        "id": "alT3g_kjAu_F",
        "outputId": "ef75b373-b6b4-4fee-c71c-3f2d7c10b8c4",
        "colab": {
          "base_uri": "https://localhost:8080/"
        }
      },
      "execution_count": 27,
      "outputs": [
        {
          "output_type": "stream",
          "name": "stdout",
          "text": [
            "La lista universidades es \n",
            "['pucp', 'usil', 'ulima', 'usmp', 'utec']\n",
            "La lista universidades actualizada es \n",
            "['utec', 'usmp', 'ulima', 'usil', 'pucp']\n",
            "La lista universidades es \n",
            "['utec', 'usmp', 'ulima', 'usil', 'pucp']\n"
          ]
        }
      ]
    },
    {
      "cell_type": "markdown",
      "source": [
        "## [10] Cuantificar los elementos de una lista"
      ],
      "metadata": {
        "id": "sQVSPLHcA53H"
      }
    },
    {
      "cell_type": "code",
      "source": [
        "print(f\"La lista lugares es \\n{lugares}\")\n",
        "print(f\"La cantidad de elementos de la lista lugares es {len(lugares)}\")"
      ],
      "metadata": {
        "id": "yW0-j-EaA4E0",
        "outputId": "3c4665a0-4670-4ad4-a189-e1da46df8a4c",
        "colab": {
          "base_uri": "https://localhost:8080/"
        }
      },
      "execution_count": 32,
      "outputs": [
        {
          "output_type": "stream",
          "name": "stdout",
          "text": [
            "La lista lugares es \n",
            "['punta sal', 'pastoruri', 'macchupichu', 'laguna sauce', 'huacachina']\n",
            "La cantidad de elementos de la lista lugares es 5\n"
          ]
        }
      ]
    },
    {
      "cell_type": "code",
      "source": [
        "print(f\"La cantidad de elementos de la lista lugares es {len(lugares)}\")"
      ],
      "metadata": {
        "id": "vIQ3HKpiLWr-",
        "outputId": "0d38f406-d667-496f-ed90-85193a92a0a0",
        "colab": {
          "base_uri": "https://localhost:8080/"
        }
      },
      "execution_count": 34,
      "outputs": [
        {
          "output_type": "stream",
          "name": "stdout",
          "text": [
            "La cantidad de elementos de la lista lugares es 5\n"
          ]
        }
      ]
    },
    {
      "cell_type": "markdown",
      "source": [
        "### Actividad N015"
      ],
      "metadata": {
        "id": "roDrSGHjBI-x"
      }
    },
    {
      "cell_type": "code",
      "source": [
        "## SOLUCIÓN ACTIVIDAD N015\n",
        "print(f\"La lista info personal  es \\n{info_personal}\")\n",
        "print(f\"La cantidad de elementos de la lista info personal es {len(info_personal)}\")"
      ],
      "metadata": {
        "id": "wXYtA8HzBG-6",
        "outputId": "1d09f66d-cd13-41da-e5a0-7b6e0a8d62e6",
        "colab": {
          "base_uri": "https://localhost:8080/"
        }
      },
      "execution_count": 36,
      "outputs": [
        {
          "output_type": "stream",
          "name": "stdout",
          "text": [
            "La lista info personal  es \n",
            "['jorge', 'cardenas', 'ingeniero industrial', 33, 'fape', 8]\n",
            "La cantidad de elementos de la lista info personal es 6\n"
          ]
        }
      ]
    },
    {
      "cell_type": "code",
      "source": [],
      "metadata": {
        "id": "izy_t_MQBNny"
      },
      "execution_count": null,
      "outputs": []
    }
  ]
}