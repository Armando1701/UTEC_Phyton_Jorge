{
  "nbformat": 4,
  "nbformat_minor": 0,
  "metadata": {
    "colab": {
      "provenance": [],
      "include_colab_link": true
    },
    "kernelspec": {
      "name": "python3",
      "display_name": "Python 3"
    },
    "language_info": {
      "name": "python"
    }
  },
  "cells": [
    {
      "cell_type": "markdown",
      "metadata": {
        "id": "view-in-github",
        "colab_type": "text"
      },
      "source": [
        "<a href=\"https://colab.research.google.com/github/Armando1701/UTEC_Phyton_Jorge/blob/main/mod1_trabajo_calificado_jorge_cardenas_misiones_de_codigo.ipynb\" target=\"_parent\"><img src=\"https://colab.research.google.com/assets/colab-badge.svg\" alt=\"Open In Colab\"/></a>"
      ]
    },
    {
      "cell_type": "markdown",
      "source": [
        "<img src=\"https://posgrado.utec.edu.pe/sites/default/files/2023-08/Testimonial-home-2.jpg\" alt=\"HTML5 Icon\" width=\"900\" height=\"250\" >\n"
      ],
      "metadata": {
        "id": "dYz-CyepUcRS"
      }
    },
    {
      "cell_type": "markdown",
      "source": [
        "# **Trabajo Calificado: Misiones de Código**"
      ],
      "metadata": {
        "id": "tYd6BiWgUfLo"
      }
    },
    {
      "cell_type": "markdown",
      "source": [
        "**Contexto:**\n",
        "\n",
        "Eres desarrollador de un Simulador de Aventuras llamado Pythonia, un entorno virtual de entrenamiento diseñado para mejorar tus habilidades de programación. En este simulador, enfrentarás una serie de desafíos basados en situaciones de videojuegos y escenarios de aventura, donde deberás aplicar estructuras lógicas, condicionales, bucles y funciones para resolver problemas.\n",
        "\n"
      ],
      "metadata": {
        "id": "GtjjVTFRU6W1"
      }
    },
    {
      "cell_type": "markdown",
      "source": [
        "Cada ejercicio representa un reto independiente que simula eventos comunes en el desarrollo de videojuegos, sistemas de simulación y lógica de juegos interactivos."
      ],
      "metadata": {
        "id": "Ggayz2SXVXjt"
      }
    },
    {
      "cell_type": "markdown",
      "source": [
        "**Recomendaciones:**\n",
        "\n",
        "Utilizar buenas prácticas: comentarios, entradas y salidas limpias.\n",
        "\n",
        "Uso de funciones donde sea necesario."
      ],
      "metadata": {
        "id": "eAL1_dscUjd_"
      }
    },
    {
      "cell_type": "markdown",
      "source": [
        "**Ejercicio 1: Elige tu personaje (Variables y Entrada/Salida)**\n",
        "\n",
        "Crea un programa que permita al jugador elegir su personaje entre Mago, Guerrero o Arquero. Según la elección, muestra un mensaje personalizado con las estadísticas iniciales (vida, poder, defensa)."
      ],
      "metadata": {
        "id": "YpxJc_PoVc4c"
      }
    },
    {
      "cell_type": "code",
      "source": [
        "## INICIO DE CÓDIGO\n",
        "\"\"\" Se solicita al usuario elegir un personaje\n",
        "varible \"Personaje\": Con operadores para evitar errores de espacios o minusculas o todo mayusculas\n",
        "Se está agregando a la lógica que si el usuario ingresa un persona no válido, se le informe\"\"\"\n",
        "\n",
        "Personaje = input(\"Elige tu personaje (Mago, Guerrero o Arquero): \").title().strip()\n",
        "if Personaje != \"Mago\" and Personaje != \"Guerrero\" and Personaje != \"Arquero\":\n",
        "  print(\"Personaje no válido, debe ingresar Mago, Guerrero o Arquero\")\n",
        "elif Personaje == \"Mago\":\n",
        "  print(f\"El personaje elegido es {Personaje}\")\n",
        "  print(\"Vida: 100, Poder: 50, Defensa: 20\")\n",
        "elif Personaje == \"Guerrero\":\n",
        "  print(f\"El personaje elegido es {Personaje}\")\n",
        "  print(\"Vida: 120, Poder: 30, Defensa: 30\")\n",
        "else:\n",
        "  print(f\"El personaje elegido es {Personaje}\")\n",
        "  print(\"Vida: 80, Poder: 40, Defensa: 40\")\n",
        "\n",
        "## FIN DE CÓDIGO"
      ],
      "metadata": {
        "id": "GZrzl-7wVfkW",
        "outputId": "dc563b6d-deee-46a6-fff2-6321d37e2f31",
        "colab": {
          "base_uri": "https://localhost:8080/"
        }
      },
      "execution_count": 48,
      "outputs": [
        {
          "output_type": "stream",
          "name": "stdout",
          "text": [
            "Elige tu personaje (Mago, Guerrero o Arquero): mago \n",
            "El personaje elegido es Mago\n",
            "Vida: 100, Poder: 50, Defensa: 20\n"
          ]
        }
      ]
    },
    {
      "cell_type": "markdown",
      "source": [
        "**Ejercicio 2: La prueba del sabio (Condicionales)**\n",
        "\n",
        "El sabio te hace una pregunta: si traes menos de 50 monedas de oro, te expulsará; si llevas entre 50 y 100, te permitirá pasar; si llevas más de 100, te dará una poción.\n",
        "Crea el programa que lea las monedas y muestre el resultado."
      ],
      "metadata": {
        "id": "kvoGwX-QVgPr"
      }
    },
    {
      "cell_type": "code",
      "execution_count": 77,
      "metadata": {
        "id": "3tg6KSK-UbUw",
        "outputId": "78a11f32-2c1a-4c71-8629-e8768cca84fb",
        "colab": {
          "base_uri": "https://localhost:8080/"
        }
      },
      "outputs": [
        {
          "output_type": "stream",
          "name": "stdout",
          "text": [
            "¿Que cantidad de monedas de oro has traído?: -50\n",
            "Cantidad de monedas no válida\n"
          ]
        }
      ],
      "source": [
        "## INICIO DE CÓDIGO\n",
        "\"\"\" Se solicita al usuario ingresar cantidad de monedas de oro\n",
        "varible \"quantity_monedas\": Con operador \"int\" para que se ingrese cantidades enteras\n",
        "Se está agregando a la lógica que si el usuario ingresa cantidad negativa, se le informe\"\"\"\n",
        "\n",
        "quantity_monedas = int(input(\"¿Que cantidad de monedas de oro has traído?: \"))\n",
        "if quantity_monedas < 0:\n",
        "  print(\"Cantidad de monedas no válida\")\n",
        "elif quantity_monedas < 50:\n",
        "  print(f\"Cómo has traído {quantity_monedas} monedas, has sido expulsado\")\n",
        "elif quantity_monedas >= 50 and quantity_monedas <= 100:\n",
        "  print(f\"Cómo has traído {quantity_monedas} monedas, puedes pasar\")\n",
        "else:\n",
        "  print(f\"Cómo has traído {quantity_monedas} monedas, has recibido una poción\")\n",
        "\n",
        "## FIN DE CÓDIGO"
      ]
    },
    {
      "cell_type": "markdown",
      "source": [
        "**Ejercicio 3: El puente infinito (Bucles While)**\n",
        "\n",
        "Diseña un programa que simule el cruce de un puente que cambia su estructura aleatoriamente. El jugador debe adivinar si el siguiente paso será seguro ('s') o peligroso ('p').\n",
        "El juego termina si el jugador elige 'salir' o si falla 3 veces."
      ],
      "metadata": {
        "id": "g7B02fWhVj4M"
      }
    },
    {
      "cell_type": "code",
      "source": [
        "## INICIO DE CÓDIGO\n",
        "\"\"\"\n",
        "Importe la libreria random, para luego utilizar randon.choice en la variable estructura\n",
        "Se utiliza el bucle While para los 3 intentos\n",
        "He avanzado hasta que el usuario pueda salir del juego y que continue jugando\n",
        "Pero no logro sumar la cantidad de veces que ha fallado para darle fin al juego\n",
        "\n",
        "\"\"\"\n",
        "import random\n",
        "intentos = 0\n",
        "next_step = 0\n",
        "while intentos < 3:\n",
        "  estructura = random.choice([\"S\",\"P\"])\n",
        "  next_step += 1\n",
        "  eleccion_jugador = input(f\"El {next_step} paso es S o P o salir: \").upper().strip()\n",
        "  if eleccion_jugador == \"SALIR\":\n",
        "    print(\"Has salido del juego\")\n",
        "    break\n",
        "  elif eleccion_jugador == estructura:\n",
        "    print(\"Has adivinado\")\n",
        "    continue\n",
        "  else:\n",
        "    print(\"Has fallado\")\n",
        "    intentos += 1\n",
        "    if intentos == 3:\n",
        "      print(\"Has fallado 3 veces, has perdido\")\n",
        "      break\n",
        "\n",
        "\n",
        "\n",
        "\n",
        "\n",
        "\n",
        "## FIN DE CÓDIGO"
      ],
      "metadata": {
        "id": "9DRMWhDBVn71",
        "outputId": "f2e5186c-107a-44ed-e513-738a86d97416",
        "colab": {
          "base_uri": "https://localhost:8080/"
        }
      },
      "execution_count": 162,
      "outputs": [
        {
          "output_type": "stream",
          "name": "stdout",
          "text": [
            "El 1 paso es S o P o salir: salir\n",
            "Has salido del juego\n"
          ]
        }
      ]
    },
    {
      "cell_type": "markdown",
      "source": [
        "**Ejercicio 4: El laberinto secreto (Bucle For y Range)**\n",
        "\n",
        "Crea un programa que muestre una cuenta regresiva desde 10 hasta 1 al estilo nivel de escape del laberinto. Cada número debe ir acompañado de un mensaje tipo \"Quedan X segundos para escapar\"."
      ],
      "metadata": {
        "id": "66qKXQwTVoZG"
      }
    },
    {
      "cell_type": "code",
      "source": [
        "## INICIO DE CÓDIGO\n",
        "\"\"\" Se coloca un rage pero como es de manera descentente, va desde 10 hasta 0, acompañando como un -1\n",
        "Luego se agrega un variable temporal i para mostrar los mensajes\"\"\"\n",
        "\n",
        "cuenta_regresiva = range(10,0,-1)\n",
        "for i in cuenta_regresiva:\n",
        "  print(f\"Quedan {i} segundos para escapar\")\n",
        "\n",
        "## FIN DE CÓDIGO"
      ],
      "metadata": {
        "id": "i1S9WPmhVsEj",
        "outputId": "bcd783cd-a06f-4c03-b87b-d29a64f8d2c3",
        "colab": {
          "base_uri": "https://localhost:8080/"
        }
      },
      "execution_count": 85,
      "outputs": [
        {
          "output_type": "stream",
          "name": "stdout",
          "text": [
            "Quedan 10 segundos para escapar\n",
            "Quedan 9 segundos para escapar\n",
            "Quedan 8 segundos para escapar\n",
            "Quedan 7 segundos para escapar\n",
            "Quedan 6 segundos para escapar\n",
            "Quedan 5 segundos para escapar\n",
            "Quedan 4 segundos para escapar\n",
            "Quedan 3 segundos para escapar\n",
            "Quedan 2 segundos para escapar\n",
            "Quedan 1 segundos para escapar\n"
          ]
        }
      ]
    },
    {
      "cell_type": "markdown",
      "source": [
        "**Ejercicio 5: Cofres encantados (Break y Continue)**\n",
        "\n",
        "Simula 10 cofres cerrados, pero uno de ellos es una trampa explosiva (elige aleatoriamente una posición).\n",
        "El jugador abre cofres uno por uno:\n",
        "\n",
        "* Si encuentra la trampa, termina el juego (break).\n",
        "\n",
        "* Si encuentra cofres vacíos, continúa (continue).\n",
        "\n",
        "* Si abre todos sin explotar, gana."
      ],
      "metadata": {
        "id": "5dL6C-x1VsYf"
      }
    },
    {
      "cell_type": "code",
      "source": [
        "\n",
        "## INICIO DE CÓDIGO\n",
        "\"\"\"\n",
        "Primero se importo la función randint de la libreria random\n",
        "----parámetros----\n",
        "cofre_explosivo: Un número aleatorio entre 1 y 10\n",
        "cofre_abierto: Un número ingresado por el usuario\n",
        "Si el usuario abre el cofre_explosivo se termino el juego\n",
        "Si el usuario abre un cofre vacío se continua\n",
        "Si el usuario abre todos los cofres sin el cofre_explosivo se gana\n",
        "\"\"\"\n",
        "from random import randint\n",
        "\n",
        "cofre_explosivo = randint(1,10)\n",
        "while True:\n",
        "  cofre_abierto = int(input(\"Ingresa el número del cofre que quieres abrir: \"))\n",
        "  if cofre_abierto == cofre_explosivo:\n",
        "    print(\"¡Has explotado, se termino el juego!\")\n",
        "    break\n",
        "  elif cofre_abierto != cofre_explosivo:\n",
        "    print(\"Has abierto un cofre vacío\")\n",
        "    continue\n",
        "  else:\n",
        "    print(\"¡Has ganado!\")\n",
        "    break\n",
        "## FIN DE CÓDIGO"
      ],
      "metadata": {
        "id": "UTVvaGo1TVYY",
        "outputId": "46eb273d-6c70-4a69-cbf1-a7323f3cea36",
        "colab": {
          "base_uri": "https://localhost:8080/"
        }
      },
      "execution_count": 131,
      "outputs": [
        {
          "output_type": "stream",
          "name": "stdout",
          "text": [
            "Ingresa el número del cofre que quieres abrir: 8\n",
            "Has abierto un cofre vacío\n",
            "Ingresa el número del cofre que quieres abrir: 2\n",
            "Has abierto un cofre vacío\n",
            "Ingresa el número del cofre que quieres abrir: 4\n",
            "Has abierto un cofre vacío\n",
            "Ingresa el número del cofre que quieres abrir: 9\n",
            "Has abierto un cofre vacío\n",
            "Ingresa el número del cofre que quieres abrir: 10\n",
            "Has abierto un cofre vacío\n",
            "Ingresa el número del cofre que quieres abrir: 4\n",
            "Has abierto un cofre vacío\n",
            "Ingresa el número del cofre que quieres abrir: 3\n",
            "¡Has explotado, se termino el juego!\n"
          ]
        }
      ]
    },
    {
      "cell_type": "markdown",
      "source": [
        "**Ejercicio 6: Pociones mágicas (Funciones básicas)**\n",
        "\n",
        "Crea una función usar_pocion(tipo) que permita al jugador elegir entre 'vida', 'fuerza' o 'velocidad', y retorne el efecto de la poción.\n",
        "Luego, pide al usuario que elija una poción y muestra el resultado llamando a la función."
      ],
      "metadata": {
        "id": "94yOz-rKV2gp"
      }
    },
    {
      "cell_type": "code",
      "source": [
        "## INICIO DE CÓDIGO\n",
        "\"\"\"\n",
        "Se utiliza def para indicar a Python que se está utilizando una función\n",
        "Nombre función: usar_pocion\n",
        "Parametros: tipo\n",
        "Return: Efecto de la poción\n",
        "\"\"\"\n",
        "def usar_pocion(tipo):\n",
        "  if tipo == \"vida\":\n",
        "    return 20\n",
        "  elif tipo == \"fuerza\":\n",
        "    return 15\n",
        "  elif tipo == \"velocidad\":\n",
        "    return 10\n",
        "  else:\n",
        "    return 0\n",
        "\n",
        "## FIN DE CÓDIGO"
      ],
      "metadata": {
        "id": "NQKm0w5iV4Zz"
      },
      "execution_count": 132,
      "outputs": []
    },
    {
      "cell_type": "code",
      "source": [
        "usar_pocion(\"fuerza\")"
      ],
      "metadata": {
        "id": "Vc9yV0RFam5V",
        "outputId": "1a580c95-317a-4d1c-f5eb-615578149ca5",
        "colab": {
          "base_uri": "https://localhost:8080/"
        }
      },
      "execution_count": 135,
      "outputs": [
        {
          "output_type": "execute_result",
          "data": {
            "text/plain": [
              "15"
            ]
          },
          "metadata": {},
          "execution_count": 135
        }
      ]
    },
    {
      "cell_type": "markdown",
      "source": [
        "**Ejercicio 7: Calculadora de daño crítico (Funciones con parámetros)**\n",
        "\n",
        "Crea una función calcular_danio(base, critico) que reciba el daño base y un porcentaje de crítico, devolviendo el daño total.\n",
        "El usuario ingresará el daño base y el porcentaje crítico."
      ],
      "metadata": {
        "id": "Qdnbnm4nV44h"
      }
    },
    {
      "cell_type": "code",
      "source": [
        "## INICIO DE CÓDIGO\n",
        "\"\"\"\n",
        "Se utiliza def para indicar a Python que se está utilizando una función\n",
        "Nombre función: calcular_daño\n",
        "Parametros: base, critico\n",
        "Return: daño_total\n",
        "\"\"\"\n",
        "def calcular_daño(base, critico):\n",
        "  daño_total = base + (base * critico)\n",
        "  return daño_total\n",
        "\n",
        "## FIN DE CÓDIGO"
      ],
      "metadata": {
        "id": "leaLQJWrV8Tx"
      },
      "execution_count": 139,
      "outputs": []
    },
    {
      "cell_type": "code",
      "source": [
        "calcular_daño(120, 0.5)"
      ],
      "metadata": {
        "id": "YmjYwsmcdcWL",
        "outputId": "d6951a0d-eeb1-4b5d-b716-833f77970493",
        "colab": {
          "base_uri": "https://localhost:8080/"
        }
      },
      "execution_count": 141,
      "outputs": [
        {
          "output_type": "execute_result",
          "data": {
            "text/plain": [
              "180.0"
            ]
          },
          "metadata": {},
          "execution_count": 141
        }
      ]
    },
    {
      "cell_type": "markdown",
      "source": [
        "**Ejercicio 8: El desafío del dragón (Condicionales + funciones + bucles)**\n",
        "\n",
        "Diseña una función enfrentar_dragon(vida, fuerza) que simule el combate:\n",
        "\n",
        "* El jugador ataca al dragón y el dragón contraataca restando vida.\n",
        "\n",
        "* Si la vida llega a 0, el jugador pierde.\n",
        "\n",
        "* Si el jugador realiza 3 ataques consecutivos sin morir, gana.\n",
        "Usa un bucle while interno para el combate."
      ],
      "metadata": {
        "id": "d4j1ckE2V9ag"
      }
    },
    {
      "cell_type": "code",
      "source": [
        "## INICIO DE CÓDIGO\n",
        "\"\"\"\n",
        "Este si no logre como hacerlo\n",
        "\n",
        "\"\"\"\n",
        "from random import randint\n",
        "\n",
        "def enfrentar_dragon(vida, ataques):\n",
        "\n",
        "\n",
        "\n",
        "\n",
        "\n",
        "## FIN DE CÓDIGO"
      ],
      "metadata": {
        "id": "_CGyWwuaWByi"
      },
      "execution_count": 163,
      "outputs": []
    },
    {
      "cell_type": "code",
      "source": [
        "enfrentar_dragon(100, 20)"
      ],
      "metadata": {
        "id": "iJa1K976jZ2t",
        "outputId": "9d75be06-c8c8-4016-e9ef-5357fe57db61",
        "colab": {
          "base_uri": "https://localhost:8080/",
          "height": 263
        }
      },
      "execution_count": 164,
      "outputs": [
        {
          "output_type": "error",
          "ename": "TypeError",
          "evalue": "'int' object is not iterable",
          "traceback": [
            "\u001b[0;31m---------------------------------------------------------------------------\u001b[0m",
            "\u001b[0;31mTypeError\u001b[0m                                 Traceback (most recent call last)",
            "\u001b[0;32m<ipython-input-164-32df657df5a8>\u001b[0m in \u001b[0;36m<cell line: 0>\u001b[0;34m()\u001b[0m\n\u001b[0;32m----> 1\u001b[0;31m \u001b[0menfrentar_dragon\u001b[0m\u001b[0;34m(\u001b[0m\u001b[0;36m100\u001b[0m\u001b[0;34m,\u001b[0m \u001b[0;36m20\u001b[0m\u001b[0;34m)\u001b[0m\u001b[0;34m\u001b[0m\u001b[0;34m\u001b[0m\u001b[0m\n\u001b[0m",
            "\u001b[0;32m<ipython-input-163-ea8973ac2d0d>\u001b[0m in \u001b[0;36menfrentar_dragon\u001b[0;34m(vida, ataques)\u001b[0m\n\u001b[1;32m      7\u001b[0m \u001b[0;34m\u001b[0m\u001b[0m\n\u001b[1;32m      8\u001b[0m \u001b[0;32mdef\u001b[0m \u001b[0menfrentar_dragon\u001b[0m\u001b[0;34m(\u001b[0m\u001b[0mvida\u001b[0m\u001b[0;34m,\u001b[0m \u001b[0mataques\u001b[0m\u001b[0;34m)\u001b[0m\u001b[0;34m:\u001b[0m\u001b[0;34m\u001b[0m\u001b[0;34m\u001b[0m\u001b[0m\n\u001b[0;32m----> 9\u001b[0;31m   \u001b[0;32mfor\u001b[0m \u001b[0mi\u001b[0m \u001b[0;32min\u001b[0m \u001b[0mataques\u001b[0m\u001b[0;34m:\u001b[0m\u001b[0;34m\u001b[0m\u001b[0;34m\u001b[0m\u001b[0m\n\u001b[0m\u001b[1;32m     10\u001b[0m     \u001b[0mataque_dragon\u001b[0m \u001b[0;34m=\u001b[0m \u001b[0mrandint\u001b[0m\u001b[0;34m(\u001b[0m\u001b[0;36m10\u001b[0m\u001b[0;34m,\u001b[0m\u001b[0;36m100\u001b[0m\u001b[0;34m)\u001b[0m\u001b[0;34m\u001b[0m\u001b[0;34m\u001b[0m\u001b[0m\n\u001b[1;32m     11\u001b[0m     \u001b[0mvida_jugador\u001b[0m \u001b[0;34m=\u001b[0m \u001b[0mataque_dragon\u001b[0m \u001b[0;34m-\u001b[0m \u001b[0mvida\u001b[0m\u001b[0;34m\u001b[0m\u001b[0;34m\u001b[0m\u001b[0m\n",
            "\u001b[0;31mTypeError\u001b[0m: 'int' object is not iterable"
          ]
        }
      ]
    },
    {
      "cell_type": "markdown",
      "source": [
        "**Ejercicio 9: El camino del héroe (Recursividad sencilla)**\n",
        "\n",
        "Crea una función recursiva que simule el camino de un héroe cruzando N obstáculos, mostrando mensajes como:\n",
        "\n",
        "\"Obstáculo 3: saltando...\"\n",
        "\n",
        "Termina cuando N llegue a 0."
      ],
      "metadata": {
        "id": "8X5Y08fQWCFU"
      }
    },
    {
      "cell_type": "code",
      "source": [
        "## INICIO DE CÓDIGO\n",
        "\n",
        "\"\"\"\n",
        "Funcion: cruzar_obstaculos (n)\n",
        "if: Si n es igual 0, se término\n",
        "else: Caso contrario que printee Obstaculo {n}\n",
        "finalmente para la recursividad se llama a la función con n-1\n",
        "\"\"\"\n",
        "\n",
        "def cruzar_obstaculos (n):\n",
        "  if n == 0:\n",
        "    print(\"Has llegado al final\")\n",
        "  else:\n",
        "    print(f\"Obstáculo {n}: saltando ....\")\n",
        "    cruzar_obstaculos(n-1)\n",
        "\n",
        "\n",
        "## FIN DE CÓDIGO"
      ],
      "metadata": {
        "id": "vVDjZHSVWJdQ"
      },
      "execution_count": 154,
      "outputs": []
    },
    {
      "cell_type": "code",
      "source": [
        "cruzar_obstaculos(6)"
      ],
      "metadata": {
        "id": "cEsM0ktdsIXL",
        "outputId": "e2c3b5dc-7292-43b6-8b2c-96c45ad86446",
        "colab": {
          "base_uri": "https://localhost:8080/"
        }
      },
      "execution_count": 155,
      "outputs": [
        {
          "output_type": "stream",
          "name": "stdout",
          "text": [
            "Obstáculo 6: saltando ....\n",
            "Obstáculo 5: saltando ....\n",
            "Obstáculo 4: saltando ....\n",
            "Obstáculo 3: saltando ....\n",
            "Obstáculo 2: saltando ....\n",
            "Obstáculo 1: saltando ....\n",
            "Has llegado al final\n"
          ]
        }
      ]
    },
    {
      "cell_type": "markdown",
      "source": [
        "**Ejercicio 10: Torre de los hechizos (Reto Integrador Final)**\n",
        "\n",
        "Crea un programa completo que combine:\n",
        "\n",
        "* Elección de personaje.\n",
        "\n",
        "* Simulación de un combate contra un enemigo con vida y defensa.\n",
        "\n",
        "* Uso de funciones para calcular el daño.\n",
        "\n",
        "* Bucles para turnos de combate.\n",
        "\n",
        "* Uso de una función recursiva que simule las rondas como niveles (nivel 1, 2, 3 hasta ganar).\n",
        "\n"
      ],
      "metadata": {
        "id": "Behbpl_8WJzR"
      }
    },
    {
      "cell_type": "code",
      "source": [
        "## INICIO DE CÓDIGO\n",
        "\n",
        "\"\"\"\n",
        "Estoy agregando la elección del personaje\n",
        "Variable = Personaje\n",
        "Utilizó input para que el usuario seleccione su personaje\n",
        "Se controla que el usuario elige entre las 3 opciones disponibles, caso contrario se le muestra un mensaje\n",
        "\n",
        "\"\"\"\n",
        "Personaje = input(\"Elige tu personaje (Mago, Guerrero o Arquero): \").title().strip()\n",
        "if Personaje != \"Mago\" and Personaje != \"Guerrero\" and Personaje != \"Arquero\":\n",
        "  print(\"Personaje no válido, debe ingresar Mago, Guerrero o Arquero\")\n",
        "\n",
        "\n",
        "\n",
        "## FIN DE CÓDIGO"
      ],
      "metadata": {
        "id": "smtLq1SDWTJd"
      },
      "execution_count": null,
      "outputs": []
    },
    {
      "cell_type": "markdown",
      "source": [
        "---\n",
        "\n",
        "# Gracias por completar este laboratorio!\n",
        "\n",
        "---\n"
      ],
      "metadata": {
        "id": "EONqoa25Wlx3"
      }
    }
  ]
}