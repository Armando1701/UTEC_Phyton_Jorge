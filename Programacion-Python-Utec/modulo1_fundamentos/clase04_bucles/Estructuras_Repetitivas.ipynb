{
  "nbformat": 4,
  "nbformat_minor": 0,
  "metadata": {
    "colab": {
      "provenance": [],
      "include_colab_link": true
    },
    "kernelspec": {
      "name": "python3",
      "display_name": "Python 3"
    },
    "language_info": {
      "name": "python"
    }
  },
  "cells": [
    {
      "cell_type": "markdown",
      "metadata": {
        "id": "view-in-github",
        "colab_type": "text"
      },
      "source": [
        "<a href=\"https://colab.research.google.com/github/Armando1701/UTEC_Phyton_Jorge/blob/main/Programacion-Python-Utec/modulo1_fundamentos/clase04_bucles/Estructuras_Repetitivas.ipynb\" target=\"_parent\"><img src=\"https://colab.research.google.com/assets/colab-badge.svg\" alt=\"Open In Colab\"/></a>"
      ]
    },
    {
      "cell_type": "markdown",
      "source": [
        "<img src=\"https://posgrado.utec.edu.pe/sites/default/files/2023-08/Testimonial-home-2.jpg\" alt=\"HTML5 Icon\" width=\"900\" height=\"250\" >\n"
      ],
      "metadata": {
        "id": "18v8Y4Ho6Coz"
      }
    },
    {
      "cell_type": "markdown",
      "source": [
        "# **Estructuras Repetitivas**\n"
      ],
      "metadata": {
        "id": "3aOR6rX86FIO"
      }
    },
    {
      "cell_type": "markdown",
      "source": [
        "**Objetivos**\n",
        "\n",
        "- Comprender el funcionamiento detallado de los bucles `while` y `for` en Python.\n",
        "- Controlar flujos repetitivos con banderas, `break` y `continue`.\n",
        "- Desarrollar habilidades prácticas en resolución de problemas utilizando estructuras repetitivas.\n",
        "\n",
        "---"
      ],
      "metadata": {
        "id": "yvkULT4_6OON"
      }
    },
    {
      "cell_type": "markdown",
      "source": [
        "**Contenido**\n",
        "\n",
        "- 1. Bucle `while`\n",
        "- 2. Dejar que el usuario decida cuándo salir\n",
        "- 3. Uso de bandera (flag)\n",
        "- 4. Uso de `break`\n",
        "- 5. Uso de `continue`\n",
        "- 6. Bucle `for`\n",
        "- 7. Bucle `for` con `range()`\n",
        "- 8. Ejercicios de reto final"
      ],
      "metadata": {
        "id": "vC9JHrQ06UNL"
      }
    },
    {
      "cell_type": "markdown",
      "source": [
        "## 1. Bucle `while`\n"
      ],
      "metadata": {
        "id": "oscManXk6ZmY"
      }
    },
    {
      "cell_type": "markdown",
      "source": [
        "El bucle `while` repite acciones mientras una condición sea verdadera. Es ideal cuando no sabemos previamente cuántas veces se repetirá.\n"
      ],
      "metadata": {
        "id": "U9GbyDk86bxp"
      }
    },
    {
      "cell_type": "code",
      "source": [
        "contador = 0\n",
        "while contador  < 10:\n",
        "  print(f\"El valor del contador es {contador}\")\n",
        "  contador += 1\n",
        "print(\"Bucle terminado\")\n"
      ],
      "metadata": {
        "id": "Hq_nf77za6q-",
        "outputId": "e80ae6c5-a98b-4e66-d852-98a7f811b239",
        "colab": {
          "base_uri": "https://localhost:8080/"
        }
      },
      "execution_count": 3,
      "outputs": [
        {
          "output_type": "stream",
          "name": "stdout",
          "text": [
            "El valor del contador es 0\n",
            "El valor del contador es 1\n",
            "El valor del contador es 2\n",
            "El valor del contador es 3\n",
            "El valor del contador es 4\n",
            "El valor del contador es 5\n",
            "El valor del contador es 6\n",
            "El valor del contador es 7\n",
            "El valor del contador es 8\n",
            "El valor del contador es 9\n",
            "Bucle terminado\n"
          ]
        }
      ]
    },
    {
      "cell_type": "markdown",
      "source": [
        "**Ejemplo 1.1**\n"
      ],
      "metadata": {
        "id": "deNpmxkP6e0D"
      }
    },
    {
      "cell_type": "code",
      "execution_count": 4,
      "metadata": {
        "id": "kyekYQu95xx9",
        "outputId": "a54634e7-d7ee-4f78-e879-b31a58ce4d42",
        "colab": {
          "base_uri": "https://localhost:8080/"
        }
      },
      "outputs": [
        {
          "output_type": "stream",
          "name": "stdout",
          "text": [
            "Número actual: 1\n",
            "Número actual: 2\n",
            "Número actual: 3\n",
            "Número actual: 4\n",
            "Número actual: 5\n",
            "Terminó el conteo.\n"
          ]
        }
      ],
      "source": [
        "contador = 1\n",
        "while contador <= 5:\n",
        "    print(f\"Número actual: {contador}\")\n",
        "    contador += 1\n",
        "print(\"Terminó el conteo.\")"
      ]
    },
    {
      "cell_type": "markdown",
      "source": [
        "**Ejercicio 1.1**\n",
        "\n",
        "Solicita al usuario un número y muestra todos los números desde 1 hasta ese número.\n",
        "\n"
      ],
      "metadata": {
        "id": "i9ktGgFL6iZv"
      }
    },
    {
      "cell_type": "code",
      "source": [
        "number = int(input(\"Ingresa tu número: \"))\n",
        "contador_actual = 1\n",
        "while contador_actual <= number:\n",
        "  print(f\"Numero actual es {contador_actual}\")\n",
        "  contador_actual += 1\n",
        "print(f\"Tu número favorito era {number}\")"
      ],
      "metadata": {
        "id": "yiIKKpaO6nfb",
        "outputId": "9371d02d-e397-490a-edaa-f7297de55c67",
        "colab": {
          "base_uri": "https://localhost:8080/"
        }
      },
      "execution_count": 16,
      "outputs": [
        {
          "output_type": "stream",
          "name": "stdout",
          "text": [
            "Ingresa tu número: 9\n",
            "Numero actual es 1\n",
            "Numero actual es 2\n",
            "Numero actual es 3\n",
            "Numero actual es 4\n",
            "Numero actual es 5\n",
            "Numero actual es 6\n",
            "Numero actual es 7\n",
            "Numero actual es 8\n",
            "Numero actual es 9\n",
            "Tu número favorito era 9\n"
          ]
        }
      ]
    },
    {
      "cell_type": "markdown",
      "source": [
        "**Ejercicio 1.2**\n",
        "\n",
        "Realiza un programa que solicite números hasta que la suma acumulada sea mayor o igual a 100.\n",
        "\n"
      ],
      "metadata": {
        "id": "BZlXT-y86n0X"
      }
    },
    {
      "cell_type": "code",
      "source": [
        "practica = 0\n",
        "while practica < 100:\n",
        "  i = int(input(\"Ingresa tu número: \"))\n",
        "  practica += i\n",
        "print(\"Juego terminado\")"
      ],
      "metadata": {
        "id": "unv7_Rev6w36",
        "outputId": "c9373722-9dc0-4370-9052-ab5199637f2b",
        "colab": {
          "base_uri": "https://localhost:8080/"
        }
      },
      "execution_count": 29,
      "outputs": [
        {
          "output_type": "stream",
          "name": "stdout",
          "text": [
            "Ingresa tu número: 15\n",
            "Ingresa tu número: 20\n",
            "Ingresa tu número: 30\n",
            "Ingresa tu número: 50\n",
            "Juego terminado\n"
          ]
        }
      ]
    },
    {
      "cell_type": "code",
      "source": [
        "N = int(input(\"Ingrese el valor límite: \"))\n",
        "m = int(input(\"Ingrese el valor del multiplicador: \"))\n",
        "\n",
        "\n",
        "if m > N:\n",
        "  print(f\"El valor de m no puede ser mayor que el número N\")\n",
        "else:\n",
        "  contador = 0\n",
        "  producto = 0\n",
        "  while producto < N:\n",
        "    producto = m * contador\n",
        "    if producto < N:\n",
        "      print(f\"{m} x {contador} = {producto}\")\n",
        "      contador += 1\n",
        "print(\"programa terminado\")"
      ],
      "metadata": {
        "id": "57utb9dhmUVY",
        "outputId": "3b1a2d9c-e451-4ac6-c0e5-e0ade2d1d320",
        "colab": {
          "base_uri": "https://localhost:8080/"
        }
      },
      "execution_count": 35,
      "outputs": [
        {
          "output_type": "stream",
          "name": "stdout",
          "text": [
            "Ingrese el valor límite: 30\n",
            "Ingrese el valor del multiplicador: 4\n",
            "4 x 0 = 0\n",
            "4 x 1 = 4\n",
            "4 x 2 = 8\n",
            "4 x 3 = 12\n",
            "4 x 4 = 16\n",
            "4 x 5 = 20\n",
            "4 x 6 = 24\n",
            "4 x 7 = 28\n",
            "programa terminado\n"
          ]
        }
      ]
    },
    {
      "cell_type": "markdown",
      "source": [
        "## 2. Dejar que el usuario decida cuándo salir\n"
      ],
      "metadata": {
        "id": "HiAtV2fe6zi-"
      }
    },
    {
      "cell_type": "markdown",
      "source": [
        "Permite al usuario controlar cuándo finalizar la ejecución del bucle mediante una entrada específica.\n"
      ],
      "metadata": {
        "id": "9TaTdlCp62Ln"
      }
    },
    {
      "cell_type": "code",
      "source": [
        "message_2 = ''\n",
        "while message_2 != \"salir\":\n",
        "  message_2 = input(\"Dime un mensaje y lo repetire o salir para terminar: \")\n",
        "  print(message_2)"
      ],
      "metadata": {
        "id": "suyLzj9u3D9c",
        "outputId": "6e268288-25fe-4d74-c2bc-63af3e9d405e",
        "colab": {
          "base_uri": "https://localhost:8080/"
        }
      },
      "execution_count": 38,
      "outputs": [
        {
          "output_type": "stream",
          "name": "stdout",
          "text": [
            "Dime un mensaje y lo repetire o salir para terminar: hola\n",
            "hola\n",
            "Dime un mensaje y lo repetire o salir para terminar: me esta costando aprender\n",
            "me esta costando aprender\n",
            "Dime un mensaje y lo repetire o salir para terminar: salir\n",
            "salir\n"
          ]
        }
      ]
    },
    {
      "cell_type": "markdown",
      "source": [
        "**Ejemplo 2.1**"
      ],
      "metadata": {
        "id": "X3ehnMdu63sF"
      }
    },
    {
      "cell_type": "code",
      "source": [
        "mensaje = ''\n",
        "while mensaje.lower() != 'salir':\n",
        "    mensaje = input(\"Escribe 'salir' para terminar: \")\n",
        "    if mensaje.lower() != 'salir':\n",
        "        print(f\"Ingresaste: {mensaje}\")\n",
        "print(\"Programa terminado.\")"
      ],
      "metadata": {
        "id": "9AXqylJZ67KJ"
      },
      "execution_count": null,
      "outputs": []
    },
    {
      "cell_type": "markdown",
      "source": [
        "**Ejercicio 2.1.**\n",
        "\n",
        "Crea un programa que permita introducir números indefinidamente hasta escribir \"fin\" y luego muestre la suma de todos los números ingresados.\n"
      ],
      "metadata": {
        "id": "1_ZsLH6U69XU"
      }
    },
    {
      "cell_type": "code",
      "source": [
        "i = \"\"\n",
        "contador = 0\n",
        "while i.lower().strip() != \"fin\":\n",
        "  i = input(\"Ingresa un número o fin para salir: \")\n",
        "  if i.lower().strip() != \"fin\":\n",
        "    contador += int(i)\n",
        "print(f\"La suma acumulada es {contador}\")"
      ],
      "metadata": {
        "id": "ZU5tnAfm7Bzt",
        "outputId": "0593163c-a8b1-418f-d71b-6a1f5aa25d9b",
        "colab": {
          "base_uri": "https://localhost:8080/"
        }
      },
      "execution_count": 61,
      "outputs": [
        {
          "output_type": "stream",
          "name": "stdout",
          "text": [
            "Ingresa un número o fin para salir: 1\n",
            "Ingresa un número o fin para salir: 2\n",
            "Ingresa un número o fin para salir: 3\n",
            "Ingresa un número o fin para salir: 4\n",
            "Ingresa un número o fin para salir: fin\n",
            "La suma acumulada es 10\n"
          ]
        }
      ]
    },
    {
      "cell_type": "markdown",
      "source": [
        "**Ejercicio 2.2.**\n",
        "\n",
        "Implementa un menú de opciones (mostrar, ingresar, salir) que repita hasta elegir salir.\n"
      ],
      "metadata": {
        "id": "EmhoSya87CI1"
      }
    },
    {
      "cell_type": "code",
      "source": [],
      "metadata": {
        "id": "EHTPcxGJ7H22"
      },
      "execution_count": null,
      "outputs": []
    },
    {
      "cell_type": "markdown",
      "source": [
        "## 3. Uso de bandera (flag)\n"
      ],
      "metadata": {
        "id": "uIYEi2vn7J_L"
      }
    },
    {
      "cell_type": "markdown",
      "source": [
        "Una bandera (`flag`) es una variable lógica usada para controlar cuándo debe finalizar un bucle.\n"
      ],
      "metadata": {
        "id": "YHe7O2jS7NCy"
      }
    },
    {
      "cell_type": "code",
      "source": [
        "active = True\n",
        "i = \"\"\n",
        "contador = 0\n",
        "while active:\n",
        "  i = input(\"Ingresa un número o fin para salir: \")\n",
        "  if i.lower().strip() != \"fin\":\n",
        "    contador += int(i)\n",
        "  else:\n",
        "    active = False\n",
        "print(f\"La suma acumulada es {contador}\")"
      ],
      "metadata": {
        "id": "2Q6Marq4EE5L",
        "outputId": "a3348d6b-fd66-498f-f131-ef2691aae67b",
        "colab": {
          "base_uri": "https://localhost:8080/"
        }
      },
      "execution_count": 64,
      "outputs": [
        {
          "output_type": "stream",
          "name": "stdout",
          "text": [
            "Ingresa un número o fin para salir: 1\n",
            "Ingresa un número o fin para salir: 2\n",
            "Ingresa un número o fin para salir: 3\n",
            "Ingresa un número o fin para salir: 4\n",
            "Ingresa un número o fin para salir: fiN\n",
            "La suma acumulada es 10\n"
          ]
        }
      ]
    },
    {
      "cell_type": "markdown",
      "source": [
        "**Ejemplo 3.1**"
      ],
      "metadata": {
        "id": "hrVhKmX_8K8X"
      }
    },
    {
      "cell_type": "code",
      "source": [
        "activo = True\n",
        "while activo:\n",
        "    opcion = input(\"Continuar (s/n): \")\n",
        "    if opcion.lower() == 'n':\n",
        "        activo = False\n",
        "print(\"Programa finalizado.\")"
      ],
      "metadata": {
        "id": "njCEJiY37PiC",
        "outputId": "c76a6f0e-d44a-4547-d132-b17f343d8aa6",
        "colab": {
          "base_uri": "https://localhost:8080/"
        }
      },
      "execution_count": 66,
      "outputs": [
        {
          "output_type": "stream",
          "name": "stdout",
          "text": [
            "Continuar (s/n): s\n",
            "Continuar (s/n): s\n",
            "Continuar (s/n): s\n",
            "Continuar (s/n): n\n",
            "Programa finalizado.\n"
          ]
        }
      ]
    },
    {
      "cell_type": "markdown",
      "source": [
        "**Ejercicio 3.1**\n",
        "\n",
        "Desarrolla un juego simple donde el usuario adivine un número secreto y use una bandera para determinar cuándo finalizar.\n"
      ],
      "metadata": {
        "id": "5_sLbMFD7SUj"
      }
    },
    {
      "cell_type": "code",
      "source": [
        "from random import randint"
      ],
      "metadata": {
        "id": "a26x6Fld7h7t"
      },
      "execution_count": 67,
      "outputs": []
    },
    {
      "cell_type": "code",
      "source": [
        "numero = randint(1,100)\n",
        "active = True\n",
        "\n",
        "while active:\n",
        "  intento = input(\"Adivina el número: \")\n",
        "  if intento == numero:\n",
        "    print(\"Adivinaste el número\")\n",
        "  elif int(intento) > numero:\n",
        "    print(\"El número a adivinar es menor\")\n",
        "  elif int(intento) < numero :\n",
        "    print(\"El número a adivinar es mayor\")\n",
        "  else:\n",
        "    active = False\n",
        "print(\"Juego terminado\")\n",
        "\n",
        "\n",
        "\n",
        "\n",
        ""
      ],
      "metadata": {
        "id": "XaFSfuiQFp6Z",
        "outputId": "332c5d35-e7ba-4e64-d0b5-35c511b51608",
        "colab": {
          "base_uri": "https://localhost:8080/"
        }
      },
      "execution_count": 85,
      "outputs": [
        {
          "output_type": "stream",
          "name": "stdout",
          "text": [
            "Adivina el número: 50\n",
            "El número a adivinar es mayor\n",
            "Adivina el número: 60\n",
            "El número a adivinar es mayor\n",
            "Adivina el número: 80\n",
            "El número a adivinar es menor\n",
            "Adivina el número: 75\n",
            "El número a adivinar es mayor\n",
            "Adivina el número: 78\n",
            "El número a adivinar es menor\n",
            "Adivina el número: 79\n",
            "El número a adivinar es menor\n",
            "Adivina el número: 77\n",
            "El número a adivinar es menor\n",
            "Adivina el número: 76\n",
            "Juego terminado\n"
          ]
        }
      ]
    },
    {
      "cell_type": "code",
      "source": [
        "numero"
      ],
      "metadata": {
        "id": "43bvRFHIHzRN",
        "outputId": "90dabef8-d45e-407a-e49a-09ce12eca516",
        "colab": {
          "base_uri": "https://localhost:8080/"
        }
      },
      "execution_count": 86,
      "outputs": [
        {
          "output_type": "execute_result",
          "data": {
            "text/plain": [
              "76"
            ]
          },
          "metadata": {},
          "execution_count": 86
        }
      ]
    },
    {
      "cell_type": "code",
      "source": [
        "numero = randint(1,100)\n",
        "\n",
        "while True:\n",
        "  response = int(input(\"Adivina el número entre [1-100]: \"))\n",
        "  if response == numero:\n",
        "    response = input(print(\"Felicidades adivinaste el número, desea jugar de nuevo? (y): \"))\n",
        "    if response == \"y\":\n",
        "      numero = randint(1,100)\n",
        "      continue\n",
        "    else:\n",
        "      break\n",
        "  elif response < numero:\n",
        "    print(\"El número a adivinar es mayor\")\n",
        "  else:\n",
        "    print(\"El número a adivinar es menor\")\n",
        "\n"
      ],
      "metadata": {
        "id": "E71P3zCPOpux",
        "outputId": "0cd3b4b0-55b8-45a9-e756-c8df25bdd819",
        "colab": {
          "base_uri": "https://localhost:8080/"
        }
      },
      "execution_count": 93,
      "outputs": [
        {
          "name": "stdout",
          "output_type": "stream",
          "text": [
            "Adivina el número entre [1-100]: 60\n",
            "El número a adivinar es mayor\n",
            "Adivina el número entre [1-100]: 80\n",
            "El número a adivinar es mayor\n",
            "Adivina el número entre [1-100]: 90\n",
            "El número a adivinar es mayor\n",
            "Adivina el número entre [1-100]: 99\n",
            "El número a adivinar es menor\n",
            "Adivina el número entre [1-100]: 95\n",
            "El número a adivinar es mayor\n",
            "Adivina el número entre [1-100]: 96\n",
            "El número a adivinar es mayor\n",
            "Adivina el número entre [1-100]: 97\n",
            "El número a adivinar es mayor\n",
            "Adivina el número entre [1-100]: 98\n",
            "Felicidades adivinaste el número, desea jugar de nuevo? (y): \n",
            "Noney\n",
            "Adivina el número entre [1-100]: 98\n",
            "Felicidades adivinaste el número, desea jugar de nuevo? (y): \n",
            "Noney\n",
            "Adivina el número entre [1-100]: 98\n",
            "Felicidades adivinaste el número, desea jugar de nuevo? (y): \n",
            "Nonen\n"
          ]
        }
      ]
    },
    {
      "cell_type": "markdown",
      "source": [
        "**Ejercicio 3.2**\n",
        "\n",
        "\n",
        "Crea un simulador de encuestas que registre respuestas hasta que el usuario indique explícitamente que desea detenerse.\n"
      ],
      "metadata": {
        "id": "KtLRZMCf7iZ6"
      }
    },
    {
      "cell_type": "code",
      "source": [],
      "metadata": {
        "id": "NF-Pza0K7l0_"
      },
      "execution_count": 89,
      "outputs": []
    },
    {
      "cell_type": "markdown",
      "source": [],
      "metadata": {
        "id": "p_tM9Laf7mNx"
      }
    },
    {
      "cell_type": "markdown",
      "source": [
        "## 4. Uso de `break`\n"
      ],
      "metadata": {
        "id": "bQ49vDpd7nxl"
      }
    },
    {
      "cell_type": "markdown",
      "source": [
        "El comando `break` interrumpe inmediatamente la ejecución del bucle actual y continúa con el código siguiente fuera del bucle.\n"
      ],
      "metadata": {
        "id": "mNi_oK2e7p7h"
      }
    },
    {
      "cell_type": "markdown",
      "source": [
        "**Ejemplo 4.1**"
      ],
      "metadata": {
        "id": "i_NeJak88Mit"
      }
    },
    {
      "cell_type": "code",
      "source": [
        "n = -1\n",
        "while n <= 20:\n",
        "  n += 1\n",
        "  if n%2 == 0:\n",
        "    print(n)\n",
        "  else:\n",
        "    continue"
      ],
      "metadata": {
        "id": "FhcuVuWXM8zf",
        "outputId": "3be6d07d-2faa-4b7d-e32e-3693946af20a",
        "colab": {
          "base_uri": "https://localhost:8080/"
        }
      },
      "execution_count": 89,
      "outputs": [
        {
          "output_type": "stream",
          "name": "stdout",
          "text": [
            "0\n",
            "2\n",
            "4\n",
            "6\n",
            "8\n",
            "10\n",
            "12\n",
            "14\n",
            "16\n",
            "18\n",
            "20\n"
          ]
        }
      ]
    },
    {
      "cell_type": "code",
      "source": [
        "while True:\n",
        "    contraseña = input(\"Introduce la contraseña: \")\n",
        "    if contraseña == '1234':\n",
        "        print(\"Acceso concedido.\")\n",
        "        break\n",
        "    print(\"Contraseña incorrecta, inténtalo de nuevo.\")"
      ],
      "metadata": {
        "id": "SZ3NAl_D7r7O"
      },
      "execution_count": null,
      "outputs": []
    },
    {
      "cell_type": "markdown",
      "source": [
        "**Ejercicio 4.1.**\n",
        "\n",
        "Programa una simulación de un cajero automático que finalice inmediatamente al ingresar el pin correcto.\n",
        "\n"
      ],
      "metadata": {
        "id": "blY9Uyi_7sYT"
      }
    },
    {
      "cell_type": "code",
      "source": [],
      "metadata": {
        "id": "luLubC-j70yf"
      },
      "execution_count": null,
      "outputs": []
    },
    {
      "cell_type": "markdown",
      "source": [
        "**Ejercicio 4.2.**\n",
        "\n",
        "Implementa un sistema que detenga la ejecución de un ciclo al detectar un número primo.\n"
      ],
      "metadata": {
        "id": "OMwgGQtN71pn"
      }
    },
    {
      "cell_type": "code",
      "source": [],
      "metadata": {
        "id": "lXAsluPh71FK"
      },
      "execution_count": null,
      "outputs": []
    },
    {
      "cell_type": "markdown",
      "source": [
        "## 5. Uso de `continue`\n"
      ],
      "metadata": {
        "id": "n3_A0xyy74E8"
      }
    },
    {
      "cell_type": "markdown",
      "source": [
        "El comando `continue` permite saltar la iteración actual y continuar directamente con la siguiente iteración del bucle.\n"
      ],
      "metadata": {
        "id": "k8xvQ7RF77Rc"
      }
    },
    {
      "cell_type": "markdown",
      "source": [
        "**Ejemplo 5.1**"
      ],
      "metadata": {
        "id": "SPFNjXXg8N5c"
      }
    },
    {
      "cell_type": "code",
      "source": [
        "for numero in range(10):\n",
        "    if numero % 2 == 0:\n",
        "        continue\n",
        "    print(numero, \"es impar.\")"
      ],
      "metadata": {
        "id": "z7ojd6o875S7"
      },
      "execution_count": null,
      "outputs": []
    },
    {
      "cell_type": "markdown",
      "source": [
        "**Ejercicio 5.1.**\n",
        "\n",
        "Crea un programa que pida números pero ignore (no los imprima) aquellos que sean múltiplos de 5.\n"
      ],
      "metadata": {
        "id": "2ANEL3x77_aA"
      }
    },
    {
      "cell_type": "code",
      "source": [],
      "metadata": {
        "id": "JPcGOsFw8G6y"
      },
      "execution_count": null,
      "outputs": []
    },
    {
      "cell_type": "markdown",
      "source": [
        "\n",
        "**Ejercicio 5.2.**\n",
        "\n",
        "Solicita al usuario 7 números y muestra solamente aquellos que sean positivos."
      ],
      "metadata": {
        "id": "OfzwakeO79WP"
      }
    },
    {
      "cell_type": "code",
      "source": [],
      "metadata": {
        "id": "bPww6bOQ8IAY"
      },
      "execution_count": null,
      "outputs": []
    },
    {
      "cell_type": "markdown",
      "source": [
        "## 6. Bucle `for`\n"
      ],
      "metadata": {
        "id": "7OcruVUY8R0h"
      }
    },
    {
      "cell_type": "markdown",
      "source": [
        "El bucle `for` recorre elementos de una secuencia conocida, permitiendo automatizar tareas repetitivas sobre listas, cadenas o cualquier secuencia iterable.\n"
      ],
      "metadata": {
        "id": "vIK_1Oz18Wg0"
      }
    },
    {
      "cell_type": "markdown",
      "source": [
        "**Ejemplo 6.1**"
      ],
      "metadata": {
        "id": "T5idR_D48UeL"
      }
    },
    {
      "cell_type": "code",
      "source": [
        "colores = ['rojo', 'verde', 'azul']\n",
        "for color in colores:\n",
        "    print(\"El color es\", color)"
      ],
      "metadata": {
        "id": "oQAKORFj8aol"
      },
      "execution_count": null,
      "outputs": []
    },
    {
      "cell_type": "markdown",
      "source": [
        "**Ejercicio 6.1.**\n",
        "\n",
        "Solicita 5 nombres y salúdalos individualmente usando un bucle `for`.\n"
      ],
      "metadata": {
        "id": "nSKYPrkA8dMT"
      }
    },
    {
      "cell_type": "code",
      "source": [],
      "metadata": {
        "id": "c9tmoekN8jco"
      },
      "execution_count": null,
      "outputs": []
    },
    {
      "cell_type": "markdown",
      "source": [
        "**Ejercicio 6.2.**\n",
        "\n",
        "Recorre una cadena de texto e imprime solo las letras vocales.\n"
      ],
      "metadata": {
        "id": "kpS-l4598jxI"
      }
    },
    {
      "cell_type": "code",
      "source": [],
      "metadata": {
        "id": "cAbGJKPi8orn"
      },
      "execution_count": null,
      "outputs": []
    },
    {
      "cell_type": "markdown",
      "source": [
        "## 7. Bucle `for` con `range()`\n"
      ],
      "metadata": {
        "id": "gq6iDWD88oPL"
      }
    },
    {
      "cell_type": "markdown",
      "source": [
        "La función `range()` genera una secuencia numérica ideal para controlar iteraciones con límites definidos.\n"
      ],
      "metadata": {
        "id": "F9nu8pBa8rQg"
      }
    },
    {
      "cell_type": "markdown",
      "source": [
        "**Ejemplo 7.1.**"
      ],
      "metadata": {
        "id": "W7FY33Xo8tMd"
      }
    },
    {
      "cell_type": "code",
      "source": [
        "for i in range(1, 6):\n",
        "    print(f\"Número: {i}\")"
      ],
      "metadata": {
        "id": "cu5H61Fm8szL"
      },
      "execution_count": null,
      "outputs": []
    },
    {
      "cell_type": "markdown",
      "source": [
        "**Ejercicio 7.1.**\n",
        "\n",
        "Realiza un programa que imprima todos los números pares entre 1 y 50.\n",
        "\n"
      ],
      "metadata": {
        "id": "W_t1FFCT8w83"
      }
    },
    {
      "cell_type": "code",
      "source": [],
      "metadata": {
        "id": "doe0H_jb86Ij"
      },
      "execution_count": null,
      "outputs": []
    },
    {
      "cell_type": "markdown",
      "source": [
        "**Ejercicio 7.2.**\n",
        "\n",
        "Usa `range()` para calcular y mostrar la suma de los primeros 20 números naturales.\n",
        "\n"
      ],
      "metadata": {
        "id": "J1D5oHeZ86ga"
      }
    },
    {
      "cell_type": "code",
      "source": [],
      "metadata": {
        "id": "go4Vvtnt87qz"
      },
      "execution_count": null,
      "outputs": []
    },
    {
      "cell_type": "markdown",
      "source": [
        "\n",
        "**Ejercicio 7.3.**\n",
        "\n",
        "Crea un programa que muestre una cuenta regresiva desde 15 hasta 0 con un mensaje especial en cero."
      ],
      "metadata": {
        "id": "7b7oby7_879-"
      }
    },
    {
      "cell_type": "markdown",
      "source": [
        "---\n",
        "\n",
        "## Ejercicios adicionales\n",
        "\n",
        "1. Simula un sistema de votación que cuente votos hasta que el usuario decida terminar y muestre el total.\n",
        "\n",
        "2. Crea un juego en el que el usuario adivine un número generado aleatoriamente con límite de intentos.\n",
        "\n",
        "3. Desarrolla un programa que imprima la tabla de multiplicar de cualquier número ingresado por el usuario.\n",
        "\n",
        "4. Realiza un programa que solicite números continuamente hasta que ingrese un número negativo y luego muestre la cantidad de números ingresados.\n",
        "\n",
        "5. Simula un cronómetro que imprima los segundos hasta llegar a un tiempo ingresado por el usuario.\n",
        "\n",
        "6. Pide al usuario una palabra e imprime sus letras alternando mayúsculas y minúsculas.\n",
        "\n",
        "7. Implementa un buscador que solicite nombres continuamente y los almacene en una lista hasta que el usuario escriba \"salir\".\n",
        "\n",
        "8. Solicita al usuario números y determina cuántos números primos se han ingresado al finalizar la entrada de datos.\n",
        "\n",
        "---"
      ],
      "metadata": {
        "id": "1DwFMbVi8-Uj"
      }
    },
    {
      "cell_type": "markdown",
      "source": [
        "## Conclusión\n",
        "\n",
        "A lo largo de este laboratorio, aprendiste cómo usar estructuras repetitivas para automatizar tareas, controlar condiciones dinámicas y solucionar problemas complejos de forma eficiente y clara en Python. Estas habilidades son esenciales para la programación estructurada y eficiente.\n"
      ],
      "metadata": {
        "id": "4AfCerGB9Hjl"
      }
    },
    {
      "cell_type": "markdown",
      "source": [
        "---\n",
        "\n",
        "# Gracias por completar este laboratorio!\n",
        "\n",
        "---\n"
      ],
      "metadata": {
        "id": "uPP5akR29Iub"
      }
    }
  ]
}