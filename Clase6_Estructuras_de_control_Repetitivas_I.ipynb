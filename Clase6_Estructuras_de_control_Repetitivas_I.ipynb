{
  "nbformat": 4,
  "nbformat_minor": 0,
  "metadata": {
    "colab": {
      "provenance": [],
      "include_colab_link": true
    },
    "kernelspec": {
      "name": "python3",
      "display_name": "Python 3"
    },
    "language_info": {
      "name": "python"
    }
  },
  "cells": [
    {
      "cell_type": "markdown",
      "metadata": {
        "id": "view-in-github",
        "colab_type": "text"
      },
      "source": [
        "<a href=\"https://colab.research.google.com/github/Armando1701/UTEC_Phyton_Jorge/blob/main/Clase6_Estructuras_de_control_Repetitivas_I.ipynb\" target=\"_parent\"><img src=\"https://colab.research.google.com/assets/colab-badge.svg\" alt=\"Open In Colab\"/></a>"
      ]
    },
    {
      "cell_type": "markdown",
      "source": [
        "# 1. Introducción a Diccionarios"
      ],
      "metadata": {
        "id": "ZXZB5T0_yOyz"
      }
    },
    {
      "cell_type": "markdown",
      "source": [
        "**¿Qué es un diccionario?**\n",
        "\n",
        "Es una colección de datos en formato clave: valor.\n",
        "\n",
        "Permite acceder a la información mediante claves, no por posición como las listas.\n",
        "\n"
      ],
      "metadata": {
        "id": "IYQZoyHT2EIY"
      }
    },
    {
      "cell_type": "markdown",
      "source": [
        "**¿Para qué sirve?**\n",
        "\n",
        "Ideal para representar objetos del mundo real.\n",
        "\n",
        "Muy útil en el sector financiero para almacenar datos de clientes, productos financieros, tasas, etc."
      ],
      "metadata": {
        "id": "RtUMR-2i2NoZ"
      }
    },
    {
      "cell_type": "markdown",
      "source": [
        "Ejemplo:"
      ],
      "metadata": {
        "id": "f7P8f-Xp2Vxd"
      }
    },
    {
      "cell_type": "code",
      "source": [
        "cliente = {\n",
        "    \"nombre\": \"Ana\",\n",
        "    \"edad\": 35,\n",
        "    \"ingreso\": 4500,\n",
        "    \"morosidades\": 0\n",
        "}\n",
        "print(cliente[\"nombre\"])  # Acceder al ingreso del cliente"
      ],
      "metadata": {
        "id": "XoMaweyb2JzS",
        "colab": {
          "base_uri": "https://localhost:8080/"
        },
        "outputId": "38ece28c-1790-4385-84e1-58ea3db37b4f"
      },
      "execution_count": 3,
      "outputs": [
        {
          "output_type": "stream",
          "name": "stdout",
          "text": [
            "Ana\n"
          ]
        }
      ]
    },
    {
      "cell_type": "code",
      "source": [
        "prueba = {\n",
        "    \"nombre\": \"Jorge\",\n",
        "    \"apellido\": \"Cardenas\",\n",
        "    \"edad\": 33,\n",
        "    \"ingreso\": 5800,\n",
        "    \"hijos\": 0\n",
        "}\n",
        "print(prueba[\"apellido\"])"
      ],
      "metadata": {
        "colab": {
          "base_uri": "https://localhost:8080/"
        },
        "id": "uWS_A2uvwvvV",
        "outputId": "c05973d0-4b33-46ae-be5b-eb36ba899fa1"
      },
      "execution_count": 4,
      "outputs": [
        {
          "output_type": "stream",
          "name": "stdout",
          "text": [
            "Cardenas\n"
          ]
        }
      ]
    },
    {
      "cell_type": "code",
      "source": [
        "prueba [\"python_nivel\"] = \"Principiante\""
      ],
      "metadata": {
        "id": "bfGzNjhX50jJ"
      },
      "execution_count": 5,
      "outputs": []
    },
    {
      "cell_type": "code",
      "source": [
        "prueba"
      ],
      "metadata": {
        "id": "_NqBIzHB5-ol",
        "outputId": "c8affb74-1f46-400d-9a2f-8b0dd15d69cd",
        "colab": {
          "base_uri": "https://localhost:8080/"
        }
      },
      "execution_count": 6,
      "outputs": [
        {
          "output_type": "execute_result",
          "data": {
            "text/plain": [
              "{'nombre': 'Jorge',\n",
              " 'apellido': 'Cardenas',\n",
              " 'edad': 33,\n",
              " 'ingreso': 5800,\n",
              " 'hijos': 0,\n",
              " 'python_nivel': 'Principiante'}"
            ]
          },
          "metadata": {},
          "execution_count": 6
        }
      ]
    },
    {
      "cell_type": "code",
      "source": [
        "prueba[\"estado civil\"] = \"Soltero\""
      ],
      "metadata": {
        "id": "RgIDh3dn0BTB"
      },
      "execution_count": null,
      "outputs": []
    },
    {
      "cell_type": "code",
      "source": [
        "prueba"
      ],
      "metadata": {
        "colab": {
          "base_uri": "https://localhost:8080/"
        },
        "id": "Vl7rR3IK0G0V",
        "outputId": "b11bcc93-4191-4871-ec26-de640a105f94"
      },
      "execution_count": null,
      "outputs": [
        {
          "output_type": "execute_result",
          "data": {
            "text/plain": [
              "{'nombre': 'Jorge',\n",
              " 'apellido': 'Cardenas',\n",
              " 'edad': 33,\n",
              " 'ingreso': 5800,\n",
              " 'hijos': 0,\n",
              " 'estado civil': 'Soltero'}"
            ]
          },
          "metadata": {},
          "execution_count": 8
        }
      ]
    },
    {
      "cell_type": "code",
      "source": [
        "new_prueba = {}\n",
        "new_prueba[\"curso\"] =\"Python\"\n",
        "new_prueba[\"nivel\"] = \"Principiante\""
      ],
      "metadata": {
        "id": "LTpjtHDY1SzY"
      },
      "execution_count": null,
      "outputs": []
    },
    {
      "cell_type": "code",
      "source": [
        "new_prueba"
      ],
      "metadata": {
        "colab": {
          "base_uri": "https://localhost:8080/"
        },
        "id": "KydWKkaY1rPO",
        "outputId": "853c3f46-e827-490e-c375-cfc1ac104e4a"
      },
      "execution_count": null,
      "outputs": [
        {
          "output_type": "execute_result",
          "data": {
            "text/plain": [
              "{'curso': 'Python', 'nivel': 'Principiante'}"
            ]
          },
          "metadata": {},
          "execution_count": 11
        }
      ]
    },
    {
      "cell_type": "code",
      "source": [
        "cristal = {}\n",
        "cristal[\"peru\"] = \"grande\"\n",
        "cristal [\"libertadores\"] = \"pequeño\""
      ],
      "metadata": {
        "id": "C7dZmyH-7qdF"
      },
      "execution_count": 9,
      "outputs": []
    },
    {
      "cell_type": "code",
      "source": [
        "cristal"
      ],
      "metadata": {
        "id": "0T9xNYqN75KY",
        "outputId": "d1ed018b-67ab-437e-956b-440eaf98fdc3",
        "colab": {
          "base_uri": "https://localhost:8080/"
        }
      },
      "execution_count": 10,
      "outputs": [
        {
          "output_type": "execute_result",
          "data": {
            "text/plain": [
              "{'peru': 'grande', 'libertadores': 'pequeño'}"
            ]
          },
          "metadata": {},
          "execution_count": 10
        }
      ]
    },
    {
      "cell_type": "code",
      "source": [
        "nuevo_cliente = {}\n",
        "nuevo_cliente[\"nombre\"] = \"Luis\"\n",
        "nuevo_cliente[\"ingreso\"] = 3000"
      ],
      "metadata": {
        "id": "c2pSZDxqVdUL"
      },
      "execution_count": 11,
      "outputs": []
    },
    {
      "cell_type": "code",
      "source": [
        "nuevo_cliente [\"ingreso\"] = 5000"
      ],
      "metadata": {
        "id": "bSz8SnQu8JAh"
      },
      "execution_count": 12,
      "outputs": []
    },
    {
      "cell_type": "code",
      "source": [
        "nuevo_cliente"
      ],
      "metadata": {
        "id": "3RlxYtUU8NGp",
        "outputId": "660f92cb-18c1-473f-c0c2-3f5e559edb3e",
        "colab": {
          "base_uri": "https://localhost:8080/"
        }
      },
      "execution_count": 13,
      "outputs": [
        {
          "output_type": "execute_result",
          "data": {
            "text/plain": [
              "{'nombre': 'Luis', 'ingreso': 5000}"
            ]
          },
          "metadata": {},
          "execution_count": 13
        }
      ]
    },
    {
      "cell_type": "code",
      "source": [
        "clientes = {\n",
        "    \"001\": {\"name\": \"Jorge\", \"salario\": 3500},\n",
        "    \"002\": {\"name\": \"Zulema\", \"salario\": 4800},\n",
        "    \"003\": {\"name\": \"Juan\", \"salario\": 3500}\n",
        "}"
      ],
      "metadata": {
        "id": "XTdrz9qu3BgS"
      },
      "execution_count": 16,
      "outputs": []
    },
    {
      "cell_type": "code",
      "source": [
        "clientes"
      ],
      "metadata": {
        "colab": {
          "base_uri": "https://localhost:8080/"
        },
        "id": "MiIg7BYF3g6G",
        "outputId": "8c9febad-a23d-4442-d5c2-62cb5a70e9d8"
      },
      "execution_count": 18,
      "outputs": [
        {
          "output_type": "execute_result",
          "data": {
            "text/plain": [
              "{'001': {'name': 'Jorge', 'salario': 3500},\n",
              " '002': {'name': 'Zulema', 'salario': 4800},\n",
              " '003': {'name': 'Juan', 'salario': 3500}}"
            ]
          },
          "metadata": {},
          "execution_count": 18
        }
      ]
    },
    {
      "cell_type": "code",
      "source": [
        "clientes[\"001\"][\"name\"] = \"Gianmarco\""
      ],
      "metadata": {
        "id": "Ti66wPWW7ssY"
      },
      "execution_count": null,
      "outputs": []
    },
    {
      "cell_type": "code",
      "source": [
        "del clientes[\"001\"][\"salario\"]"
      ],
      "metadata": {
        "id": "oTwk7L5v8dq0"
      },
      "execution_count": null,
      "outputs": []
    },
    {
      "cell_type": "code",
      "source": [
        "clientes"
      ],
      "metadata": {
        "colab": {
          "base_uri": "https://localhost:8080/"
        },
        "id": "cFg6_O6671_m",
        "outputId": "98350ef6-f079-4974-9032-d058e63e4592"
      },
      "execution_count": null,
      "outputs": [
        {
          "output_type": "execute_result",
          "data": {
            "text/plain": [
              "{'001': {'name': 'Gianmarco', 'salario': 3500},\n",
              " '002': {'name': 'Zulema', 'salario': 4800},\n",
              " 'name': 'Damian'}"
            ]
          },
          "metadata": {},
          "execution_count": 18
        }
      ]
    },
    {
      "cell_type": "code",
      "source": [
        "clientes[\"name\"] = \"Damian\""
      ],
      "metadata": {
        "id": "7gSsyKiA7fTe"
      },
      "execution_count": null,
      "outputs": []
    },
    {
      "cell_type": "code",
      "source": [
        "clientes"
      ],
      "metadata": {
        "colab": {
          "base_uri": "https://localhost:8080/"
        },
        "id": "I1Bkt2lA7liH",
        "outputId": "2d3ba94d-579e-43ba-9c4a-02fc195ffc80"
      },
      "execution_count": null,
      "outputs": [
        {
          "output_type": "execute_result",
          "data": {
            "text/plain": [
              "{'001': {'name': 'Jorge', 'salario': 3500},\n",
              " '002': {'name': 'Zulema', 'salario': 4800},\n",
              " 'name': 'Damian'}"
            ]
          },
          "metadata": {},
          "execution_count": 16
        }
      ]
    },
    {
      "cell_type": "code",
      "source": [
        "cliente"
      ],
      "metadata": {
        "colab": {
          "base_uri": "https://localhost:8080/"
        },
        "id": "dm0pWqnNTO8n",
        "outputId": "d7c997fd-4a4a-4e54-bca8-fc8e9c53b8c0"
      },
      "execution_count": null,
      "outputs": [
        {
          "output_type": "execute_result",
          "data": {
            "text/plain": [
              "{'nombre': 'Ana', 'edad': 35, 'ingreso': 4500, 'morosidades': 0}"
            ]
          },
          "metadata": {},
          "execution_count": 2
        }
      ]
    },
    {
      "cell_type": "markdown",
      "source": [
        "**Cómo acceder a valores:**\n",
        "\n",
        "Usando la clave: diccionario[\"clave\"]"
      ],
      "metadata": {
        "id": "w4ylLTfU2aeH"
      }
    },
    {
      "cell_type": "markdown",
      "source": [
        "**Añadir nuevo par clave-valor:**"
      ],
      "metadata": {
        "id": "jmS8eewO2fFC"
      }
    },
    {
      "cell_type": "code",
      "execution_count": null,
      "metadata": {
        "id": "uUEYtzY9x5Gm"
      },
      "outputs": [],
      "source": [
        "cliente[\"tipo_credito\"] = \"Hipotecario\""
      ]
    },
    {
      "cell_type": "code",
      "source": [
        "cliente"
      ],
      "metadata": {
        "colab": {
          "base_uri": "https://localhost:8080/"
        },
        "id": "uOPTNHXcTWHg",
        "outputId": "9fa5b30f-7574-49db-fbfe-a3918ec18c57"
      },
      "execution_count": null,
      "outputs": [
        {
          "output_type": "execute_result",
          "data": {
            "text/plain": [
              "{'nombre': 'Ana',\n",
              " 'edad': 35,\n",
              " 'ingreso': 4500,\n",
              " 'morosidades': 0,\n",
              " 'tipo_credito': 'Hipotecario'}"
            ]
          },
          "metadata": {},
          "execution_count": 4
        }
      ]
    },
    {
      "cell_type": "markdown",
      "source": [
        "**Empezar con un diccionario vacío:**"
      ],
      "metadata": {
        "id": "51g4lCo92lwQ"
      }
    },
    {
      "cell_type": "code",
      "source": [
        "nuevo_cliente = {}"
      ],
      "metadata": {
        "id": "j7ByM54CUXZ6"
      },
      "execution_count": null,
      "outputs": []
    },
    {
      "cell_type": "code",
      "source": [
        "nuevo_cliente = {}\n",
        "nuevo_cliente[\"nombre\"] = \"Luis\"\n",
        "nuevo_cliente[\"ingreso\"] = 3000"
      ],
      "metadata": {
        "id": "tpK5NSue2mx3"
      },
      "execution_count": null,
      "outputs": []
    },
    {
      "cell_type": "markdown",
      "source": [
        "**Modificar valores:**"
      ],
      "metadata": {
        "id": "_sa6x1ct2rOy"
      }
    },
    {
      "cell_type": "code",
      "source": [
        "cliente[\"ingreso\"] = 5000"
      ],
      "metadata": {
        "id": "6pQI6-vr2vpI"
      },
      "execution_count": null,
      "outputs": []
    },
    {
      "cell_type": "markdown",
      "source": [
        "**Eliminar pares clave-valor:**"
      ],
      "metadata": {
        "id": "DUHgSOL22xrI"
      }
    },
    {
      "cell_type": "code",
      "source": [
        "clientes = {\n",
        "    \"001\": {\"nombre\": \"Ana\", \"ingreso\": 4000},\n",
        "    \"002\": {\"nombre\": \"Luis\", \"ingreso\": 3000}\n",
        "}"
      ],
      "metadata": {
        "id": "Aq7-4wBo205G"
      },
      "execution_count": null,
      "outputs": []
    },
    {
      "cell_type": "code",
      "source": [
        "animales = {\n",
        "  \"001\": {\"nombre\": \"Elefante\", \"patas\": 4},\n",
        "  \"002\": {\"nombre\": \"Buitre\", \"patas\": 2}.\n",
        "  \"003\": {\"nombre\": \"Cocodrilo\", \"patas\": 4}}"
      ],
      "metadata": {
        "id": "2cq67o4TXklZ"
      },
      "execution_count": null,
      "outputs": []
    },
    {
      "cell_type": "code",
      "source": [
        "dicFamiliar1={}\n",
        "dicFamiliar1[\"nombre\"]=\"Renato\"\n",
        "dicFamiliar1[\"edad\"]=33\n",
        "dicFamiliar1[\"genero\"]=\"M\"\n",
        "dicFamiliar2={}\n",
        "dicFamiliar2[\"nombre\"]=\"Malu\"\n",
        "dicFamiliar2[\"edad\"]=35\n",
        "dicFamiliar2[\"genero\"]=\"F\"\n",
        "dicFamiliares={\n",
        "    \"1\":dicFamiliar1,\n",
        "    \"2\":dicFamiliar2\n",
        "}\n",
        "print(dicFamiliares)"
      ],
      "metadata": {
        "colab": {
          "base_uri": "https://localhost:8080/"
        },
        "id": "b6BSFpMGY29g",
        "outputId": "a06801dc-2feb-4494-d143-48e0c0e82400"
      },
      "execution_count": null,
      "outputs": [
        {
          "output_type": "stream",
          "name": "stdout",
          "text": [
            "{'1': {'nombre': 'Renato', 'edad': 33, 'genero': 'M'}, '2': {'nombre': 'Malu', 'edad': 35, 'genero': 'F'}}\n"
          ]
        }
      ]
    },
    {
      "cell_type": "code",
      "source": [
        "dicFamiliares['1']['edad']= 30"
      ],
      "metadata": {
        "id": "IsaZP5OVZCtg"
      },
      "execution_count": null,
      "outputs": []
    },
    {
      "cell_type": "code",
      "source": [
        "clientes"
      ],
      "metadata": {
        "id": "F8azPI7sCuCL",
        "outputId": "7578cc83-f074-4d48-ab2b-0510f0991dcb",
        "colab": {
          "base_uri": "https://localhost:8080/"
        }
      },
      "execution_count": 21,
      "outputs": [
        {
          "output_type": "execute_result",
          "data": {
            "text/plain": [
              "{'001': {'name': 'Jorge', 'salario': 3500},\n",
              " '002': {'name': 'Zulema', 'salario': 4800}}"
            ]
          },
          "metadata": {},
          "execution_count": 21
        }
      ]
    },
    {
      "cell_type": "code",
      "source": [
        "dicFamiliares['2']['ingreso']= 2400\n",
        "dicFamiliares"
      ],
      "metadata": {
        "colab": {
          "base_uri": "https://localhost:8080/"
        },
        "id": "-tDQ01T3aasV",
        "outputId": "feaba115-18c8-4ae4-d11d-34b557842006"
      },
      "execution_count": null,
      "outputs": [
        {
          "output_type": "execute_result",
          "data": {
            "text/plain": [
              "{'1': {'nombre': 'Renato', 'edad': 30, 'genero': 'M'},\n",
              " '2': {'nombre': 'Malu', 'edad': 35, 'genero': 'F', 'ingreso': 2400}}"
            ]
          },
          "metadata": {},
          "execution_count": 11
        }
      ]
    },
    {
      "cell_type": "code",
      "source": [
        "dicFamiliares"
      ],
      "metadata": {
        "colab": {
          "base_uri": "https://localhost:8080/"
        },
        "id": "cJk_SQLgZkyH",
        "outputId": "57b86cb5-632e-4bfb-97c8-2e6962d95c96"
      },
      "execution_count": null,
      "outputs": [
        {
          "output_type": "execute_result",
          "data": {
            "text/plain": [
              "{'2': {'nombre': 'Malu', 'edad': 35, 'genero': 'F', 'ingreso': 2400}}"
            ]
          },
          "metadata": {},
          "execution_count": 13
        }
      ]
    },
    {
      "cell_type": "code",
      "source": [
        "del dicFamiliares['1']"
      ],
      "metadata": {
        "id": "N1D4rbUdbDHZ"
      },
      "execution_count": null,
      "outputs": []
    },
    {
      "cell_type": "code",
      "source": [
        "clientes"
      ],
      "metadata": {
        "colab": {
          "base_uri": "https://localhost:8080/"
        },
        "id": "pG2RXxw_WTD2",
        "outputId": "aa2e6ff8-9784-4bea-b269-26d9890711c3"
      },
      "execution_count": 28,
      "outputs": [
        {
          "output_type": "execute_result",
          "data": {
            "text/plain": [
              "{'001': {'name': 'Jorge', 'salario': 3500},\n",
              " '002': {'name': 'Zulema', 'salario': 4800}}"
            ]
          },
          "metadata": {},
          "execution_count": 28
        }
      ]
    },
    {
      "cell_type": "code",
      "source": [
        "clientes [\"001\"]"
      ],
      "metadata": {
        "id": "v2cTTVbtFa8M",
        "outputId": "afee4156-aa79-458a-f5dc-cc6d80e18474",
        "colab": {
          "base_uri": "https://localhost:8080/"
        }
      },
      "execution_count": 29,
      "outputs": [
        {
          "output_type": "execute_result",
          "data": {
            "text/plain": [
              "{'name': 'Jorge', 'salario': 3500}"
            ]
          },
          "metadata": {},
          "execution_count": 29
        }
      ]
    },
    {
      "cell_type": "markdown",
      "source": [
        "**Ejercicio 1:**\n",
        "\n",
        "Crea un diccionario para un producto financiero con claves como nombre, tasa de interés y tipo. Luego accede a la tasa de interés y modifícala.\n",
        "\n",
        "\n",
        "\n"
      ],
      "metadata": {
        "id": "83NKUBXf23zf"
      }
    },
    {
      "cell_type": "code",
      "source": [
        "producto_financiero = {\n",
        "    \"nombre\": \"Tarjeta\",\n",
        "    \"tasa_interes\": 0.05,\n",
        "    \"tipo\": \"Premium\"\n",
        "}\n",
        "print(producto_financiero)\n",
        "\n",
        "producto_financiero[\"tipo\"] = \"Classic\"\n",
        "print(producto_financiero)"
      ],
      "metadata": {
        "id": "2qeX-odq9BMa",
        "outputId": "b72675b6-130d-41e4-c360-87c914a0a0a9",
        "colab": {
          "base_uri": "https://localhost:8080/"
        }
      },
      "execution_count": 26,
      "outputs": [
        {
          "output_type": "stream",
          "name": "stdout",
          "text": [
            "{'nombre': 'Tarjeta', 'tasa_interes': 0.05, 'tipo': 'Premium'}\n",
            "{'nombre': 'Tarjeta', 'tasa_interes': 0.05, 'tipo': 'Classic'}\n"
          ]
        }
      ]
    },
    {
      "cell_type": "code",
      "source": [
        "producto_financiero[\"tasa_interes\"] = 0.08"
      ],
      "metadata": {
        "id": "Y8TiuNlRC_5w"
      },
      "execution_count": 24,
      "outputs": []
    },
    {
      "cell_type": "code",
      "source": [
        "producto_financiero"
      ],
      "metadata": {
        "id": "4RbpUHbD9V_t",
        "outputId": "ebc791ab-c390-4dec-8747-a3afdac0af8f",
        "colab": {
          "base_uri": "https://localhost:8080/"
        }
      },
      "execution_count": 25,
      "outputs": [
        {
          "output_type": "execute_result",
          "data": {
            "text/plain": [
              "{'nombre': 'Tarjeta', 'tasa_interes': 0.08, 'tipo': 'Premium'}"
            ]
          },
          "metadata": {},
          "execution_count": 25
        }
      ]
    },
    {
      "cell_type": "code",
      "source": [
        "producto_financiero[\"tasa_interes\"] = 0.07"
      ],
      "metadata": {
        "id": "H1VbNSlz9QX3"
      },
      "execution_count": null,
      "outputs": []
    },
    {
      "cell_type": "markdown",
      "source": [
        "**Ejercicio 2:**\n",
        "\n",
        "Crea un diccionario de 3 clientes con su nombre e ingresos. Agrega un nuevo cliente. Luego, elimina uno de los existentes."
      ],
      "metadata": {
        "id": "Czi-iYwt27Lr"
      }
    },
    {
      "cell_type": "code",
      "source": [
        "clientes_dummy = {\n",
        "    \"001\": {\"nombre\": \"Ana\", \"apellido\": \"Garcia\"},\n",
        "    \"002\": {\"nombre\": \"Oliver\", \"apellido\": \"Gea\"},\n",
        "    \"003\": {\"nombre\": \"Sergio\", \"apellido\": \"Llorente\"}\n",
        "}\n",
        "print(clientes_dummy)\n",
        "clientes_dummy[\"004\"] = {\"nombre\": \"Hilel\", \"apellido\": \"Calderon\"}\n",
        "print(clientes_dummy)\n",
        "del clientes_dummy[\"002\"]\n",
        "print(clientes_dummy)"
      ],
      "metadata": {
        "id": "-jC2WNIj9ZrF",
        "outputId": "1d313fd9-3d82-4726-f177-9c929dac480d",
        "colab": {
          "base_uri": "https://localhost:8080/"
        }
      },
      "execution_count": 31,
      "outputs": [
        {
          "output_type": "stream",
          "name": "stdout",
          "text": [
            "{'001': {'nombre': 'Ana', 'apellido': 'Garcia'}, '002': {'nombre': 'Oliver', 'apellido': 'Gea'}, '003': {'nombre': 'Sergio', 'apellido': 'Llorente'}}\n",
            "{'001': {'nombre': 'Ana', 'apellido': 'Garcia'}, '002': {'nombre': 'Oliver', 'apellido': 'Gea'}, '003': {'nombre': 'Sergio', 'apellido': 'Llorente'}, '004': {'nombre': 'Hilel', 'apellido': 'Calderon'}}\n",
            "{'001': {'nombre': 'Ana', 'apellido': 'Garcia'}, '003': {'nombre': 'Sergio', 'apellido': 'Llorente'}, '004': {'nombre': 'Hilel', 'apellido': 'Calderon'}}\n"
          ]
        }
      ]
    },
    {
      "cell_type": "code",
      "source": [
        "clientes_dummy"
      ],
      "metadata": {
        "id": "FY2IceRZ-jT9",
        "outputId": "a5eca6dc-116a-4157-8d7a-d52a65c8d6e1",
        "colab": {
          "base_uri": "https://localhost:8080/"
        }
      },
      "execution_count": null,
      "outputs": [
        {
          "output_type": "execute_result",
          "data": {
            "text/plain": [
              "{'001': {'nombre': 'Ana', 'apellido': 'Garcia'},\n",
              " '003': {'nombre': 'Sergio', 'apellido': 'Llorente'}}"
            ]
          },
          "metadata": {},
          "execution_count": 44
        }
      ]
    },
    {
      "cell_type": "code",
      "source": [
        "del clientes_dummy[\"002\"]"
      ],
      "metadata": {
        "id": "ipyC37xw-k84"
      },
      "execution_count": null,
      "outputs": []
    },
    {
      "cell_type": "code",
      "source": [
        "clientes_dummy = {\n",
        "    \"004\": {\"nombre\": \"Damian\", \"apellido\": \"Santa Maria\"}\n",
        "}"
      ],
      "metadata": {
        "id": "ZC8RmOUo9-x_"
      },
      "execution_count": null,
      "outputs": []
    },
    {
      "cell_type": "code",
      "source": [
        "clientes_dummy"
      ],
      "metadata": {
        "id": "odco-U6o-cfC",
        "outputId": "d50a74b7-a16e-4ccf-e7a8-058103cc8fcf",
        "colab": {
          "base_uri": "https://localhost:8080/"
        }
      },
      "execution_count": null,
      "outputs": [
        {
          "output_type": "execute_result",
          "data": {
            "text/plain": [
              "{'004': {'nombre': 'Damian', 'apellido': 'Santa Maria'}}"
            ]
          },
          "metadata": {},
          "execution_count": 40
        }
      ]
    },
    {
      "cell_type": "code",
      "source": [
        "del clientes_dummy[\"003\"]"
      ],
      "metadata": {
        "id": "hG3Bo-_g-SlR"
      },
      "execution_count": null,
      "outputs": []
    },
    {
      "cell_type": "markdown",
      "source": [
        "# 2. For en Python"
      ],
      "metadata": {
        "id": "w2oBkGm-3IZi"
      }
    },
    {
      "cell_type": "markdown",
      "source": [
        "**¿Qué es for?**\n",
        "\n",
        "Una estructura de control repetitiva.\n",
        "\n",
        "Se usa para recorrer elementos de una lista, string o diccionario."
      ],
      "metadata": {
        "id": "vqkAmEE33Ov0"
      }
    },
    {
      "cell_type": "markdown",
      "source": [
        "**¿Para qué sirve?**\n",
        "\n",
        "Automatizar procesos repetitivos, como revisar múltiples clientes o productos financieros."
      ],
      "metadata": {
        "id": "6NnHm2Zw3RFo"
      }
    },
    {
      "cell_type": "markdown",
      "source": [
        "**Sintaxis básica:**\n"
      ],
      "metadata": {
        "id": "tJGAMI9Q3TwI"
      }
    },
    {
      "cell_type": "code",
      "source": [
        "lista_clientes = [\"Ana\", \"Luis\", \"Sofía\"]\n",
        "lista_clientes"
      ],
      "metadata": {
        "colab": {
          "base_uri": "https://localhost:8080/"
        },
        "id": "bhySobixlvf3",
        "outputId": "00b04c0a-9212-49ac-b8da-39ac5b1434ca"
      },
      "execution_count": 40,
      "outputs": [
        {
          "output_type": "execute_result",
          "data": {
            "text/plain": [
              "['Ana', 'Luis', 'Sofía']"
            ]
          },
          "metadata": {},
          "execution_count": 40
        }
      ]
    },
    {
      "cell_type": "code",
      "source": [
        "lista_clientes[1]"
      ],
      "metadata": {
        "id": "q7FTsuokLZkI",
        "outputId": "33f71a9e-b9fa-4911-b956-5b721c858456",
        "colab": {
          "base_uri": "https://localhost:8080/",
          "height": 35
        }
      },
      "execution_count": 42,
      "outputs": [
        {
          "output_type": "execute_result",
          "data": {
            "text/plain": [
              "'Luis'"
            ],
            "application/vnd.google.colaboratory.intrinsic+json": {
              "type": "string"
            }
          },
          "metadata": {},
          "execution_count": 42
        }
      ]
    },
    {
      "cell_type": "code",
      "source": [
        "for awr in lista_clientes:\n",
        " print(awr)"
      ],
      "metadata": {
        "id": "lGd8GFjZ26u5",
        "colab": {
          "base_uri": "https://localhost:8080/"
        },
        "outputId": "27ed8697-c38c-4b46-ead9-8532a965c082"
      },
      "execution_count": 39,
      "outputs": [
        {
          "output_type": "stream",
          "name": "stdout",
          "text": [
            "Ana\n",
            "Luis\n",
            "Sofía\n"
          ]
        }
      ]
    },
    {
      "cell_type": "code",
      "source": [
        "y"
      ],
      "metadata": {
        "colab": {
          "base_uri": "https://localhost:8080/",
          "height": 35
        },
        "id": "3pDdZxr4nqal",
        "outputId": "fb534c71-883f-45c4-d35f-1da4b6bbd7c2"
      },
      "execution_count": null,
      "outputs": [
        {
          "output_type": "execute_result",
          "data": {
            "text/plain": [
              "'Sofía'"
            ],
            "application/vnd.google.colaboratory.intrinsic+json": {
              "type": "string"
            }
          },
          "metadata": {},
          "execution_count": 21
        }
      ]
    },
    {
      "cell_type": "code",
      "source": [
        "lista_clientes[0]"
      ],
      "metadata": {
        "colab": {
          "base_uri": "https://localhost:8080/",
          "height": 35
        },
        "id": "aJLHWYWumvfN",
        "outputId": "06e04634-d442-4e81-bfa8-c5b913f5bd0f"
      },
      "execution_count": null,
      "outputs": [
        {
          "output_type": "execute_result",
          "data": {
            "text/plain": [
              "'Ana'"
            ],
            "application/vnd.google.colaboratory.intrinsic+json": {
              "type": "string"
            }
          },
          "metadata": {},
          "execution_count": 16
        }
      ]
    },
    {
      "cell_type": "markdown",
      "source": [
        "**¿Por qué es repetitiva?**\n",
        "\n",
        "Porque ejecuta el mismo bloque de código por cada elemento en la secuencia."
      ],
      "metadata": {
        "id": "zbzptSdD3cZ6"
      }
    },
    {
      "cell_type": "code",
      "source": [
        "ingresos = [1000, 2000, 3000, 2000, 1500, 2300, 2345]\n",
        "for x in ingresos:\n",
        "    print(\"Ingreso anual:\", x* 12)"
      ],
      "metadata": {
        "id": "ddfuukXf3a-T",
        "colab": {
          "base_uri": "https://localhost:8080/"
        },
        "outputId": "a8cbc20f-7443-4e28-c750-30f0decb743c"
      },
      "execution_count": 44,
      "outputs": [
        {
          "output_type": "stream",
          "name": "stdout",
          "text": [
            "Ingreso anual: 12000\n",
            "Ingreso anual: 24000\n",
            "Ingreso anual: 36000\n",
            "Ingreso anual: 24000\n",
            "Ingreso anual: 18000\n",
            "Ingreso anual: 27600\n",
            "Ingreso anual: 28140\n"
          ]
        }
      ]
    },
    {
      "cell_type": "markdown",
      "source": [
        "Usar la estructura FOR para calcular el ingreso anual (ingreso *12) sin mostrar el cálculo, finalmente mostrar la lista completa"
      ],
      "metadata": {
        "id": "6UOcbN-eqcbK"
      }
    },
    {
      "cell_type": "code",
      "source": [
        "ingresos = [1000, 2000, 3000, 2000, 1500, 2300, 2345]\n",
        "for x in ingresos:\n",
        "  ingreso_anual = x*12\n",
        "ingreso_anual"
      ],
      "metadata": {
        "id": "HF-ky-JvPDEI",
        "outputId": "e9d186b2-782b-4145-e5ca-4fb5933c172c",
        "colab": {
          "base_uri": "https://localhost:8080/"
        }
      },
      "execution_count": 47,
      "outputs": [
        {
          "output_type": "execute_result",
          "data": {
            "text/plain": [
              "28140"
            ]
          },
          "metadata": {},
          "execution_count": 47
        }
      ]
    },
    {
      "cell_type": "code",
      "source": [
        "print(ingreso_anual)"
      ],
      "metadata": {
        "colab": {
          "base_uri": "https://localhost:8080/"
        },
        "id": "zXac6g4SqbWb",
        "outputId": "fd5496c3-79dc-4fbe-c46c-606b34e0446c"
      },
      "execution_count": 49,
      "outputs": [
        {
          "output_type": "stream",
          "name": "stdout",
          "text": [
            "28140\n"
          ]
        }
      ]
    },
    {
      "cell_type": "code",
      "source": [
        "for ingreso in ingresos:\n",
        "    ingreso_anual = ingreso * 12\n",
        "\n",
        "ingresos"
      ],
      "metadata": {
        "colab": {
          "base_uri": "https://localhost:8080/"
        },
        "id": "3qfiLQC5qxOS",
        "outputId": "0ec3bae8-bf57-4701-f053-cd3948d705c6"
      },
      "execution_count": null,
      "outputs": [
        {
          "output_type": "execute_result",
          "data": {
            "text/plain": [
              "[1000, 2000, 3000, 2000, 1500, 2300, 2345]"
            ]
          },
          "metadata": {},
          "execution_count": 25
        }
      ]
    },
    {
      "cell_type": "code",
      "source": [
        "for ingreso in ingresos:\n",
        "    ingreso * 12\n",
        "    print(ingreso)"
      ],
      "metadata": {
        "colab": {
          "base_uri": "https://localhost:8080/"
        },
        "id": "qzUnQPoeszHA",
        "outputId": "67bdd5b3-01bd-430d-b54c-231f6bb33ce6"
      },
      "execution_count": null,
      "outputs": [
        {
          "output_type": "stream",
          "name": "stdout",
          "text": [
            "1000\n",
            "2000\n",
            "3000\n",
            "2000\n",
            "1500\n",
            "2300\n",
            "2345\n"
          ]
        }
      ]
    },
    {
      "cell_type": "code",
      "source": [
        "for ingreso in ingresos:\n",
        "    ingresos[0] = ingreso * 12\n",
        "\n",
        "ingresos"
      ],
      "metadata": {
        "colab": {
          "base_uri": "https://localhost:8080/"
        },
        "id": "qOoyDbS1ujmE",
        "outputId": "16146383-a9a1-4059-dec7-1ffccd49e60a"
      },
      "execution_count": null,
      "outputs": [
        {
          "output_type": "execute_result",
          "data": {
            "text/plain": [
              "[28140, 2000, 3000, 2000, 1500, 2300, 2345]"
            ]
          },
          "metadata": {},
          "execution_count": 31
        }
      ]
    },
    {
      "cell_type": "code",
      "source": [
        "ingresos[0] = ingreso * 12"
      ],
      "metadata": {
        "id": "EE1A746Gt2vo"
      },
      "execution_count": null,
      "outputs": []
    },
    {
      "cell_type": "code",
      "source": [
        "ingresos"
      ],
      "metadata": {
        "colab": {
          "base_uri": "https://localhost:8080/"
        },
        "id": "HDVR5maDuFKI",
        "outputId": "72420c5b-c114-439b-b5ed-2f0a22c14021"
      },
      "execution_count": null,
      "outputs": [
        {
          "output_type": "execute_result",
          "data": {
            "text/plain": [
              "[28140, 2000, 3000, 2000, 1500, 2300, 2345]"
            ]
          },
          "metadata": {},
          "execution_count": 29
        }
      ]
    },
    {
      "cell_type": "code",
      "source": [
        "ingreso_anual"
      ],
      "metadata": {
        "colab": {
          "base_uri": "https://localhost:8080/"
        },
        "id": "yRovcptHroqZ",
        "outputId": "29c9f501-61c9-4366-9dac-e0ff6b60ba8f"
      },
      "execution_count": null,
      "outputs": [
        {
          "output_type": "execute_result",
          "data": {
            "text/plain": [
              "28140"
            ]
          },
          "metadata": {},
          "execution_count": 26
        }
      ]
    },
    {
      "cell_type": "code",
      "source": [
        "ingresos*12"
      ],
      "metadata": {
        "colab": {
          "base_uri": "https://localhost:8080/"
        },
        "id": "c-L4iZN7oqlC",
        "outputId": "c736cf44-c3d7-446b-ada6-f904ee6205b2"
      },
      "execution_count": null,
      "outputs": [
        {
          "output_type": "execute_result",
          "data": {
            "text/plain": [
              "[1000,\n",
              " 2000,\n",
              " 3000,\n",
              " 2000,\n",
              " 1500,\n",
              " 2300,\n",
              " 2345,\n",
              " 1000,\n",
              " 2000,\n",
              " 3000,\n",
              " 2000,\n",
              " 1500,\n",
              " 2300,\n",
              " 2345,\n",
              " 1000,\n",
              " 2000,\n",
              " 3000,\n",
              " 2000,\n",
              " 1500,\n",
              " 2300,\n",
              " 2345,\n",
              " 1000,\n",
              " 2000,\n",
              " 3000,\n",
              " 2000,\n",
              " 1500,\n",
              " 2300,\n",
              " 2345,\n",
              " 1000,\n",
              " 2000,\n",
              " 3000,\n",
              " 2000,\n",
              " 1500,\n",
              " 2300,\n",
              " 2345,\n",
              " 1000,\n",
              " 2000,\n",
              " 3000,\n",
              " 2000,\n",
              " 1500,\n",
              " 2300,\n",
              " 2345,\n",
              " 1000,\n",
              " 2000,\n",
              " 3000,\n",
              " 2000,\n",
              " 1500,\n",
              " 2300,\n",
              " 2345,\n",
              " 1000,\n",
              " 2000,\n",
              " 3000,\n",
              " 2000,\n",
              " 1500,\n",
              " 2300,\n",
              " 2345,\n",
              " 1000,\n",
              " 2000,\n",
              " 3000,\n",
              " 2000,\n",
              " 1500,\n",
              " 2300,\n",
              " 2345,\n",
              " 1000,\n",
              " 2000,\n",
              " 3000,\n",
              " 2000,\n",
              " 1500,\n",
              " 2300,\n",
              " 2345,\n",
              " 1000,\n",
              " 2000,\n",
              " 3000,\n",
              " 2000,\n",
              " 1500,\n",
              " 2300,\n",
              " 2345,\n",
              " 1000,\n",
              " 2000,\n",
              " 3000,\n",
              " 2000,\n",
              " 1500,\n",
              " 2300,\n",
              " 2345]"
            ]
          },
          "metadata": {},
          "execution_count": 23
        }
      ]
    },
    {
      "cell_type": "markdown",
      "source": [
        "Ejemplo 2: Recorrer un diccionario de clientes"
      ],
      "metadata": {
        "id": "yTflWWvp3hI1"
      }
    },
    {
      "cell_type": "code",
      "source": [
        "for id_cliente in clientes:\n",
        "    print(\"ID:\", id_cliente, \"Ingreso:\", clientes[id_cliente][\"ingreso\"])"
      ],
      "metadata": {
        "id": "1jReTnvu3kG0"
      },
      "execution_count": null,
      "outputs": []
    },
    {
      "cell_type": "markdown",
      "source": [
        "Ejemplo 3: Contar cuántos clientes tienen ingreso > 3000"
      ],
      "metadata": {
        "id": "wQeoR3Lz3mpd"
      }
    },
    {
      "cell_type": "code",
      "source": [
        "contador = 0\n",
        "for cliente in clientes.values():\n",
        "    if cliente[\"ingreso\"] > 3000:\n",
        "        contador += 1\n",
        "print(\"Clientes con alto ingreso:\", contador)"
      ],
      "metadata": {
        "id": "BO6QccEn3pvU"
      },
      "execution_count": null,
      "outputs": []
    },
    {
      "cell_type": "markdown",
      "source": [
        "Ejemplo 4: Crear una lista con tasas ajustadas"
      ],
      "metadata": {
        "id": "Z1DZYAfj3sRL"
      }
    },
    {
      "cell_type": "code",
      "source": [
        "tasas = [0.05, 0.07, 0.08]\n",
        "tasas_ajustadas = []\n",
        "for tasa in tasas:\n",
        "    tasas_ajustadas.append(tasa + 0.01)\n",
        "print(tasas_ajustadas)"
      ],
      "metadata": {
        "id": "jerZ3Pbp3v_-"
      },
      "execution_count": null,
      "outputs": []
    },
    {
      "cell_type": "markdown",
      "source": [
        "Ejemplo 5: Reporte de evaluación"
      ],
      "metadata": {
        "id": "vDmAijzk30aP"
      }
    },
    {
      "cell_type": "code",
      "source": [
        "clientes = [\"Ana\", \"Luis\", \"Sofía\"]\n",
        "for nombre in clientes:\n",
        "    print(f\"Evaluación enviada a {nombre}\")"
      ],
      "metadata": {
        "id": "b4ah9HGJ32bn"
      },
      "execution_count": null,
      "outputs": []
    },
    {
      "cell_type": "markdown",
      "source": [],
      "metadata": {
        "id": "3J9EUJLG3oos"
      }
    }
  ]
}