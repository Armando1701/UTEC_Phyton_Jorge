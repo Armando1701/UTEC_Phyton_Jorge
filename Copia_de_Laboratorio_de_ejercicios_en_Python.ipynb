{
  "nbformat": 4,
  "nbformat_minor": 0,
  "metadata": {
    "colab": {
      "provenance": [],
      "include_colab_link": true
    },
    "kernelspec": {
      "name": "python3",
      "display_name": "Python 3"
    },
    "language_info": {
      "name": "python"
    }
  },
  "cells": [
    {
      "cell_type": "markdown",
      "metadata": {
        "id": "view-in-github",
        "colab_type": "text"
      },
      "source": [
        "<a href=\"https://colab.research.google.com/github/Armando1701/UTEC_Phyton_Jorge/blob/main/Copia_de_Laboratorio_de_ejercicios_en_Python.ipynb\" target=\"_parent\"><img src=\"https://colab.research.google.com/assets/colab-badge.svg\" alt=\"Open In Colab\"/></a>"
      ]
    },
    {
      "cell_type": "markdown",
      "source": [
        "# Listas"
      ],
      "metadata": {
        "id": "NC_iRWcEhNSv"
      }
    },
    {
      "cell_type": "markdown",
      "source": [
        "Ejercicio 1\n",
        "\n",
        "Crear una lista con los nombres de 5 bancos."
      ],
      "metadata": {
        "id": "IxkzijV9gnqx"
      }
    },
    {
      "cell_type": "code",
      "source": [
        "Lista_01 = [\"Interbank\", \"BBVA\", \"BCP\", \"Scotiabank\", \"Mibanco\"]"
      ],
      "metadata": {
        "id": "zdKWGzB365wO"
      },
      "execution_count": 1,
      "outputs": []
    },
    {
      "cell_type": "code",
      "source": [
        "Lista_01"
      ],
      "metadata": {
        "id": "3_VrAiay7IkP",
        "outputId": "f02c686f-61e5-4d79-d7fa-c3fc75e742d6",
        "colab": {
          "base_uri": "https://localhost:8080/"
        }
      },
      "execution_count": 2,
      "outputs": [
        {
          "output_type": "execute_result",
          "data": {
            "text/plain": [
              "['Interbank', 'BBVA', 'BCP', 'Scotiabank', 'Mibanco']"
            ]
          },
          "metadata": {},
          "execution_count": 2
        }
      ]
    },
    {
      "cell_type": "markdown",
      "source": [
        "Ejercicio 2\n",
        "\n",
        "Acceder al tercer banco de la lista."
      ],
      "metadata": {
        "id": "2d57HxBKgtdO"
      }
    },
    {
      "cell_type": "code",
      "source": [
        "Lista_01 [2]"
      ],
      "metadata": {
        "id": "ajaxHC597LOR",
        "outputId": "61410ff6-23dd-4b5a-86d2-39e917800a0f",
        "colab": {
          "base_uri": "https://localhost:8080/",
          "height": 35
        }
      },
      "execution_count": 3,
      "outputs": [
        {
          "output_type": "execute_result",
          "data": {
            "text/plain": [
              "'BCP'"
            ],
            "application/vnd.google.colaboratory.intrinsic+json": {
              "type": "string"
            }
          },
          "metadata": {},
          "execution_count": 3
        }
      ]
    },
    {
      "cell_type": "markdown",
      "source": [
        "Ejercicio 3\n",
        "\n",
        "Agregar un nuevo banco a la lista."
      ],
      "metadata": {
        "id": "r3av9R2Ygv2T"
      }
    },
    {
      "cell_type": "code",
      "source": [
        "Lista_01.append(\"Banco Pichincha\")"
      ],
      "metadata": {
        "id": "iQaaqVDt7Ojw"
      },
      "execution_count": 4,
      "outputs": []
    },
    {
      "cell_type": "code",
      "source": [
        "Lista_01"
      ],
      "metadata": {
        "id": "-dUY6onL7Xex",
        "outputId": "3a9a3484-8314-4310-eae3-bb99d479555a",
        "colab": {
          "base_uri": "https://localhost:8080/"
        }
      },
      "execution_count": 5,
      "outputs": [
        {
          "output_type": "execute_result",
          "data": {
            "text/plain": [
              "['Interbank', 'BBVA', 'BCP', 'Scotiabank', 'Mibanco', 'Banco Pichincha']"
            ]
          },
          "metadata": {},
          "execution_count": 5
        }
      ]
    },
    {
      "cell_type": "markdown",
      "source": [
        "Ejercicio 4\n",
        "\n",
        "Eliminar el segundo banco."
      ],
      "metadata": {
        "id": "mCi9Qu0lhA7E"
      }
    },
    {
      "cell_type": "code",
      "source": [
        "Lista_01.pop(1)"
      ],
      "metadata": {
        "id": "Ru4ERtok7a4J",
        "outputId": "806c3a01-f807-43af-ac69-f3772bbad193",
        "colab": {
          "base_uri": "https://localhost:8080/",
          "height": 35
        }
      },
      "execution_count": 8,
      "outputs": [
        {
          "output_type": "execute_result",
          "data": {
            "text/plain": [
              "'BBVA'"
            ],
            "application/vnd.google.colaboratory.intrinsic+json": {
              "type": "string"
            }
          },
          "metadata": {},
          "execution_count": 8
        }
      ]
    },
    {
      "cell_type": "code",
      "source": [
        "Lista_01"
      ],
      "metadata": {
        "id": "JM-1nxPB7s4m",
        "outputId": "54ea8fd0-fb99-4265-bd6a-5e06f48c21f9",
        "colab": {
          "base_uri": "https://localhost:8080/"
        }
      },
      "execution_count": 9,
      "outputs": [
        {
          "output_type": "execute_result",
          "data": {
            "text/plain": [
              "['Interbank', 'BCP', 'Scotiabank', 'Mibanco', 'Banco Pichincha']"
            ]
          },
          "metadata": {},
          "execution_count": 9
        }
      ]
    },
    {
      "cell_type": "markdown",
      "source": [
        "Ejercicio 5\n",
        "\n",
        "Ordenar alfabéticamente los bancos."
      ],
      "metadata": {
        "id": "he1Ai2YahGpE"
      }
    },
    {
      "cell_type": "code",
      "source": [
        "Lista_01.sort()"
      ],
      "metadata": {
        "id": "MVKQW4mD7waG"
      },
      "execution_count": 10,
      "outputs": []
    },
    {
      "cell_type": "code",
      "source": [
        "Lista_01"
      ],
      "metadata": {
        "id": "njQGdkJj71Bn",
        "outputId": "d369fc3a-a738-49e2-da7b-1c8f261c6c07",
        "colab": {
          "base_uri": "https://localhost:8080/"
        }
      },
      "execution_count": 11,
      "outputs": [
        {
          "output_type": "execute_result",
          "data": {
            "text/plain": [
              "['BCP', 'Banco Pichincha', 'Interbank', 'Mibanco', 'Scotiabank']"
            ]
          },
          "metadata": {},
          "execution_count": 11
        }
      ]
    },
    {
      "cell_type": "markdown",
      "source": [
        "# Condicionales IF, ELIF, ELSE"
      ],
      "metadata": {
        "id": "VpT6gNZ2hj1O"
      }
    },
    {
      "cell_type": "markdown",
      "source": [
        "Ejercicio 1\n",
        "\n",
        "Verificar si un cliente tiene ingreso > 3000."
      ],
      "metadata": {
        "id": "kv91XOyphovd"
      }
    },
    {
      "cell_type": "code",
      "source": [
        "cliente_ingreso = int(input(\"Introductir su ingreso mensual: \"))\n",
        "if cliente_ingreso < 3000:\n",
        "  print(\"No tiene ingreso suficiente\")\n",
        "else:\n",
        "  print(\"Tiene ingreso suficiente\")"
      ],
      "metadata": {
        "id": "EQAodOd4_yIA",
        "outputId": "a5d0c5a6-5737-47e5-9674-eb8e0472ab84",
        "colab": {
          "base_uri": "https://localhost:8080/"
        }
      },
      "execution_count": 17,
      "outputs": [
        {
          "output_type": "stream",
          "name": "stdout",
          "text": [
            "Introductir su ingreso mensual: 2500\n",
            "No tiene ingreso suficiente\n"
          ]
        }
      ]
    },
    {
      "cell_type": "markdown",
      "source": [
        "Ejercicio 2\n",
        "\n",
        "Evaluar edad para otorgar tarjeta de crédito."
      ],
      "metadata": {
        "id": "n1X-A7oNhr4z"
      }
    },
    {
      "cell_type": "code",
      "source": [
        "edad = int(input(\"Introducir su edad: \"))\n",
        "ingreso_2 = int(input(\"Introducir su ingreso mensual: \"))\n",
        "if edad >= 18 and ingreso_2 >= 3000:\n",
        "  print(\"Cliente califica a tarjeta de crédito\")\n",
        "else:\n",
        "  print(\"Cliente no califica para tarjeta de crédito\")"
      ],
      "metadata": {
        "id": "Cvn1hKXsAZOz",
        "outputId": "1c266f64-20ae-4c61-8b2d-37cda35df45d",
        "colab": {
          "base_uri": "https://localhost:8080/"
        }
      },
      "execution_count": 20,
      "outputs": [
        {
          "output_type": "stream",
          "name": "stdout",
          "text": [
            "Introducir su edad: 33\n",
            "Introducir su ingreso mensual: 4800\n",
            "Cliente califica a tarjeta de crédito\n"
          ]
        }
      ]
    },
    {
      "cell_type": "markdown",
      "source": [
        "Ejercicio 3\n",
        "\n",
        "Evaluar un score de crédito."
      ],
      "metadata": {
        "id": "PiDQUQ05htq2"
      }
    },
    {
      "cell_type": "code",
      "source": [
        "score_cliente = \"\"\n",
        "score_cliente = int(input(\"Introducir su score de crédito: \"))\n",
        "if score_cliente >= 800:\n",
        "  score = \"Excelente\"\n",
        "elif score_cliente >= 500:\n",
        "  score = \"Bueno\"\n",
        "else:\n",
        "  score = \"Malo\"\n",
        "print(f\"El score de su crédito es: {score}\")"
      ],
      "metadata": {
        "id": "HjqQoN1LBrRC",
        "outputId": "92742a3a-91e5-40e7-a402-e816153b0f5a",
        "colab": {
          "base_uri": "https://localhost:8080/"
        }
      },
      "execution_count": 30,
      "outputs": [
        {
          "output_type": "stream",
          "name": "stdout",
          "text": [
            "Introducir su score de crédito: 5\n",
            "El score de su crédito es: Malo\n"
          ]
        }
      ]
    },
    {
      "cell_type": "markdown",
      "source": [
        "Ejercicio 4\n",
        "\n",
        "Verificar si una cuenta tiene saldo negativo."
      ],
      "metadata": {
        "id": "xoT9xGBph1M_"
      }
    },
    {
      "cell_type": "code",
      "source": [
        "saldo_cuente =\"\"\n",
        "saldo_cuente = int(input(\"Introducir su saldo de cuenta: \"))\n",
        "if saldo_cuente < 0:\n",
        "  print(\"Cuenta tiene saldo negativo\")\n",
        "else:\n",
        "  print(\"Cuenta no tiene saldo negativo\")"
      ],
      "metadata": {
        "id": "ljEN_TTHCU23",
        "outputId": "b5f4c317-50c0-4616-98ae-aa865b2686f3",
        "colab": {
          "base_uri": "https://localhost:8080/"
        }
      },
      "execution_count": 32,
      "outputs": [
        {
          "output_type": "stream",
          "name": "stdout",
          "text": [
            "Introducir su saldo de cuenta: -120\n",
            "Cuenta tiene saldo negativo\n"
          ]
        }
      ]
    },
    {
      "cell_type": "markdown",
      "source": [
        "Ejercicio 5\n",
        "\n",
        "Comparar dos tasas de interés."
      ],
      "metadata": {
        "id": "hLB_ZRjth5cJ"
      }
    },
    {
      "cell_type": "markdown",
      "source": [
        "Ejercicio 6\n",
        "\n",
        "Evaluar si un cliente tiene más de 3 productos financieros."
      ],
      "metadata": {
        "id": "ORVVt26mh8dt"
      }
    },
    {
      "cell_type": "markdown",
      "source": [
        "Ejercicio 7\n",
        "\n",
        "Determinar si un monto depositado supera los 10,000."
      ],
      "metadata": {
        "id": "naW4x0QLh_SV"
      }
    },
    {
      "cell_type": "markdown",
      "source": [
        "# **Diccionarios**"
      ],
      "metadata": {
        "id": "V7WW7fIGioVg"
      }
    },
    {
      "cell_type": "markdown",
      "source": [
        "Ejercicio 1\n",
        "\n",
        "Crear un diccionario con datos de un cliente."
      ],
      "metadata": {
        "id": "CHwNqNtNisgi"
      }
    },
    {
      "cell_type": "code",
      "source": [
        "cliente = {\"nombre\": \"Jorge\", \"apellido\" : \"Cardenas\"}"
      ],
      "metadata": {
        "id": "G1njYZVaCx_r"
      },
      "execution_count": 34,
      "outputs": []
    },
    {
      "cell_type": "code",
      "source": [
        "cliente[\"apellido\"]"
      ],
      "metadata": {
        "id": "JAhT8F-iDCSe",
        "outputId": "9efb6083-d7c9-42df-8eb3-6ed738c105db",
        "colab": {
          "base_uri": "https://localhost:8080/",
          "height": 35
        }
      },
      "execution_count": 37,
      "outputs": [
        {
          "output_type": "execute_result",
          "data": {
            "text/plain": [
              "'Cardenas'"
            ],
            "application/vnd.google.colaboratory.intrinsic+json": {
              "type": "string"
            }
          },
          "metadata": {},
          "execution_count": 37
        }
      ]
    },
    {
      "cell_type": "markdown",
      "source": [
        "Ejercicio 2\n",
        "\n",
        "Acceder al saldo del cliente."
      ],
      "metadata": {
        "id": "y79prRhxivr3"
      }
    },
    {
      "cell_type": "code",
      "source": [
        "cliente = {\"nombre\": \"Jorge\", \"apellido\" : \"Cardenas\", \"saldo\" : 5000}"
      ],
      "metadata": {
        "id": "_kzp1dwPDQ7T"
      },
      "execution_count": 39,
      "outputs": []
    },
    {
      "cell_type": "code",
      "source": [
        "cliente[\"saldo\"]"
      ],
      "metadata": {
        "id": "vXKLGJ7FDZW1",
        "outputId": "e105dbb5-71f5-46ca-cf25-292c0f50f893",
        "colab": {
          "base_uri": "https://localhost:8080/"
        }
      },
      "execution_count": 40,
      "outputs": [
        {
          "output_type": "execute_result",
          "data": {
            "text/plain": [
              "5000"
            ]
          },
          "metadata": {},
          "execution_count": 40
        }
      ]
    },
    {
      "cell_type": "markdown",
      "source": [
        "Ejercicio 3\n",
        "\n",
        "Modificar el saldo."
      ],
      "metadata": {
        "id": "WPMXW--eiy7n"
      }
    },
    {
      "cell_type": "code",
      "source": [
        "cliente[\"saldo\"]\n",
        "print(f\"El saldo actual es: {cliente['saldo']}\")\n",
        "cliente[\"saldo\"] = 80000\n",
        "print(f\"El nuevo saldo del cliente es {cliente['saldo']}\")"
      ],
      "metadata": {
        "id": "XF-PmPZkDc7K",
        "outputId": "5f01f693-c7a1-4256-9d7e-ff33a3adbee2",
        "colab": {
          "base_uri": "https://localhost:8080/"
        }
      },
      "execution_count": 44,
      "outputs": [
        {
          "output_type": "stream",
          "name": "stdout",
          "text": [
            "El saldo actual es: 5000\n",
            "El nuevo saldo del cliente es 80000\n"
          ]
        }
      ]
    },
    {
      "cell_type": "markdown",
      "source": [
        "Ejercicio 4\n",
        "\n",
        "Agregar una nueva llave 'tarjeta_credito'."
      ],
      "metadata": {
        "id": "xN7U259_i0SD"
      }
    },
    {
      "cell_type": "code",
      "source": [
        "cliente[\"tarjeta_credito\"]= \"BBVA\""
      ],
      "metadata": {
        "id": "vT-u6m-6ELtx"
      },
      "execution_count": 45,
      "outputs": []
    },
    {
      "cell_type": "code",
      "source": [
        "cliente"
      ],
      "metadata": {
        "id": "jFTm5iB-EYMl",
        "outputId": "cc8a73f8-20ee-48e9-97ed-d13713dee406",
        "colab": {
          "base_uri": "https://localhost:8080/"
        }
      },
      "execution_count": 46,
      "outputs": [
        {
          "output_type": "execute_result",
          "data": {
            "text/plain": [
              "{'nombre': 'Jorge',\n",
              " 'apellido': 'Cardenas',\n",
              " 'saldo': 80000,\n",
              " 'tarjeta_credito': 'BBVA'}"
            ]
          },
          "metadata": {},
          "execution_count": 46
        }
      ]
    },
    {
      "cell_type": "markdown",
      "source": [
        "Ejercicio 5\n",
        "\n",
        "Eliminar el nombre del cliente."
      ],
      "metadata": {
        "id": "EhsIdR2wi2MR"
      }
    },
    {
      "cell_type": "code",
      "source": [
        "cliente.pop(\"nombre\")"
      ],
      "metadata": {
        "id": "JqmpNG5hEd_W",
        "outputId": "bacf6cc4-f60e-4f68-8011-6507ac3df492",
        "colab": {
          "base_uri": "https://localhost:8080/",
          "height": 35
        }
      },
      "execution_count": 47,
      "outputs": [
        {
          "output_type": "execute_result",
          "data": {
            "text/plain": [
              "'Jorge'"
            ],
            "application/vnd.google.colaboratory.intrinsic+json": {
              "type": "string"
            }
          },
          "metadata": {},
          "execution_count": 47
        }
      ]
    },
    {
      "cell_type": "code",
      "source": [
        "cliente"
      ],
      "metadata": {
        "id": "gNzIRvuPEhC5",
        "outputId": "25da5c51-b09c-40c4-f00b-5039874898c9",
        "colab": {
          "base_uri": "https://localhost:8080/"
        }
      },
      "execution_count": 48,
      "outputs": [
        {
          "output_type": "execute_result",
          "data": {
            "text/plain": [
              "{'apellido': 'Cardenas', 'saldo': 80000, 'tarjeta_credito': 'BBVA'}"
            ]
          },
          "metadata": {},
          "execution_count": 48
        }
      ]
    },
    {
      "cell_type": "markdown",
      "source": [
        "# FOR"
      ],
      "metadata": {
        "id": "SEZ-ENCGi45b"
      }
    },
    {
      "cell_type": "markdown",
      "source": [
        "Ejercicio 1\n",
        "\n",
        "Recorrer una lista de tasas de interés."
      ],
      "metadata": {
        "id": "UIibjV-Ti8kG"
      }
    },
    {
      "cell_type": "code",
      "source": [
        "tasa_interes = [0.1, 0.2, 0.3]\n",
        "for tasa in tasa_interes:\n",
        "  print(f\"Tasa es {tasa}%\")"
      ],
      "metadata": {
        "id": "VaQfwFOUFRBy",
        "outputId": "f6ad56c4-ac93-4e0d-ed0d-cb0e361bafe0",
        "colab": {
          "base_uri": "https://localhost:8080/"
        }
      },
      "execution_count": 55,
      "outputs": [
        {
          "output_type": "stream",
          "name": "stdout",
          "text": [
            "Tasa es 0.1%\n",
            "Tasa es 0.2%\n",
            "Tasa es 0.3%\n"
          ]
        }
      ]
    },
    {
      "cell_type": "markdown",
      "source": [
        "Ejercicio 2\n",
        "\n",
        "Sumar todos los saldos de una lista."
      ],
      "metadata": {
        "id": "xJcFuGJ-i_OZ"
      }
    },
    {
      "cell_type": "code",
      "source": [
        "saldo_final = 0\n",
        "saldos = [1000, 2000, 3000]\n",
        "for saldo in saldos:\n",
        "  saldo_final += saldo\n",
        "print(\"Saldo final\", saldo_final)"
      ],
      "metadata": {
        "id": "uL6xiK_3Fo8z",
        "outputId": "d20d4e62-3e9e-4695-f1a7-222ff44405c0",
        "colab": {
          "base_uri": "https://localhost:8080/"
        }
      },
      "execution_count": 62,
      "outputs": [
        {
          "output_type": "stream",
          "name": "stdout",
          "text": [
            "Saldo final 6000\n"
          ]
        }
      ]
    },
    {
      "cell_type": "markdown",
      "source": [
        "Ejercicio 3\n",
        "\n",
        "Recorrer una lista de precios de productos ecommerce y aplicar descuento de 10%."
      ],
      "metadata": {
        "id": "VrNKApKTjBYl"
      }
    },
    {
      "cell_type": "code",
      "source": [
        "lista_price_productos = [20, 50 , 80]\n",
        "for precio in lista_price_productos:\n",
        "  nuevo_precio = precio * 0.9\n",
        "  print(f\"Los nuevos precios son {nuevo_precio}\")"
      ],
      "metadata": {
        "id": "HJJHWKqVJYJm",
        "outputId": "3c49bb94-ce5f-4cc4-a722-baf8682f3528",
        "colab": {
          "base_uri": "https://localhost:8080/"
        }
      },
      "execution_count": 68,
      "outputs": [
        {
          "output_type": "stream",
          "name": "stdout",
          "text": [
            "Los nuevos precios son 18.0\n",
            "Los nuevos precios son 45.0\n",
            "Los nuevos precios son 72.0\n"
          ]
        }
      ]
    },
    {
      "cell_type": "markdown",
      "source": [
        "Ejercicio 4\n",
        "\n",
        "Contar cuántos productos tienen un precio mayor a 100."
      ],
      "metadata": {
        "id": "LLFjbn2KjDvf"
      }
    },
    {
      "cell_type": "code",
      "source": [
        "productos = [90, 110, 150, 80, 200]\n",
        "contador = 0\n",
        "for producto in productos:\n",
        "  if producto > 100:\n",
        "    contador += 1\n",
        "print(f\"Hay {contador} productos con precio mayor a 100\")"
      ],
      "metadata": {
        "id": "r5bhsz93K_NQ",
        "outputId": "dfc9d0ea-b828-49f4-a11e-f54dd7b92a1e",
        "colab": {
          "base_uri": "https://localhost:8080/"
        }
      },
      "execution_count": 70,
      "outputs": [
        {
          "output_type": "stream",
          "name": "stdout",
          "text": [
            "Hay 3 productos con precio mayor a 100\n"
          ]
        }
      ]
    },
    {
      "cell_type": "markdown",
      "source": [
        "Ejercicio 5\n",
        "\n",
        "Recorrer campañas de marketing y mostrar su nombre."
      ],
      "metadata": {
        "id": "Sx866gLnjGL3"
      }
    },
    {
      "cell_type": "code",
      "source": [
        "campañas = [\"Campaña 1\", \"Campaña 2\", \"Campaña 3\"]\n",
        "for campaña in campañas:\n",
        "  print(f\"La campaña es {campaña}\")"
      ],
      "metadata": {
        "id": "6kz3p5q5MFEb",
        "outputId": "4a1e96a0-5c69-4242-fa77-2def73a0bc5d",
        "colab": {
          "base_uri": "https://localhost:8080/"
        }
      },
      "execution_count": 71,
      "outputs": [
        {
          "output_type": "stream",
          "name": "stdout",
          "text": [
            "La campaña es Campaña 1\n",
            "La campaña es Campaña 2\n",
            "La campaña es Campaña 3\n"
          ]
        }
      ]
    },
    {
      "cell_type": "markdown",
      "source": [
        "Ejercicio 6\n",
        "\n",
        "Recorrer un diccionario de clientes con saldo y mostrar solo los que tengan saldo > 2000."
      ],
      "metadata": {
        "id": "QahT6s0IjIOv"
      }
    },
    {
      "cell_type": "markdown",
      "source": [
        "Ejercicio 7\n",
        "\n",
        "Recorrer una lista de emails de clientes y contar los que terminan en \"@gmail.com\"."
      ],
      "metadata": {
        "id": "2rTlLwQ_jL5s"
      }
    },
    {
      "cell_type": "markdown",
      "source": [
        "# Mini Proyecto\n",
        "\n",
        "\"Evaluador de Clientes Hipotecarios\""
      ],
      "metadata": {
        "id": "FMUBc06ojTaq"
      }
    },
    {
      "cell_type": "markdown",
      "source": [
        "Contexto:\n",
        "Un banco quiere evaluar a sus clientes para ofrecerles un nuevo crédito hipotecario.\n",
        "Cada cliente tiene datos como: nombre, ingreso mensual, deudas actuales y número de productos contratados.\n",
        "\n",
        "Objetivo:\n",
        "1. Crear la base de datos de clientes usando un diccionario.\n",
        "2. Usar for para recorrer todos los clientes.\n",
        "3. Aplicar condicionales para clasificar:\n",
        "   - \"Elegible\" si su ingreso anual es mayor a 36,000 soles, sus deudas son menores a 15,000 soles y tiene al menos 2 productos contratados.\n",
        "   - \"Requiere Evaluación\" si cumple solo algunas condiciones.\n",
        "   - \"No Elegible\" si no cumple ninguna condición.\n",
        "4. Mostrar el resultado bien formateado por cliente."
      ],
      "metadata": {
        "id": "UawN6JC7jXAE"
      }
    },
    {
      "cell_type": "markdown",
      "source": [
        "Instrucciones\n",
        "\n",
        "1. Crea un diccionario llamado clientes con al menos 5 clientes.\n",
        "2. Cada cliente tendrá:\n",
        "   - Nombre (str)\n",
        "   - Ingreso mensual (float)\n",
        "   - Deudas (float)\n",
        "   - Número de productos contratados (int)\n",
        "3. Calcula el ingreso anual (ingreso mensual × 12).\n",
        "4. Usa un for para recorrer cada cliente.\n",
        "5. Usa if, elif, else para clasificarlo en una de las tres categorías.\n",
        "6. Muestra en pantalla: Cliente: {nombre} - Resultado: {clasificación}"
      ],
      "metadata": {
        "id": "cO8ajcixjnWX"
      }
    },
    {
      "cell_type": "markdown",
      "source": [
        "# 🔥 Nivel extra:\n",
        "\n",
        "1. Ingresa manualmente los clientes (input).\n",
        "2. Calcula la diferencia absoluta (abs) entre ingreso anual y deudas.\n",
        "3. Redondea (round) el ingreso anual al número entero más cercano."
      ],
      "metadata": {
        "id": "5ZCQkJxkkDGj"
      }
    }
  ]
}