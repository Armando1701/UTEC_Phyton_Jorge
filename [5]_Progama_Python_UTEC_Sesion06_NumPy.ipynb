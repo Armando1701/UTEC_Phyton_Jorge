{
  "nbformat": 4,
  "nbformat_minor": 0,
  "metadata": {
    "colab": {
      "provenance": [],
      "include_colab_link": true
    },
    "kernelspec": {
      "name": "python3",
      "display_name": "Python 3"
    },
    "language_info": {
      "name": "python"
    }
  },
  "cells": [
    {
      "cell_type": "markdown",
      "metadata": {
        "id": "view-in-github",
        "colab_type": "text"
      },
      "source": [
        "<a href=\"https://colab.research.google.com/github/Armando1701/UTEC_Phyton_Jorge/blob/main/%5B5%5D_Progama_Python_UTEC_Sesion06_NumPy.ipynb\" target=\"_parent\"><img src=\"https://colab.research.google.com/assets/colab-badge.svg\" alt=\"Open In Colab\"/></a>"
      ]
    },
    {
      "cell_type": "markdown",
      "source": [
        "## NumPy"
      ],
      "metadata": {
        "id": "M7ax-NH9Qw82"
      }
    },
    {
      "cell_type": "markdown",
      "source": [
        "### [1] Crear un arreglo NumPy"
      ],
      "metadata": {
        "id": "DFN-vU8MSO6d"
      }
    },
    {
      "cell_type": "code",
      "execution_count": null,
      "metadata": {
        "id": "g6evhYb4QrvL"
      },
      "outputs": [],
      "source": [
        "# Llamar a la librería\n",
        "import numpy as np"
      ]
    },
    {
      "cell_type": "code",
      "source": [
        "# Crear un arreglo en numpy\n",
        "arr_1 = np.array([2,4,6])"
      ],
      "metadata": {
        "id": "wNH_N_ZFRHTI"
      },
      "execution_count": null,
      "outputs": []
    },
    {
      "cell_type": "code",
      "source": [
        "# Visualizar el arreglo\n",
        "print(f\"El arreglo en numpy es \\n{arr_1}\")"
      ],
      "metadata": {
        "id": "Q2LXArvJRaxe",
        "colab": {
          "base_uri": "https://localhost:8080/"
        },
        "outputId": "412d845b-e99d-42eb-bffd-bfec3c9de9bc"
      },
      "execution_count": null,
      "outputs": [
        {
          "output_type": "stream",
          "name": "stdout",
          "text": [
            "El arreglo en numpy es \n",
            "[2 4 6]\n"
          ]
        }
      ]
    },
    {
      "cell_type": "code",
      "source": [
        "# La lista de listas\n",
        "lista_1 = [[0,1,2,3],[4,5,6,7],[8,9,10,11]]"
      ],
      "metadata": {
        "id": "dKz3Eo48k_ug"
      },
      "execution_count": null,
      "outputs": []
    },
    {
      "cell_type": "code",
      "source": [
        "print(f\"La lista de listas es \\n{lista_1}\")"
      ],
      "metadata": {
        "id": "3AMS8zpZlWG2",
        "outputId": "3002254b-9197-4011-8fa9-68f7c4fa671d",
        "colab": {
          "base_uri": "https://localhost:8080/"
        }
      },
      "execution_count": null,
      "outputs": [
        {
          "output_type": "stream",
          "name": "stdout",
          "text": [
            "La lista de listas es \n",
            "[[0, 1, 2, 3], [4, 5, 6, 7], [8, 9, 10, 11]]\n"
          ]
        }
      ]
    },
    {
      "cell_type": "code",
      "source": [
        "arreglo_1 = np.array([[0, 1, 2, 3],[4, 5, 6, 7],[8, 9, 10, 11]])\n",
        "print(f\"El arreglo es \\n{arreglo_1}\")\n",
        "print(f\"\\nEl tipo de dato es {type(arreglo_1)}\")"
      ],
      "metadata": {
        "colab": {
          "base_uri": "https://localhost:8080/"
        },
        "id": "ykj0D5pO78Am",
        "outputId": "57dc254d-61e7-47e0-ef9c-9881c243c0b3"
      },
      "execution_count": null,
      "outputs": [
        {
          "output_type": "stream",
          "name": "stdout",
          "text": [
            "El arreglo es \n",
            "[[ 0  1  2  3]\n",
            " [ 4  5  6  7]\n",
            " [ 8  9 10 11]]\n",
            "\n",
            "El tipo de dato es <class 'numpy.ndarray'>\n"
          ]
        }
      ]
    },
    {
      "cell_type": "code",
      "source": [
        "# Crear una lista\n",
        "lista_1 = [2,4,6]\n",
        "print(f\"La lista es \\n{lista_1}\")"
      ],
      "metadata": {
        "id": "3XsqVLskRk2j",
        "colab": {
          "base_uri": "https://localhost:8080/"
        },
        "outputId": "5fd25dca-2afa-4b0d-aa54-5c3e37adfa90"
      },
      "execution_count": null,
      "outputs": [
        {
          "output_type": "stream",
          "name": "stdout",
          "text": [
            "La lista es \n",
            "[2, 4, 6]\n"
          ]
        }
      ]
    },
    {
      "cell_type": "code",
      "source": [
        "lista_2 = [5,6,7]"
      ],
      "metadata": {
        "id": "z73UiiDvnGCr"
      },
      "execution_count": null,
      "outputs": []
    },
    {
      "cell_type": "code",
      "source": [
        "print(f\"El objeto arr_1 es del tipo \\n{type(arr_1)}\")\n",
        "print(f\"\\nEl objeto lista_1 es del tipo \\n{type(lista_1)}\")"
      ],
      "metadata": {
        "id": "IKOZVtQdRwgx",
        "colab": {
          "base_uri": "https://localhost:8080/"
        },
        "outputId": "18289e28-8fec-4da6-da6e-311dcb9851eb"
      },
      "execution_count": null,
      "outputs": [
        {
          "output_type": "stream",
          "name": "stdout",
          "text": [
            "El objeto arr_1 es del tipo \n",
            "<class 'numpy.ndarray'>\n",
            "\n",
            "El objeto lista_1 es del tipo \n",
            "<class 'list'>\n"
          ]
        }
      ]
    },
    {
      "cell_type": "code",
      "source": [
        "# Operaciones listas\n",
        "print(f\"El valor mínimo de la lista \\n{lista_1} es {min(lista_1)}\")\n",
        "print(f\"\\nEl valor máximo de la lista \\n{lista_1} es {max(lista_1)}\")\n",
        "print(f\"\\nLa suma total de la lista \\n{lista_1} es {sum(lista_1)}\")"
      ],
      "metadata": {
        "id": "JLk0F3VoSGC5",
        "colab": {
          "base_uri": "https://localhost:8080/"
        },
        "outputId": "3bccdd5f-7998-4c45-c640-3b0c3d9388cf"
      },
      "execution_count": null,
      "outputs": [
        {
          "output_type": "stream",
          "name": "stdout",
          "text": [
            "El valor mínimo de la lista \n",
            "[2, 4, 6] es 2\n",
            "\n",
            "El valor máximo de la lista \n",
            "[2, 4, 6] es 6\n",
            "\n",
            "La suma total de la lista \n",
            "[2, 4, 6] es 12\n"
          ]
        }
      ]
    },
    {
      "cell_type": "code",
      "source": [
        "lista_1 + lista_2"
      ],
      "metadata": {
        "id": "_J52hMhXm07i",
        "outputId": "f21f4e65-a6e6-42e4-a497-7381e04aa81b",
        "colab": {
          "base_uri": "https://localhost:8080/"
        }
      },
      "execution_count": null,
      "outputs": [
        {
          "output_type": "execute_result",
          "data": {
            "text/plain": [
              "[2, 4, 6, 5, 6, 7]"
            ]
          },
          "metadata": {},
          "execution_count": 12
        }
      ]
    },
    {
      "cell_type": "code",
      "source": [
        "# El símbolo \"+\" permite concatenar listas\n",
        "lista_1 + [5]"
      ],
      "metadata": {
        "id": "syypEvzBSvnE",
        "colab": {
          "base_uri": "https://localhost:8080/"
        },
        "outputId": "42f6cf41-d97a-4043-9a25-7d06a4cae19c"
      },
      "execution_count": null,
      "outputs": [
        {
          "output_type": "execute_result",
          "data": {
            "text/plain": [
              "[2, 4, 6, 5]"
            ]
          },
          "metadata": {},
          "execution_count": 9
        }
      ]
    },
    {
      "cell_type": "code",
      "source": [
        "print(f\"El arreglo en numpy es \\n{arr_1}\")\n",
        "print(f\"Suma del arreglo en numpy con 5 es \\n{arr_1 + 5}\")"
      ],
      "metadata": {
        "id": "EIXdc1GPTYLg",
        "colab": {
          "base_uri": "https://localhost:8080/"
        },
        "outputId": "ba6431c0-48b9-40fd-9eb7-16a88933efa4"
      },
      "execution_count": null,
      "outputs": [
        {
          "output_type": "stream",
          "name": "stdout",
          "text": [
            "El arreglo en numpy es \n",
            "[2 4 6]\n",
            "Suma del arreglo en numpy con 5 es \n",
            "[ 7  9 11]\n"
          ]
        }
      ]
    },
    {
      "cell_type": "code",
      "source": [],
      "metadata": {
        "id": "48O7dLa_nqhe"
      },
      "execution_count": null,
      "outputs": []
    },
    {
      "cell_type": "code",
      "source": [
        "# Crear arreglos de numpy\n",
        "\n",
        "a1 = np.array([1,2,3])\n",
        "a2 = np.array([4,5,6])\n",
        "\n",
        "print(f\"El arreglo a1 es \\n{a1}\")\n",
        "print(f\"\\nEl arreglo a2 es \\n{a2}\")"
      ],
      "metadata": {
        "id": "_MYwIeGhT6xV",
        "outputId": "e12d530b-47a7-40bf-c548-7a2046382dde",
        "colab": {
          "base_uri": "https://localhost:8080/"
        }
      },
      "execution_count": null,
      "outputs": [
        {
          "output_type": "stream",
          "name": "stdout",
          "text": [
            "El arreglo a1 es \n",
            "[1 2 3]\n",
            "\n",
            "El arreglo a2 es \n",
            "[4 5 6]\n"
          ]
        }
      ]
    },
    {
      "cell_type": "code",
      "source": [
        "print(f\"El arreglo a1 es del tipo \\n{type(a1)}\")\n",
        "print(f\"\\nEl arreglo a2 es del tipo \\n{type(a2)}\")"
      ],
      "metadata": {
        "id": "B7N437r5Up_A",
        "outputId": "eb837121-3fff-45fa-a71a-fecac2237095",
        "colab": {
          "base_uri": "https://localhost:8080/"
        }
      },
      "execution_count": null,
      "outputs": [
        {
          "output_type": "stream",
          "name": "stdout",
          "text": [
            "El arreglo a1 es del tipo \n",
            "<class 'numpy.ndarray'>\n",
            "\n",
            "El arreglo a2 es del tipo \n",
            "<class 'numpy.ndarray'>\n"
          ]
        }
      ]
    },
    {
      "cell_type": "markdown",
      "source": [
        "### Actividad N034"
      ],
      "metadata": {
        "id": "HKmjSqdxS8Fw"
      }
    },
    {
      "cell_type": "markdown",
      "source": [
        "Crear un arreglo en NumPy a partir de la información de la siguiente tabla y nombrarlo como data_array"
      ],
      "metadata": {
        "id": "kx3YcpVKTFbO"
      }
    },
    {
      "cell_type": "code",
      "source": [
        "from google.colab import files\n",
        "\n",
        "# Subir archivo desde tu máquina local\n",
        "uploaded = files.upload()"
      ],
      "metadata": {
        "id": "DC1TlVMxTiiZ",
        "outputId": "4b2150b9-822f-4bbe-a5c9-b7173270fd2a",
        "colab": {
          "base_uri": "https://localhost:8080/",
          "height": 73
        }
      },
      "execution_count": null,
      "outputs": [
        {
          "output_type": "display_data",
          "data": {
            "text/plain": [
              "<IPython.core.display.HTML object>"
            ],
            "text/html": [
              "\n",
              "     <input type=\"file\" id=\"files-603faf1a-d582-40bf-bcde-e9706572dd97\" name=\"files[]\" multiple disabled\n",
              "        style=\"border:none\" />\n",
              "     <output id=\"result-603faf1a-d582-40bf-bcde-e9706572dd97\">\n",
              "      Upload widget is only available when the cell has been executed in the\n",
              "      current browser session. Please rerun this cell to enable.\n",
              "      </output>\n",
              "      <script>// Copyright 2017 Google LLC\n",
              "//\n",
              "// Licensed under the Apache License, Version 2.0 (the \"License\");\n",
              "// you may not use this file except in compliance with the License.\n",
              "// You may obtain a copy of the License at\n",
              "//\n",
              "//      http://www.apache.org/licenses/LICENSE-2.0\n",
              "//\n",
              "// Unless required by applicable law or agreed to in writing, software\n",
              "// distributed under the License is distributed on an \"AS IS\" BASIS,\n",
              "// WITHOUT WARRANTIES OR CONDITIONS OF ANY KIND, either express or implied.\n",
              "// See the License for the specific language governing permissions and\n",
              "// limitations under the License.\n",
              "\n",
              "/**\n",
              " * @fileoverview Helpers for google.colab Python module.\n",
              " */\n",
              "(function(scope) {\n",
              "function span(text, styleAttributes = {}) {\n",
              "  const element = document.createElement('span');\n",
              "  element.textContent = text;\n",
              "  for (const key of Object.keys(styleAttributes)) {\n",
              "    element.style[key] = styleAttributes[key];\n",
              "  }\n",
              "  return element;\n",
              "}\n",
              "\n",
              "// Max number of bytes which will be uploaded at a time.\n",
              "const MAX_PAYLOAD_SIZE = 100 * 1024;\n",
              "\n",
              "function _uploadFiles(inputId, outputId) {\n",
              "  const steps = uploadFilesStep(inputId, outputId);\n",
              "  const outputElement = document.getElementById(outputId);\n",
              "  // Cache steps on the outputElement to make it available for the next call\n",
              "  // to uploadFilesContinue from Python.\n",
              "  outputElement.steps = steps;\n",
              "\n",
              "  return _uploadFilesContinue(outputId);\n",
              "}\n",
              "\n",
              "// This is roughly an async generator (not supported in the browser yet),\n",
              "// where there are multiple asynchronous steps and the Python side is going\n",
              "// to poll for completion of each step.\n",
              "// This uses a Promise to block the python side on completion of each step,\n",
              "// then passes the result of the previous step as the input to the next step.\n",
              "function _uploadFilesContinue(outputId) {\n",
              "  const outputElement = document.getElementById(outputId);\n",
              "  const steps = outputElement.steps;\n",
              "\n",
              "  const next = steps.next(outputElement.lastPromiseValue);\n",
              "  return Promise.resolve(next.value.promise).then((value) => {\n",
              "    // Cache the last promise value to make it available to the next\n",
              "    // step of the generator.\n",
              "    outputElement.lastPromiseValue = value;\n",
              "    return next.value.response;\n",
              "  });\n",
              "}\n",
              "\n",
              "/**\n",
              " * Generator function which is called between each async step of the upload\n",
              " * process.\n",
              " * @param {string} inputId Element ID of the input file picker element.\n",
              " * @param {string} outputId Element ID of the output display.\n",
              " * @return {!Iterable<!Object>} Iterable of next steps.\n",
              " */\n",
              "function* uploadFilesStep(inputId, outputId) {\n",
              "  const inputElement = document.getElementById(inputId);\n",
              "  inputElement.disabled = false;\n",
              "\n",
              "  const outputElement = document.getElementById(outputId);\n",
              "  outputElement.innerHTML = '';\n",
              "\n",
              "  const pickedPromise = new Promise((resolve) => {\n",
              "    inputElement.addEventListener('change', (e) => {\n",
              "      resolve(e.target.files);\n",
              "    });\n",
              "  });\n",
              "\n",
              "  const cancel = document.createElement('button');\n",
              "  inputElement.parentElement.appendChild(cancel);\n",
              "  cancel.textContent = 'Cancel upload';\n",
              "  const cancelPromise = new Promise((resolve) => {\n",
              "    cancel.onclick = () => {\n",
              "      resolve(null);\n",
              "    };\n",
              "  });\n",
              "\n",
              "  // Wait for the user to pick the files.\n",
              "  const files = yield {\n",
              "    promise: Promise.race([pickedPromise, cancelPromise]),\n",
              "    response: {\n",
              "      action: 'starting',\n",
              "    }\n",
              "  };\n",
              "\n",
              "  cancel.remove();\n",
              "\n",
              "  // Disable the input element since further picks are not allowed.\n",
              "  inputElement.disabled = true;\n",
              "\n",
              "  if (!files) {\n",
              "    return {\n",
              "      response: {\n",
              "        action: 'complete',\n",
              "      }\n",
              "    };\n",
              "  }\n",
              "\n",
              "  for (const file of files) {\n",
              "    const li = document.createElement('li');\n",
              "    li.append(span(file.name, {fontWeight: 'bold'}));\n",
              "    li.append(span(\n",
              "        `(${file.type || 'n/a'}) - ${file.size} bytes, ` +\n",
              "        `last modified: ${\n",
              "            file.lastModifiedDate ? file.lastModifiedDate.toLocaleDateString() :\n",
              "                                    'n/a'} - `));\n",
              "    const percent = span('0% done');\n",
              "    li.appendChild(percent);\n",
              "\n",
              "    outputElement.appendChild(li);\n",
              "\n",
              "    const fileDataPromise = new Promise((resolve) => {\n",
              "      const reader = new FileReader();\n",
              "      reader.onload = (e) => {\n",
              "        resolve(e.target.result);\n",
              "      };\n",
              "      reader.readAsArrayBuffer(file);\n",
              "    });\n",
              "    // Wait for the data to be ready.\n",
              "    let fileData = yield {\n",
              "      promise: fileDataPromise,\n",
              "      response: {\n",
              "        action: 'continue',\n",
              "      }\n",
              "    };\n",
              "\n",
              "    // Use a chunked sending to avoid message size limits. See b/62115660.\n",
              "    let position = 0;\n",
              "    do {\n",
              "      const length = Math.min(fileData.byteLength - position, MAX_PAYLOAD_SIZE);\n",
              "      const chunk = new Uint8Array(fileData, position, length);\n",
              "      position += length;\n",
              "\n",
              "      const base64 = btoa(String.fromCharCode.apply(null, chunk));\n",
              "      yield {\n",
              "        response: {\n",
              "          action: 'append',\n",
              "          file: file.name,\n",
              "          data: base64,\n",
              "        },\n",
              "      };\n",
              "\n",
              "      let percentDone = fileData.byteLength === 0 ?\n",
              "          100 :\n",
              "          Math.round((position / fileData.byteLength) * 100);\n",
              "      percent.textContent = `${percentDone}% done`;\n",
              "\n",
              "    } while (position < fileData.byteLength);\n",
              "  }\n",
              "\n",
              "  // All done.\n",
              "  yield {\n",
              "    response: {\n",
              "      action: 'complete',\n",
              "    }\n",
              "  };\n",
              "}\n",
              "\n",
              "scope.google = scope.google || {};\n",
              "scope.google.colab = scope.google.colab || {};\n",
              "scope.google.colab._files = {\n",
              "  _uploadFiles,\n",
              "  _uploadFilesContinue,\n",
              "};\n",
              "})(self);\n",
              "</script> "
            ]
          },
          "metadata": {}
        },
        {
          "output_type": "stream",
          "name": "stdout",
          "text": [
            "Saving data_arreglo.png to data_arreglo.png\n"
          ]
        }
      ]
    },
    {
      "cell_type": "code",
      "source": [
        "from IPython.display import Image, display\n",
        "\n",
        "# Mostrar la imagen en Colab\n",
        "display(Image(filename='data_arreglo.png'))"
      ],
      "metadata": {
        "id": "5dFQd7L_Tjr7",
        "outputId": "d07d578a-15aa-41e2-d7e2-79268f61061f",
        "colab": {
          "base_uri": "https://localhost:8080/",
          "height": 198
        }
      },
      "execution_count": null,
      "outputs": [
        {
          "output_type": "display_data",
          "data": {
            "image/png": "[encoded data removed]",
            "text/plain": [
              "<IPython.core.display.Image object>"
            ]
          },
          "metadata": {}
        }
      ]
    },
    {
      "cell_type": "code",
      "source": [
        "p1 = np.array([35,10,1,3500,12000])\n",
        "p2 = np.array([50,25,3,6000,30000])\n",
        "p3 = np.array([23,2,0,50,1500])\n",
        "p4 = np.array([42,15,2,1000,2800])"
      ],
      "metadata": {
        "id": "Yt8I7zPZT81c"
      },
      "execution_count": null,
      "outputs": []
    },
    {
      "cell_type": "code",
      "source": [
        "data_array = np.array([p1,p2,p3,p4])\n",
        "print(data_array)"
      ],
      "metadata": {
        "id": "-f9Va03Ip_2V",
        "outputId": "2158aae8-135f-41dd-cab0-be4f3ba38e5f",
        "colab": {
          "base_uri": "https://localhost:8080/"
        }
      },
      "execution_count": null,
      "outputs": [
        {
          "output_type": "stream",
          "name": "stdout",
          "text": [
            "[[   35    10     1  3500 12000]\n",
            " [   50    25     3  6000 30000]\n",
            " [   23     2     0    50  1500]\n",
            " [   42    15     2  1000  2800]]\n"
          ]
        }
      ]
    },
    {
      "cell_type": "code",
      "source": [
        "print(f\"El arreglo p1 es \\n{p1}\")\n",
        "print(f\"\\nEl arreglo p2 es \\n{p2}\")\n",
        "print(f\"\\nEl arreglo p3 es \\n{p3}\")\n",
        "print(f\"\\nEl arreglo p4 es \\n{p4}\")"
      ],
      "metadata": {
        "id": "vp0a3ysrpwIC",
        "outputId": "94e3f15e-aaac-4a37-e9e3-35c7a183bf14",
        "colab": {
          "base_uri": "https://localhost:8080/"
        }
      },
      "execution_count": null,
      "outputs": [
        {
          "output_type": "stream",
          "name": "stdout",
          "text": [
            "El arreglo p1 es \n",
            "[   35    10     1  3500 12000]\n",
            "\n",
            "El arreglo p2 es \n",
            "[   50    25     3  6000 30000]\n",
            "\n",
            "El arreglo p3 es \n",
            "[  23    2    0   50 1500]\n",
            "\n",
            "El arreglo p4 es \n",
            "[  42   15    2 1000 2800]\n"
          ]
        }
      ]
    },
    {
      "cell_type": "markdown",
      "source": [
        "### [2] Características de un arreglo"
      ],
      "metadata": {
        "id": "r7-m_bzyUMZS"
      }
    },
    {
      "cell_type": "code",
      "source": [
        "arreglo_1 = np.array([[0, 1, 2, 3],[4, 5, 6, 7],[8, 9, 10, 11]])"
      ],
      "metadata": {
        "id": "-_AubxSmUSuJ"
      },
      "execution_count": null,
      "outputs": []
    },
    {
      "cell_type": "code",
      "source": [
        "arreglo_1.ndim"
      ],
      "metadata": {
        "id": "QKHJ1b60UZ_d",
        "outputId": "2620a30b-f3a8-47b3-c1c9-87a06f405b58",
        "colab": {
          "base_uri": "https://localhost:8080/"
        }
      },
      "execution_count": null,
      "outputs": [
        {
          "output_type": "execute_result",
          "data": {
            "text/plain": [
              "2"
            ]
          },
          "metadata": {},
          "execution_count": 27
        }
      ]
    },
    {
      "cell_type": "code",
      "source": [
        "arreglo_1.shape"
      ],
      "metadata": {
        "id": "sckRTGENUeXm",
        "outputId": "bfec70d1-61f0-4bb3-df4a-8737a1cc5a0e",
        "colab": {
          "base_uri": "https://localhost:8080/"
        }
      },
      "execution_count": null,
      "outputs": [
        {
          "output_type": "execute_result",
          "data": {
            "text/plain": [
              "(3, 4)"
            ]
          },
          "metadata": {},
          "execution_count": 28
        }
      ]
    },
    {
      "cell_type": "code",
      "source": [
        "arreglo_1.size"
      ],
      "metadata": {
        "id": "_PDqakPpUhLx",
        "outputId": "158774b5-4485-47b2-f955-cf22481c946b",
        "colab": {
          "base_uri": "https://localhost:8080/"
        }
      },
      "execution_count": null,
      "outputs": [
        {
          "output_type": "execute_result",
          "data": {
            "text/plain": [
              "12"
            ]
          },
          "metadata": {},
          "execution_count": 29
        }
      ]
    },
    {
      "cell_type": "code",
      "source": [
        "arreglo_1.dtype.name"
      ],
      "metadata": {
        "id": "uBsa3bH9UjmD",
        "outputId": "c228ce0d-0ead-4a69-d3d9-c001eff5a555",
        "colab": {
          "base_uri": "https://localhost:8080/",
          "height": 35
        }
      },
      "execution_count": null,
      "outputs": [
        {
          "output_type": "execute_result",
          "data": {
            "text/plain": [
              "'int64'"
            ],
            "application/vnd.google.colaboratory.intrinsic+json": {
              "type": "string"
            }
          },
          "metadata": {},
          "execution_count": 30
        }
      ]
    },
    {
      "cell_type": "markdown",
      "source": [
        "### Actividad N035"
      ],
      "metadata": {
        "id": "VuPreCZLUsn9"
      }
    },
    {
      "cell_type": "markdown",
      "source": [
        "Obtenga las siguientes características del arreglo NumPy data_array: el número de dimensiones, tamaño de cada dimensión, el número de elementos."
      ],
      "metadata": {
        "id": "Q9SnUAUjUwx5"
      }
    },
    {
      "cell_type": "code",
      "source": [
        "print(f\" el numero de dimensiones es {data_array.ndim}\")\n",
        "print(f\" el tamaño de cada dimensión es {data_array.shape}\")\n",
        "print(f\" el número de elementos es {data_array.size}\")"
      ],
      "metadata": {
        "id": "0B6qwiAAU0q9",
        "outputId": "f28c6f7e-7e77-475d-db84-54d640e748af",
        "colab": {
          "base_uri": "https://localhost:8080/"
        }
      },
      "execution_count": null,
      "outputs": [
        {
          "output_type": "stream",
          "name": "stdout",
          "text": [
            " el numero de dimensiones es 2\n",
            " el tamaño de cada dimensión es (4, 5)\n",
            " el número de elementos es 20\n"
          ]
        }
      ]
    },
    {
      "cell_type": "markdown",
      "source": [
        "### [3] Operaciones matemáticas con arreglos NumPy"
      ],
      "metadata": {
        "id": "WcN1zyxaU3vT"
      }
    },
    {
      "cell_type": "code",
      "source": [
        "arreglo_2 = np.array( [11, 12, 13, 14])\n",
        "arreglo_3 = np.array( [ 1, 2, 3, 4])"
      ],
      "metadata": {
        "id": "bM-cNQMgVKed"
      },
      "execution_count": null,
      "outputs": []
    },
    {
      "cell_type": "code",
      "source": [
        "# Suma de arreglos\n",
        "arreglo_4 = arreglo_2 + arreglo_3\n",
        "print(f\" El arreglo resultante es {arreglo_4}\")"
      ],
      "metadata": {
        "id": "iP_admGHVNO4",
        "outputId": "392b836d-9d8d-4264-eae4-21919ae9aa20",
        "colab": {
          "base_uri": "https://localhost:8080/"
        }
      },
      "execution_count": null,
      "outputs": [
        {
          "output_type": "stream",
          "name": "stdout",
          "text": [
            " El arreglo resultante es [12 14 16 18]\n"
          ]
        }
      ]
    },
    {
      "cell_type": "code",
      "source": [
        "# Resta de arreglos\n",
        "arreglo_5 = arreglo_2 - arreglo_3\n",
        "print(f\" El arreglo resultante es {arreglo_5}\")"
      ],
      "metadata": {
        "id": "idpDjiIGVRk2",
        "outputId": "c68b5e4a-a540-497f-e610-5d4ef6880fea",
        "colab": {
          "base_uri": "https://localhost:8080/"
        }
      },
      "execution_count": null,
      "outputs": [
        {
          "output_type": "stream",
          "name": "stdout",
          "text": [
            " El arreglo resultante es [10 10 10 10]\n"
          ]
        }
      ]
    },
    {
      "cell_type": "code",
      "source": [
        "# Potencia de arreglos\n",
        "arreglo_3**2"
      ],
      "metadata": {
        "id": "b-sGyJKYVbT3",
        "outputId": "1abc0d5f-197a-4a60-fb86-098735b1a339",
        "colab": {
          "base_uri": "https://localhost:8080/"
        }
      },
      "execution_count": null,
      "outputs": [
        {
          "output_type": "execute_result",
          "data": {
            "text/plain": [
              "array([ 1,  4,  9, 16])"
            ]
          },
          "metadata": {},
          "execution_count": 41
        }
      ]
    },
    {
      "cell_type": "code",
      "source": [
        "# Transformación de un arreglo\n",
        "np.cos(arreglo_3)"
      ],
      "metadata": {
        "id": "iRgBq4tTVgdZ",
        "outputId": "a1a333c2-4ba3-45b5-9801-df6bad74d02a",
        "colab": {
          "base_uri": "https://localhost:8080/"
        }
      },
      "execution_count": null,
      "outputs": [
        {
          "output_type": "execute_result",
          "data": {
            "text/plain": [
              "array([ 0.54030231, -0.41614684, -0.9899925 , -0.65364362])"
            ]
          },
          "metadata": {},
          "execution_count": 42
        }
      ]
    },
    {
      "cell_type": "code",
      "source": [
        "# Multiplicación de matrices\n",
        "\n",
        "A1 = np.array([[1, 1],[0, 1]])\n",
        "A2 = np.array([[2, 0],[3, 4]])"
      ],
      "metadata": {
        "id": "Qu6uMOVnVl34"
      },
      "execution_count": null,
      "outputs": []
    },
    {
      "cell_type": "code",
      "source": [
        "np.dot(A1,A2)"
      ],
      "metadata": {
        "id": "u4S9UdHEVl6U",
        "outputId": "e4062dac-4b11-4bf5-8e96-5618096bed7c",
        "colab": {
          "base_uri": "https://localhost:8080/"
        }
      },
      "execution_count": null,
      "outputs": [
        {
          "output_type": "execute_result",
          "data": {
            "text/plain": [
              "array([[5, 4],\n",
              "       [3, 4]])"
            ]
          },
          "metadata": {},
          "execution_count": 44
        }
      ]
    },
    {
      "cell_type": "code",
      "source": [
        "## Multiplicación de matrices\n",
        "\n",
        "A = np.array([[1,0,2],[3,1,1],[2,1,1]])\n",
        "B = np.array([[1,0],[3,1],[2,1]])\n",
        "\n",
        "print(f\"La matriz A es \\n{A}\")\n",
        "print(f\"\\nLa matriz B es \\n{B}\")"
      ],
      "metadata": {
        "id": "-iJahFde2EmA",
        "outputId": "7f0b3391-62b0-442c-a449-a588cb2cb761",
        "colab": {
          "base_uri": "https://localhost:8080/"
        }
      },
      "execution_count": null,
      "outputs": [
        {
          "output_type": "stream",
          "name": "stdout",
          "text": [
            "La matriz A es \n",
            "[[1 0 2]\n",
            " [3 1 1]\n",
            " [2 1 1]]\n",
            "\n",
            "La matriz B es \n",
            "[[1 0]\n",
            " [3 1]\n",
            " [2 1]]\n"
          ]
        }
      ]
    },
    {
      "cell_type": "code",
      "source": [
        "print(f\"el tamaño de la matriz A es {A.shape}\")\n",
        "print(f\"\\nel tamaño de la matriz B es {B.shape}\")\n"
      ],
      "metadata": {
        "id": "JR77AfiG2wM8",
        "outputId": "3e48434b-1c4e-4b3d-9bd7-cbcc0a616e3f",
        "colab": {
          "base_uri": "https://localhost:8080/"
        }
      },
      "execution_count": null,
      "outputs": [
        {
          "output_type": "stream",
          "name": "stdout",
          "text": [
            "el tamaño de la matriz A es (3, 3)\n",
            "\n",
            "el tamaño de la matriz B es (3, 2)\n"
          ]
        }
      ]
    },
    {
      "cell_type": "code",
      "source": [
        "print(f\"La multiplicación es matrices es \\n{np.dot(A,B)}\")"
      ],
      "metadata": {
        "id": "OKZSwsca25-S",
        "outputId": "f31fc3ae-f9c6-4295-cc6c-d0b55d9824d6",
        "colab": {
          "base_uri": "https://localhost:8080/"
        }
      },
      "execution_count": null,
      "outputs": [
        {
          "output_type": "stream",
          "name": "stdout",
          "text": [
            "La multiplicación es matrices es \n",
            "[[5 2]\n",
            " [8 2]\n",
            " [7 2]]\n"
          ]
        }
      ]
    },
    {
      "cell_type": "code",
      "source": [
        "# Operaciones matemáticas con los arreglos de numpy\n",
        "arr_sum = a1 + a2\n",
        "arr_prod = a1 * a2\n",
        "print(f\"La suma de los arreglos es \\n{arr_sum}\")\n",
        "print(f\"\\nLa multiplicación de los arreglos es \\n{arr_prod}\")"
      ],
      "metadata": {
        "id": "Oep_gqWsU4g8",
        "outputId": "641f2566-83c6-4dee-9e35-1997a9af9ce4",
        "colab": {
          "base_uri": "https://localhost:8080/"
        }
      },
      "execution_count": null,
      "outputs": [
        {
          "output_type": "stream",
          "name": "stdout",
          "text": [
            "La suma de los arreglos es \n",
            "[5 7 9]\n",
            "\n",
            "La multiplicación de los arreglos es \n",
            "[ 4 10 18]\n"
          ]
        }
      ]
    },
    {
      "cell_type": "code",
      "source": [
        "# Matrices de 2D\n",
        "mat_4 = np.array([[1,2,3],[4,5,6]])\n",
        "print(f\"La matriz de 2D es \\n{mat_4}\")"
      ],
      "metadata": {
        "id": "g1gxfd7fVjc1",
        "outputId": "fd86f556-0c87-4384-9a93-65b8c333a370",
        "colab": {
          "base_uri": "https://localhost:8080/"
        }
      },
      "execution_count": null,
      "outputs": [
        {
          "output_type": "stream",
          "name": "stdout",
          "text": [
            "La matriz de 2D es \n",
            "[[1 2 3]\n",
            " [4 5 6]]\n"
          ]
        }
      ]
    },
    {
      "cell_type": "code",
      "source": [
        "# Crear una lista de listas\n",
        "ll_1 = [[10,20,30],[10,10,10]]\n",
        "print(f\"La lista de listas es \\n{ll_1}\")\n",
        "print(f\"\\nEl objeto ll_1 es del tipo \\n{type(ll_1)}\")"
      ],
      "metadata": {
        "id": "hDeFOdGYW02Q",
        "outputId": "6b2d3151-cfb6-4f55-e974-ad3e690955b2",
        "colab": {
          "base_uri": "https://localhost:8080/"
        }
      },
      "execution_count": null,
      "outputs": [
        {
          "output_type": "stream",
          "name": "stdout",
          "text": [
            "La lista de listas es \n",
            "[[10, 20, 30], [10, 10, 10]]\n",
            "\n",
            "El objeto ll_1 es del tipo \n",
            "<class 'list'>\n"
          ]
        }
      ]
    },
    {
      "cell_type": "code",
      "source": [
        "# Crear una matriz en numpy a partir de una lista\n",
        "\n",
        "mat_6 = np.array(ll_1)\n",
        "print(f\"La matriz de 2D es \\n{mat_6}\")\n",
        "print(f\"\\nEl objeto mat_6 es del tipo \\n{type(mat_6)}\")"
      ],
      "metadata": {
        "id": "9VYr7KCjXjoW",
        "outputId": "1bbc3e8a-ca76-4c63-b12e-42329dbe0419",
        "colab": {
          "base_uri": "https://localhost:8080/"
        }
      },
      "execution_count": null,
      "outputs": [
        {
          "output_type": "stream",
          "name": "stdout",
          "text": [
            "La matriz de 2D es \n",
            "[[10 20 30]\n",
            " [10 10 10]]\n",
            "\n",
            "El objeto mat_6 es del tipo \n",
            "<class 'numpy.ndarray'>\n"
          ]
        }
      ]
    },
    {
      "cell_type": "code",
      "source": [
        "# Creamos una matriz 1D a parit de arange\n",
        "mat_7 = np.arange(15)\n",
        "print(f\"La matriz 1D de numpy es \\n{mat_7}\")\n",
        "print(f\"\\nEl objeto mat_7 es del tipo \\n{type(mat_7)}\")"
      ],
      "metadata": {
        "id": "xVpociN9YCzM",
        "outputId": "877a5a13-b837-4cc9-ab82-ac81aa9c23d2",
        "colab": {
          "base_uri": "https://localhost:8080/"
        }
      },
      "execution_count": null,
      "outputs": [
        {
          "output_type": "stream",
          "name": "stdout",
          "text": [
            "La matriz 1D de numpy es \n",
            "[ 0  1  2  3  4  5  6  7  8  9 10 11 12 13 14]\n",
            "\n",
            "El objeto mat_7 es del tipo \n",
            "<class 'numpy.ndarray'>\n"
          ]
        }
      ]
    },
    {
      "cell_type": "code",
      "source": [
        "# Crear una matriz 2D en numpy a partir de una matriz 1D\n",
        "mat_8 = mat_7.reshape(3,5) #3 filas, 5 columnas\n",
        "print(f\"La matriz 2D de numpy es \\n{mat_8}\")\n",
        "print(f\"\\nEl objeto mat_8 es del tipo \\n{type(mat_8)}\")"
      ],
      "metadata": {
        "id": "zBCQkxowYszN",
        "outputId": "83116059-37d4-402d-bd21-7adf353f8588",
        "colab": {
          "base_uri": "https://localhost:8080/"
        }
      },
      "execution_count": null,
      "outputs": [
        {
          "output_type": "stream",
          "name": "stdout",
          "text": [
            "La matriz 2D de numpy es \n",
            "[[ 0  1  2  3  4]\n",
            " [ 5  6  7  8  9]\n",
            " [10 11 12 13 14]]\n",
            "\n",
            "El objeto mat_8 es del tipo \n",
            "<class 'numpy.ndarray'>\n"
          ]
        }
      ]
    },
    {
      "cell_type": "code",
      "source": [
        "print(f\"El número de dimensiones del objeto mat_8 es {mat_8.ndim}\")\n",
        "print(f\"\\nEl tamaño de las dimensiones del objeto mat_8 es {mat_8.shape}\")\n",
        "print(f\"\\nEl número de elementos del objeto mat_8 es {mat_8.size}\")"
      ],
      "metadata": {
        "id": "uL28s-jdZfRI",
        "outputId": "5154432b-926d-4aa9-aeb0-958c6dd7f272",
        "colab": {
          "base_uri": "https://localhost:8080/"
        }
      },
      "execution_count": null,
      "outputs": [
        {
          "output_type": "stream",
          "name": "stdout",
          "text": [
            "El número de dimensiones del objeto mat_8 es 2\n",
            "\n",
            "El tamaño de las dimensiones del objeto mat_8 es (3, 5)\n",
            "\n",
            "El número de elementos del objeto mat_8 es 15\n"
          ]
        }
      ]
    },
    {
      "cell_type": "code",
      "source": [
        "# Crear una matriz de ceros con determinadas dimensiones\n",
        "mat_9 = np.zeros((4,3))"
      ],
      "metadata": {
        "id": "lZJSIKI-aTZV"
      },
      "execution_count": null,
      "outputs": []
    },
    {
      "cell_type": "code",
      "source": [
        "# Las características de la matriz\n",
        "print(f\"La matriz mat_9 es \\n{mat_9}\")\n",
        "print(f\"\\nEl objeto mat_9 es del tipo \\n{type(mat_9)}\")\n",
        "print(f\"\\nEl número de dimensiones de la matriz mat_9 es {mat_9.ndim}\")\n",
        "print(f\"\\nEl tamaño de las dimensiones de la matriz mat_9 es {mat_9.shape}\")\n",
        "print(f\"\\nEl número de elementos de la matriz mat_9 es {mat_9.size}\")"
      ],
      "metadata": {
        "id": "4bvzOoLMeVOe"
      },
      "execution_count": null,
      "outputs": []
    },
    {
      "cell_type": "code",
      "source": [
        "# Crear una matriz de valores espaciados en un intervalo\n",
        "mat_10 = np.linspace(50,60,20)\n",
        "# Las características de la matriz\n",
        "print(f\"La matriz mat_10 es \\n{mat_10}\")\n",
        "print(f\"\\nEl objeto mat_10 es del tipo \\n{type(mat_10)}\")\n",
        "print(f\"\\nEl número de dimensiones de la matriz mat_10 es {mat_10.ndim}\")\n",
        "print(f\"\\nEl tamaño de las dimensiones de la matriz mat_10 es {mat_10.shape}\")\n",
        "print(f\"\\nEl número de elementos de la matriz mat_10 es {mat_10.size}\")"
      ],
      "metadata": {
        "id": "AHxgSSv6fDzC"
      },
      "execution_count": null,
      "outputs": []
    },
    {
      "cell_type": "code",
      "source": [
        "l_0 = [30,32,40,50,65]\n",
        "print(f\"El objeto l_0 es {l_0}\")\n",
        "print(f\"El objeto l_0 es del tipo {type(l_0)}\")"
      ],
      "metadata": {
        "id": "I6qfHJdvfp4B",
        "outputId": "39ab9602-6f52-4bb9-d78a-24d8c6fb7397",
        "colab": {
          "base_uri": "https://localhost:8080/"
        }
      },
      "execution_count": null,
      "outputs": [
        {
          "output_type": "stream",
          "name": "stdout",
          "text": [
            "El objeto l_0 es [30, 32, 40, 50, 65]\n",
            "El objeto l_0 es del tipo <class 'list'>\n"
          ]
        }
      ]
    },
    {
      "cell_type": "code",
      "source": [
        "mat_11 = np.array(l_0) # Convertir una lista en un arreglo numpy\n",
        "print(f\"El objeto mat_11 es {mat_11}\")\n",
        "print(f\"El objeto mat_11 es del tipo {type(mat_11)}\")"
      ],
      "metadata": {
        "id": "BPLlnuJHhLeY",
        "outputId": "da36afd4-c822-48dd-a45c-0a67ac34c96e",
        "colab": {
          "base_uri": "https://localhost:8080/"
        }
      },
      "execution_count": null,
      "outputs": [
        {
          "output_type": "stream",
          "name": "stdout",
          "text": [
            "El objeto mat_11 es [30 32 40 50 65]\n",
            "El objeto mat_11 es del tipo <class 'numpy.ndarray'>\n"
          ]
        }
      ]
    },
    {
      "cell_type": "code",
      "source": [
        "# Las características de la matriz\n",
        "print(f\"La matriz mat_11 es \\n{mat_11}\")\n",
        "print(f\"\\nEl objeto mat_11 es del tipo \\n{type(mat_11)}\")\n",
        "print(f\"\\nEl número de dimensiones de la matriz mat_11 es {mat_11.ndim}\")\n",
        "print(f\"\\nEl tamaño de las dimensiones de la matriz mat_11 es {mat_11.shape}\")\n",
        "print(f\"\\nEl número de elementos de la matriz mat_11 es {mat_11.size}\")"
      ],
      "metadata": {
        "id": "uN22MonEhLrv",
        "outputId": "d07a6b27-33ae-4e2a-9fdf-d42f197ca2e7",
        "colab": {
          "base_uri": "https://localhost:8080/"
        }
      },
      "execution_count": null,
      "outputs": [
        {
          "output_type": "stream",
          "name": "stdout",
          "text": [
            "La matriz mat_11 es \n",
            "[30 32 40 50 65]\n",
            "\n",
            "El objeto mat_11 es del tipo \n",
            "<class 'numpy.ndarray'>\n",
            "\n",
            "El número de dimensiones de la matriz mat_11 es 1\n",
            "\n",
            "El tamaño de las dimensiones de la matriz mat_11 es (5,)\n",
            "\n",
            "El número de elementos de la matriz mat_11 es 5\n"
          ]
        }
      ]
    },
    {
      "cell_type": "code",
      "source": [
        "import numpy as np\n",
        "mat_12 = np.arange(24).reshape(2,4,3)\n",
        "# Las características de la matriz\n",
        "print(f\"La matriz mat_12 es \\n{mat_12}\")\n",
        "print(f\"\\nEl objeto mat_12 es del tipo \\n{type(mat_12)}\")\n",
        "print(f\"\\nEl número de dimensiones de la matriz mat_12 es {mat_12.ndim}\")\n",
        "print(f\"\\nEl tamaño de las dimensiones de la matriz mat_12 es {mat_12.shape}\")\n",
        "print(f\"\\nEl número de elementos de la matriz mat_12 es {mat_12.size}\")"
      ],
      "metadata": {
        "id": "_CPKGXr0hL3T",
        "outputId": "d63e3e82-63f3-4ef7-9d40-8e5055baed5f",
        "colab": {
          "base_uri": "https://localhost:8080/"
        }
      },
      "execution_count": null,
      "outputs": [
        {
          "output_type": "stream",
          "name": "stdout",
          "text": [
            "La matriz mat_12 es \n",
            "[[[ 0  1  2]\n",
            "  [ 3  4  5]\n",
            "  [ 6  7  8]\n",
            "  [ 9 10 11]]\n",
            "\n",
            " [[12 13 14]\n",
            "  [15 16 17]\n",
            "  [18 19 20]\n",
            "  [21 22 23]]]\n",
            "\n",
            "El objeto mat_12 es del tipo \n",
            "<class 'numpy.ndarray'>\n",
            "\n",
            "El número de dimensiones de la matriz mat_12 es 3\n",
            "\n",
            "El tamaño de las dimensiones de la matriz mat_12 es (2, 4, 3)\n",
            "\n",
            "El número de elementos de la matriz mat_12 es 24\n"
          ]
        }
      ]
    },
    {
      "cell_type": "code",
      "source": [
        "print(f\"\\nEl número de dimensiones de la matriz mat_12 es {mat_12.ndim}\") # Matriz de 3D\n",
        "print(f\"\\nLa matriz mat_12 se convierte con la función ravel en \\n{mat_12.ravel()}\")\n",
        "mat_12 = mat_12.ravel()"
      ],
      "metadata": {
        "id": "G1Z1pK-hhMCc",
        "outputId": "2ae42a6e-c496-4b7d-f873-93068c173138",
        "colab": {
          "base_uri": "https://localhost:8080/"
        }
      },
      "execution_count": null,
      "outputs": [
        {
          "output_type": "stream",
          "name": "stdout",
          "text": [
            "\n",
            "El número de dimensiones de la matriz mat_12 es 3\n",
            "\n",
            "La matriz mat_12 se convierte con la función ravel en \n",
            "[ 0  1  2  3  4  5  6  7  8  9 10 11 12 13 14 15 16 17 18 19 20 21 22 23]\n"
          ]
        }
      ]
    },
    {
      "cell_type": "code",
      "source": [
        "print(f\"\\nEl número de dimensiones de la matriz mat_12 es {mat_12.ndim}\")"
      ],
      "metadata": {
        "id": "uVGF2oqMNS8n",
        "outputId": "cc43c9a0-77a6-46a3-c142-eb814e94cd3f",
        "colab": {
          "base_uri": "https://localhost:8080/"
        }
      },
      "execution_count": null,
      "outputs": [
        {
          "output_type": "stream",
          "name": "stdout",
          "text": [
            "\n",
            "El número de dimensiones de la matriz mat_12 es 1\n"
          ]
        }
      ]
    },
    {
      "cell_type": "code",
      "source": [
        "# np.array(objeto) => objeto se convierte en numpy array\n",
        "ll_x = [[57,21,48,0],[71,27,60,0],[111,51,96,0]]\n",
        "print(f\"La lista de listas es \\n{ll_x}\")"
      ],
      "metadata": {
        "id": "KCofsUZpQFW_"
      },
      "execution_count": null,
      "outputs": []
    },
    {
      "cell_type": "code",
      "source": [
        "mat_13 = np.array(ll_x)\n",
        "print(f\"La matriz mat_13 es \\n{mat_13}\")"
      ],
      "metadata": {
        "id": "s47KbA5oSmBa"
      },
      "execution_count": null,
      "outputs": []
    },
    {
      "cell_type": "code",
      "source": [
        "mat_13 = np.array([\n",
        "    [  # Primera matriz\n",
        "        [57, 21, 48, 0],\n",
        "        [71, 27, 60, 0],\n",
        "        [111, 51, 96, 0]\n",
        "    ],\n",
        "    [  # Segunda matriz\n",
        "        [66, 16, 36, 18],\n",
        "        [95, 22, 58, 29],\n",
        "        [83, 20, 46, 23]\n",
        "    ],\n",
        "    [  # Tercera matriz\n",
        "        [44, 34, 72, 44],\n",
        "        [34, 32, 72, 34],\n",
        "        [13, 25, 64, 13]\n",
        "    ]\n",
        "])"
      ],
      "metadata": {
        "id": "-rgDuAncS1Mg"
      },
      "execution_count": null,
      "outputs": []
    },
    {
      "cell_type": "code",
      "source": [
        "# Las características de la matriz\n",
        "print(f\"La matriz mat_13 es \\n{mat_13}\")\n",
        "print(f\"\\nEl objeto mat_13 es del tipo \\n{type(mat_13)}\")\n",
        "print(f\"\\nEl número de dimensiones de la matriz mat_13 es {mat_13.ndim}\")\n",
        "print(f\"\\nEl tamaño de las dimensiones de la matriz mat_13 es {mat_13.shape}\")\n",
        "print(f\"\\nEl número de elementos de la matriz mat_13 es {mat_13.size}\")"
      ],
      "metadata": {
        "id": "Jt1CXWeEVHps",
        "outputId": "b6330922-1f23-451a-99fb-f4fe69c4c209",
        "colab": {
          "base_uri": "https://localhost:8080/"
        }
      },
      "execution_count": null,
      "outputs": [
        {
          "output_type": "stream",
          "name": "stdout",
          "text": [
            "La matriz mat_13 es \n",
            "[[[ 57  21  48   0]\n",
            "  [ 71  27  60   0]\n",
            "  [111  51  96   0]]\n",
            "\n",
            " [[ 66  16  36  18]\n",
            "  [ 95  22  58  29]\n",
            "  [ 83  20  46  23]]\n",
            "\n",
            " [[ 44  34  72  44]\n",
            "  [ 34  32  72  34]\n",
            "  [ 13  25  64  13]]]\n",
            "\n",
            "El objeto mat_13 es del tipo \n",
            "<class 'numpy.ndarray'>\n",
            "\n",
            "El número de dimensiones de la matriz mat_13 es 3\n",
            "\n",
            "El tamaño de las dimensiones de la matriz mat_13 es (3, 3, 4)\n",
            "\n",
            "El número de elementos de la matriz mat_13 es 36\n"
          ]
        }
      ]
    },
    {
      "cell_type": "code",
      "source": [
        "# Crear una matriz con la ayuda de numpy de 3D que tenga 6 matrices de 2 filas x 2 columnas\n",
        "# Podemos usar la función arange() para generar los elementos de la matriz\n",
        "mat_14 = np.arange(24).reshape(6,2,2)\n",
        "# Las características de la matriz\n",
        "print(f\"La matriz mat_14 es \\n{mat_14}\")\n",
        "print(f\"\\nEl objeto mat_14 es del tipo \\n{type(mat_14)}\")\n",
        "print(f\"\\nEl número de dimensiones de la matriz mat_14 es {mat_14.ndim}\")\n",
        "print(f\"\\nEl tamaño de las dimensiones de la matriz mat_14 es {mat_14.shape}\")\n",
        "print(f\"\\nEl número de elementos de la matriz mat_14 es {mat_14.size}\")"
      ],
      "metadata": {
        "id": "eBAQbi50VtR0",
        "outputId": "61cdb018-890b-4d15-f87c-a65640a6389b",
        "colab": {
          "base_uri": "https://localhost:8080/"
        }
      },
      "execution_count": null,
      "outputs": [
        {
          "output_type": "stream",
          "name": "stdout",
          "text": [
            "La matriz mat_14 es \n",
            "[[[ 0  1]\n",
            "  [ 2  3]]\n",
            "\n",
            " [[ 4  5]\n",
            "  [ 6  7]]\n",
            "\n",
            " [[ 8  9]\n",
            "  [10 11]]\n",
            "\n",
            " [[12 13]\n",
            "  [14 15]]\n",
            "\n",
            " [[16 17]\n",
            "  [18 19]]\n",
            "\n",
            " [[20 21]\n",
            "  [22 23]]]\n",
            "\n",
            "El objeto mat_14 es del tipo \n",
            "<class 'numpy.ndarray'>\n",
            "\n",
            "El número de dimensiones de la matriz mat_14 es 3\n",
            "\n",
            "El tamaño de las dimensiones de la matriz mat_14 es (6, 2, 2)\n",
            "\n",
            "El número de elementos de la matriz mat_14 es 24\n"
          ]
        }
      ]
    },
    {
      "cell_type": "code",
      "source": [
        "# Acceder a los elementos de una matriz 3D\n",
        "\n",
        "print(f\"Los elementos de la primera matriz mat_13 son \\n{mat_13[0]}\")\n",
        "print(f\"\\nLos elementos de la segunda matriz mat_13 son \\n{mat_13[1]}\")\n",
        "print(f\"\\nLos elementos de la tercera matriz mat_13 son \\n{mat_13[2]}\")"
      ],
      "metadata": {
        "id": "xPuvd7s0W2X5",
        "outputId": "ce06751e-5aae-4203-c2c2-41e55b76c5c6",
        "colab": {
          "base_uri": "https://localhost:8080/"
        }
      },
      "execution_count": null,
      "outputs": [
        {
          "output_type": "stream",
          "name": "stdout",
          "text": [
            "Los elementos de la primera matriz mat_13 son \n",
            "[[ 57  21  48   0]\n",
            " [ 71  27  60   0]\n",
            " [111  51  96   0]]\n",
            "\n",
            "Los elementos de la segunda matriz mat_13 son \n",
            "[[66 16 36 18]\n",
            " [95 22 58 29]\n",
            " [83 20 46 23]]\n",
            "\n",
            "Los elementos de la tercera matriz mat_13 son \n",
            "[[44 34 72 44]\n",
            " [34 32 72 34]\n",
            " [13 25 64 13]]\n"
          ]
        }
      ]
    },
    {
      "cell_type": "code",
      "source": [
        "print(f\"Los elementos de la primera fila y la primera matriz mat_13 son \\n{mat_13[0][0]}\")"
      ],
      "metadata": {
        "id": "3jc7JJlZYavj",
        "outputId": "97007fd3-598f-43b1-b9b8-261a418c8a3b",
        "colab": {
          "base_uri": "https://localhost:8080/"
        }
      },
      "execution_count": null,
      "outputs": [
        {
          "output_type": "stream",
          "name": "stdout",
          "text": [
            "Los elementos de la primera fila y la primera matriz mat_13 son \n",
            "[57 21 48  0]\n"
          ]
        }
      ]
    },
    {
      "cell_type": "code",
      "source": [
        "print(f\"Los elementos de la primera fila y la primera matriz mat_13 son \\n{mat_13[1][2]}\")"
      ],
      "metadata": {
        "id": "VyVf6SEe_vaD",
        "outputId": "6c781857-df1a-4363-f1d2-cb67f3fd1919",
        "colab": {
          "base_uri": "https://localhost:8080/"
        }
      },
      "execution_count": null,
      "outputs": [
        {
          "output_type": "stream",
          "name": "stdout",
          "text": [
            "Los elementos de la primera fila y la primera matriz mat_13 son \n",
            "[83 20 46 23]\n"
          ]
        }
      ]
    },
    {
      "cell_type": "code",
      "source": [
        "print(f\"Los elementos de la primera fila y la primera matriz mat_13 son \\n{mat_13[2][0]}\")"
      ],
      "metadata": {
        "id": "VERpM93E_1A2",
        "outputId": "45e46690-33c3-463c-a5f5-5059eb4acf7b",
        "colab": {
          "base_uri": "https://localhost:8080/"
        }
      },
      "execution_count": null,
      "outputs": [
        {
          "output_type": "stream",
          "name": "stdout",
          "text": [
            "Los elementos de la primera fila y la primera matriz mat_13 son \n",
            "[44 34 72 44]\n"
          ]
        }
      ]
    },
    {
      "cell_type": "code",
      "source": [
        "print(f\"Los elementos de la tercera fila de la segunda matriz mat_13 son \\n{mat_13[1][2]}\")"
      ],
      "metadata": {
        "id": "X9ZA8pWQXkLj",
        "outputId": "03d27f36-e62e-4722-b3c3-e4d573d7811e",
        "colab": {
          "base_uri": "https://localhost:8080/"
        }
      },
      "execution_count": null,
      "outputs": [
        {
          "output_type": "stream",
          "name": "stdout",
          "text": [
            "Los elementos de la tercera fila de la segunda matriz mat_13 son \n",
            "[83 20 46 23]\n"
          ]
        }
      ]
    },
    {
      "cell_type": "code",
      "source": [
        "print(f\"Los elementos de la tercera fila de la segunda matriz mat_13 son \\n{mat_13[1][2][0]}\")"
      ],
      "metadata": {
        "id": "Pu43ZhW-ZaZU",
        "outputId": "795c0052-77c1-41b5-a56c-95c5f1dd349e",
        "colab": {
          "base_uri": "https://localhost:8080/"
        }
      },
      "execution_count": null,
      "outputs": [
        {
          "output_type": "stream",
          "name": "stdout",
          "text": [
            "Los elementos de la tercera fila de la segunda matriz mat_13 son \n",
            "83\n"
          ]
        }
      ]
    },
    {
      "cell_type": "code",
      "source": [
        "print(f\"Los elementos de la tercera fila de la segunda matriz mat_13 son \\n{mat_13[2][1][1]}\")"
      ],
      "metadata": {
        "id": "sUvI7ppeAjtd",
        "outputId": "12492fe3-1187-4bd3-e134-4509d29e106a",
        "colab": {
          "base_uri": "https://localhost:8080/"
        }
      },
      "execution_count": null,
      "outputs": [
        {
          "output_type": "stream",
          "name": "stdout",
          "text": [
            "Los elementos de la tercera fila de la segunda matriz mat_13 son \n",
            "32\n"
          ]
        }
      ]
    },
    {
      "cell_type": "code",
      "source": [
        "print(f\"El valor mínimo de la matriz mat_13 es {mat_13.min()}\")\n",
        "print(f\"El valor máximo de la matriz mat_13 es {mat_13.max()}\")\n",
        "print(f\"La suma de los elementos de la matriz mat_13 es {mat_13.sum()}\")"
      ],
      "metadata": {
        "id": "RQ-slN8GZgGi"
      },
      "execution_count": null,
      "outputs": []
    },
    {
      "cell_type": "markdown",
      "source": [
        "### Actividad N036"
      ],
      "metadata": {
        "id": "8rQicFvjWTd3"
      }
    },
    {
      "cell_type": "markdown",
      "source": [
        "Crear los arreglos A y B, realice el cálculo de multiplicación de matrices (A.B) y de (B.A)"
      ],
      "metadata": {
        "id": "SzKkR5a0WWIK"
      }
    },
    {
      "cell_type": "code",
      "source": [
        "A = np.array([[1,2,3],[3,2,1]])\n",
        "B = np.array([[0,2],[1,-1],[0,1]])"
      ],
      "metadata": {
        "id": "bbGnDBqxBId_"
      },
      "execution_count": null,
      "outputs": []
    },
    {
      "cell_type": "code",
      "source": [
        "print(f\"El tamaño de la matriz A es \\n{A.shape}\")\n",
        "print(f\"\\nEl tamaño de la matriz B es \\n{B.shape}\")\n",
        "\n",
        "Multiplica_1 = np.dot(A,B)\n",
        "Multiplica_2 = np.dot(B,A)\n",
        "\n",
        "print(f\"\\nLa matriz multiplica_1 \\n{Multiplica_1}\")\n",
        "print(f\"\\nLa matriz multiplica_2 \\n{Multiplica_2}\")\n",
        "\n",
        "print(f\"El tamaño de la matriz multiplica_1 es \\n{Multiplica_1.shape}\")\n",
        "print(f\"\\nEl tamaño de la matriz multiplica_2 es \\n{Multiplica_2.shape}\")"
      ],
      "metadata": {
        "id": "gmKtPxAJBif0",
        "outputId": "b32686b4-60ee-4855-be93-f9a7d52874ea",
        "colab": {
          "base_uri": "https://localhost:8080/"
        }
      },
      "execution_count": null,
      "outputs": [
        {
          "output_type": "stream",
          "name": "stdout",
          "text": [
            "El tamaño de la matriz A es \n",
            "(2, 3)\n",
            "\n",
            "El tamaño de la matriz B es \n",
            "(3, 2)\n",
            "\n",
            "La matriz multiplica_1 \n",
            "[[2 3]\n",
            " [2 5]]\n",
            "\n",
            "La matriz multiplica_2 \n",
            "[[ 6  4  2]\n",
            " [-2  0  2]\n",
            " [ 3  2  1]]\n",
            "El tamaño de la matriz multiplica_1 es \n",
            "(2, 2)\n",
            "\n",
            "El tamaño de la matriz multiplica_2 es \n",
            "(3, 3)\n"
          ]
        }
      ]
    },
    {
      "cell_type": "code",
      "source": [
        "from google.colab import files\n",
        "\n",
        "# Subir archivo desde tu máquina local\n",
        "uploaded = files.upload()"
      ],
      "metadata": {
        "id": "FqYwItr9WqkT"
      },
      "execution_count": null,
      "outputs": []
    },
    {
      "cell_type": "code",
      "source": [
        "from IPython.display import Image, display\n",
        "\n",
        "# Mostrar la imagen en Colab\n",
        "display(Image(filename='actividad36.png'))"
      ],
      "metadata": {
        "id": "_CiiDyEZWrOC"
      },
      "execution_count": null,
      "outputs": []
    },
    {
      "cell_type": "code",
      "source": [],
      "metadata": {
        "id": "vrAV34UKWrqa"
      },
      "execution_count": null,
      "outputs": []
    },
    {
      "cell_type": "markdown",
      "source": [
        "### [4] Operaciones con arreglos"
      ],
      "metadata": {
        "id": "0hrw-5IkbXqW"
      }
    },
    {
      "cell_type": "code",
      "source": [
        "import numpy as np"
      ],
      "metadata": {
        "id": "z3DinVIXRgYU"
      },
      "execution_count": null,
      "outputs": []
    },
    {
      "cell_type": "code",
      "source": [
        "mat_15 = np.array([[3,1],[2,7]])\n",
        "# Las características de la matriz mat_15\n",
        "print(f\"La matriz es \\n{mat_15}\")\n",
        "print(f\"\\nEl objeto es del tipo \\n{type(mat_15)}\")\n",
        "print(f\"\\nEl número de dimensiones de la matriz es {mat_15.ndim}\")\n",
        "print(f\"\\nEl tamaño de las dimensiones de la matriz es {mat_15.shape}\")\n",
        "print(f\"\\nEl número de elementos de la matriz es {mat_15.size}\")"
      ],
      "metadata": {
        "id": "g_mN9lsJZ_-w",
        "outputId": "d0175850-eddc-4bc3-cd5a-c7fb1d059ec7",
        "colab": {
          "base_uri": "https://localhost:8080/"
        }
      },
      "execution_count": null,
      "outputs": [
        {
          "output_type": "stream",
          "name": "stdout",
          "text": [
            "La matriz es \n",
            "[[3 1]\n",
            " [2 7]]\n",
            "\n",
            "El objeto es del tipo \n",
            "<class 'numpy.ndarray'>\n",
            "\n",
            "El número de dimensiones de la matriz es 2\n",
            "\n",
            "El tamaño de las dimensiones de la matriz es (2, 2)\n",
            "\n",
            "El número de elementos de la matriz es 4\n"
          ]
        }
      ]
    },
    {
      "cell_type": "code",
      "source": [
        "mat_16 = np.array([[4,2],[5,7]])\n",
        "# Las características de la matriz mat_16\n",
        "print(f\"La matriz es \\n{mat_16}\")\n",
        "print(f\"\\nEl objeto es del tipo \\n{type(mat_16)}\")\n",
        "print(f\"\\nEl número de dimensiones de la matriz es {mat_16.ndim}\")\n",
        "print(f\"\\nEl tamaño de las dimensiones de la matriz es {mat_16.shape}\")\n",
        "print(f\"\\nEl número de elementos de la matriz es {mat_16.size}\")"
      ],
      "metadata": {
        "id": "6LA5B_1rb07_",
        "outputId": "7be94ad2-193d-4094-b68f-fd9c6c4b3878",
        "colab": {
          "base_uri": "https://localhost:8080/"
        }
      },
      "execution_count": null,
      "outputs": [
        {
          "output_type": "stream",
          "name": "stdout",
          "text": [
            "La matriz es \n",
            "[[4 2]\n",
            " [5 7]]\n",
            "\n",
            "El objeto es del tipo \n",
            "<class 'numpy.ndarray'>\n",
            "\n",
            "El número de dimensiones de la matriz es 2\n",
            "\n",
            "El tamaño de las dimensiones de la matriz es (2, 2)\n",
            "\n",
            "El número de elementos de la matriz es 4\n"
          ]
        }
      ]
    },
    {
      "cell_type": "code",
      "source": [
        "# Suma de matrices por método directo\n",
        "mat_17 = mat_15 + mat_16\n",
        "# Las características de la matriz mat_17\n",
        "print(f\"La matriz es \\n{mat_17}\")\n",
        "print(f\"\\nEl objeto es del tipo \\n{type(mat_17)}\")\n",
        "print(f\"\\nEl número de dimensiones de la matriz es {mat_17.ndim}\")\n",
        "print(f\"\\nEl tamaño de las dimensiones de la matriz es {mat_17.shape}\")\n",
        "print(f\"\\nEl número de elementos de la matriz es {mat_17.size}\")"
      ],
      "metadata": {
        "id": "ffzonjJXcFi4",
        "outputId": "3b1aff2e-dfb1-4ff8-9f0f-bac0da0a2e2f",
        "colab": {
          "base_uri": "https://localhost:8080/"
        }
      },
      "execution_count": null,
      "outputs": [
        {
          "output_type": "stream",
          "name": "stdout",
          "text": [
            "La matriz es \n",
            "[[ 7  3]\n",
            " [ 7 14]]\n",
            "\n",
            "El objeto es del tipo \n",
            "<class 'numpy.ndarray'>\n",
            "\n",
            "El número de dimensiones de la matriz es 2\n",
            "\n",
            "El tamaño de las dimensiones de la matriz es (2, 2)\n",
            "\n",
            "El número de elementos de la matriz es 4\n"
          ]
        }
      ]
    },
    {
      "cell_type": "code",
      "source": [
        "# Suma de matrices por método add\n",
        "print(f\"La primera matriz es \\n{mat_15}\")\n",
        "print(f\"\\nLa segunda matriz es \\n{mat_16}\")\n",
        "print(f\"\\nLa matriz resultado de la suma es \\n{np.add(mat_15,mat_16)}\")"
      ],
      "metadata": {
        "id": "j0V4g4dQccUT",
        "outputId": "c3089e15-6d50-476f-d50a-8877064de43f",
        "colab": {
          "base_uri": "https://localhost:8080/"
        }
      },
      "execution_count": null,
      "outputs": [
        {
          "output_type": "stream",
          "name": "stdout",
          "text": [
            "La primera matriz es \n",
            "[[3 1]\n",
            " [2 7]]\n",
            "\n",
            "La segunda matriz es \n",
            "[[4 2]\n",
            " [5 7]]\n",
            "\n",
            "La matriz resultado de la suma es \n",
            "[[ 7  3]\n",
            " [ 7 14]]\n"
          ]
        }
      ]
    },
    {
      "cell_type": "code",
      "source": [
        "# Resta de matrices\n",
        "print(f\"La primera matriz es \\n{mat_15}\")\n",
        "print(f\"\\nLa segunda matriz es \\n{mat_16}\")\n",
        "print(f\"\\nLa matriz resultado de la resta es \\n{mat_15-mat_16}\")"
      ],
      "metadata": {
        "id": "wsGMQi9mc_RK",
        "outputId": "e86299f2-fc96-423c-f204-dd7b88f2440b",
        "colab": {
          "base_uri": "https://localhost:8080/"
        }
      },
      "execution_count": null,
      "outputs": [
        {
          "output_type": "stream",
          "name": "stdout",
          "text": [
            "La primera matriz es \n",
            "[[3 1]\n",
            " [2 7]]\n",
            "\n",
            "La segunda matriz es \n",
            "[[4 2]\n",
            " [5 7]]\n",
            "\n",
            "La matriz resultado de la resta es \n",
            "[[-1 -1]\n",
            " [-3  0]]\n"
          ]
        }
      ]
    },
    {
      "cell_type": "code",
      "source": [
        "# Resta de matrices con método subtract\n",
        "print(f\"La primera matriz es \\n{mat_15}\")\n",
        "print(f\"\\nLa segunda matriz es \\n{mat_16}\")\n",
        "print(f\"\\nLa matriz resultado de la resta es \\n{np.subtract(mat_15,mat_16)}\")"
      ],
      "metadata": {
        "id": "XVIA_CNthvCE",
        "outputId": "dbf8ebed-8a39-46e4-9d6a-8f3964afd786",
        "colab": {
          "base_uri": "https://localhost:8080/"
        }
      },
      "execution_count": null,
      "outputs": [
        {
          "output_type": "stream",
          "name": "stdout",
          "text": [
            "La primera matriz es \n",
            "[[3 1]\n",
            " [2 7]]\n",
            "\n",
            "La segunda matriz es \n",
            "[[4 2]\n",
            " [5 7]]\n",
            "\n",
            "La matriz resultado de la resta es \n",
            "[[-1 -1]\n",
            " [-3  0]]\n"
          ]
        }
      ]
    },
    {
      "cell_type": "code",
      "source": [
        "# Multiplicar matrices (a nivel de posiciones)\n",
        "print(f\"La primera matriz es \\n{mat_15}\")\n",
        "print(f\"\\nLa segunda matriz es \\n{mat_16}\")\n",
        "print(f\"\\nLa matriz resultado de la multiplicación es \\n{np.multiply(mat_15,mat_16)}\")"
      ],
      "metadata": {
        "id": "K0LlpL6ziW2z",
        "outputId": "929ba239-02f7-4e5b-b85f-e816cb5b1be2",
        "colab": {
          "base_uri": "https://localhost:8080/"
        }
      },
      "execution_count": null,
      "outputs": [
        {
          "output_type": "stream",
          "name": "stdout",
          "text": [
            "La primera matriz es \n",
            "[[3 1]\n",
            " [2 7]]\n",
            "\n",
            "La segunda matriz es \n",
            "[[4 2]\n",
            " [5 7]]\n",
            "\n",
            "La matriz resultado de la multiplicación es \n",
            "[[12  2]\n",
            " [10 49]]\n"
          ]
        }
      ]
    },
    {
      "cell_type": "code",
      "source": [
        "# Multiplicar matrices\n",
        "print(f\"La primera matriz es \\n{mat_15}\")\n",
        "print(f\"\\nLa segunda matriz es \\n{mat_16}\")\n",
        "print(f\"\\nLa matriz resultado de la multiplicación es \\n{np.dot(mat_15,mat_16)}\")\n",
        "#print(f\"\\nLa matriz resultado de la multiplicación es \\n{mat_15.dot(mat_16)}\")"
      ],
      "metadata": {
        "id": "MjLn1oSukXx3",
        "outputId": "dc412e89-7254-4abc-a2a2-5e4dfceda28b",
        "colab": {
          "base_uri": "https://localhost:8080/"
        }
      },
      "execution_count": null,
      "outputs": [
        {
          "output_type": "stream",
          "name": "stdout",
          "text": [
            "La primera matriz es \n",
            "[[3 1]\n",
            " [2 7]]\n",
            "\n",
            "La segunda matriz es \n",
            "[[4 2]\n",
            " [5 7]]\n",
            "\n",
            "La matriz resultado de la multiplicación es \n",
            "[[17 13]\n",
            " [43 53]]\n"
          ]
        }
      ]
    },
    {
      "cell_type": "code",
      "source": [
        "# Multiplicar matrices\n",
        "print(f\"La primera matriz es \\n{mat_15}\")\n",
        "print(f\"\\nLa segunda matriz es \\n{mat_16}\")\n",
        "#print(f\"\\nLa matriz resultado de la multiplicación es \\n{np.dot(mat_15,mat_16)}\")\n",
        "print(f\"\\nLa matriz resultado de la multiplicación es \\n{mat_15.dot(mat_16)}\")"
      ],
      "metadata": {
        "id": "QJYFbh4RVtrN",
        "outputId": "9688eb6a-1698-4d7a-fb35-d1f4ce866bde",
        "colab": {
          "base_uri": "https://localhost:8080/"
        }
      },
      "execution_count": null,
      "outputs": [
        {
          "output_type": "stream",
          "name": "stdout",
          "text": [
            "La primera matriz es \n",
            "[[3 1]\n",
            " [2 7]]\n",
            "\n",
            "La segunda matriz es \n",
            "[[4 2]\n",
            " [5 7]]\n",
            "\n",
            "La matriz resultado de la multiplicación es \n",
            "[[17 13]\n",
            " [43 53]]\n"
          ]
        }
      ]
    },
    {
      "cell_type": "code",
      "source": [
        "mat_18 = np.array([[1,2],[3,4],[5,6]])\n",
        "mat_19 = np.array([[1,2,3],[3,4,5]])\n",
        "\n",
        "print(f\"La matriz mat_18 es \\n{mat_18}\")\n",
        "print(f\"\\nEl número de dimensiones de la matriz mat_18 es {mat_18.ndim}\")\n",
        "print(f\"\\nEl tamaño de las dimensiones de la matriz mat_18 es {mat_18.shape}\")\n",
        "\n",
        "print(f\"\\nLa matriz mat_19 es \\n{mat_19}\")\n",
        "print(f\"\\nEl número de dimensiones de la matriz mat_19 es {mat_19.ndim}\")\n",
        "print(f\"\\nEl tamaño de las dimensiones de la matriz mat_19 es {mat_19.shape}\")\n"
      ],
      "metadata": {
        "id": "VZ_1YOuQnE-G",
        "outputId": "34d1bdb5-3374-4669-ae5d-c96b1a570c03",
        "colab": {
          "base_uri": "https://localhost:8080/"
        }
      },
      "execution_count": null,
      "outputs": [
        {
          "output_type": "stream",
          "name": "stdout",
          "text": [
            "La matriz mat_18 es \n",
            "[[1 2]\n",
            " [3 4]\n",
            " [5 6]]\n",
            "\n",
            "El número de dimensiones de la matriz mat_18 es 2\n",
            "\n",
            "El tamaño de las dimensiones de la matriz mat_18 es (3, 2)\n",
            "\n",
            "La matriz mat_19 es \n",
            "[[1 2 3]\n",
            " [3 4 5]]\n",
            "\n",
            "El número de dimensiones de la matriz mat_19 es 2\n",
            "\n",
            "El tamaño de las dimensiones de la matriz mat_19 es (2, 3)\n"
          ]
        }
      ]
    },
    {
      "cell_type": "code",
      "source": [
        "# Multiplicar matrices\n",
        "print(f\"La primera matriz es \\n{mat_18}\")\n",
        "print(f\"\\nLa segunda matriz es \\n{mat_19}\")\n",
        "print(f\"\\nLa matriz resultado de la multiplicación es \\n{mat_18.dot(mat_19)}\")\n",
        "print(f\"\\nLa matriz resultado de la multiplicación es \\n{mat_19.dot(mat_18)}\")\n",
        "print(f\"\\nLa matriz resultado de la multiplicación es \\n{np.dot(mat_18,mat_19)}\")\n",
        "print(f\"\\nLa matriz resultado de la multiplicación es \\n{np.dot(mat_19,mat_18)}\")"
      ],
      "metadata": {
        "id": "tKBorDbloUFs",
        "outputId": "97ca6f3d-a7b5-4d0a-83d4-83aacd15fc16",
        "colab": {
          "base_uri": "https://localhost:8080/"
        }
      },
      "execution_count": null,
      "outputs": [
        {
          "output_type": "stream",
          "name": "stdout",
          "text": [
            "La primera matriz es \n",
            "[[1 2]\n",
            " [3 4]\n",
            " [5 6]]\n",
            "\n",
            "La segunda matriz es \n",
            "[[1 2 3]\n",
            " [3 4 5]]\n",
            "\n",
            "La matriz resultado de la multiplicación es \n",
            "[[ 7 10 13]\n",
            " [15 22 29]\n",
            " [23 34 45]]\n",
            "\n",
            "La matriz resultado de la multiplicación es \n",
            "[[22 28]\n",
            " [40 52]]\n",
            "\n",
            "La matriz resultado de la multiplicación es \n",
            "[[ 7 10 13]\n",
            " [15 22 29]\n",
            " [23 34 45]]\n",
            "\n",
            "La matriz resultado de la multiplicación es \n",
            "[[22 28]\n",
            " [40 52]]\n"
          ]
        }
      ]
    },
    {
      "cell_type": "code",
      "source": [
        "print(f\"La primera matriz es \\n{mat_18}\")\n",
        "print(f\"\\nLa segunda matriz es \\n{mat_19}\")\n",
        "print(f\"\\nLa matriz resultado de la multiplicación es \\n{mat_18+mat_19}\")"
      ],
      "metadata": {
        "id": "riHOiqlXo-uE"
      },
      "execution_count": null,
      "outputs": []
    },
    {
      "cell_type": "code",
      "source": [
        "print(f\"La primera matriz es \\n{mat_15}\")\n",
        "print(f\"\\nLa segunda matriz es \\n{mat_16}\")\n",
        "print(f\"\\nLas matrices concatenadas \\n{np.concatenate([mat_15,mat_16],axis=0)}\")"
      ],
      "metadata": {
        "id": "iGkMTESJpPHq",
        "outputId": "5554838d-8b8b-4229-b16a-a4b481aba0f6",
        "colab": {
          "base_uri": "https://localhost:8080/"
        }
      },
      "execution_count": null,
      "outputs": [
        {
          "output_type": "stream",
          "name": "stdout",
          "text": [
            "La primera matriz es \n",
            "[[3 1]\n",
            " [2 7]]\n",
            "\n",
            "La segunda matriz es \n",
            "[[4 2]\n",
            " [5 7]]\n",
            "\n",
            "Las matrices concatenadas \n",
            "[[3 1]\n",
            " [2 7]\n",
            " [4 2]\n",
            " [5 7]]\n"
          ]
        }
      ]
    },
    {
      "cell_type": "code",
      "source": [
        "print(f\"La primera matriz es \\n{mat_15}\")\n",
        "print(f\"\\nLa segunda matriz es \\n{mat_16}\")\n",
        "print(f\"\\nLas matrices concatenadas \\n{np.concatenate([mat_15,mat_16],axis=1)}\")"
      ],
      "metadata": {
        "id": "camf5mlbqJ7e",
        "outputId": "ad208fe2-9890-467b-dc49-c372b2d55156",
        "colab": {
          "base_uri": "https://localhost:8080/"
        }
      },
      "execution_count": null,
      "outputs": [
        {
          "output_type": "stream",
          "name": "stdout",
          "text": [
            "La primera matriz es \n",
            "[[3 1]\n",
            " [2 7]]\n",
            "\n",
            "La segunda matriz es \n",
            "[[4 2]\n",
            " [5 7]]\n",
            "\n",
            "Las matrices concatenadas \n",
            "[[3 1 4 2]\n",
            " [2 7 5 7]]\n"
          ]
        }
      ]
    },
    {
      "cell_type": "code",
      "source": [
        "# Multiplicar matrices\n",
        "print(f\"La primera matriz es \\n{mat_19}\")\n",
        "print(f\"\\nLa segunda matriz es \\n{mat_18}\")\n",
        "print(f\"\\nLa matriz resultado de la multiplicación es \\n{mat_19.dot(mat_18)}\")"
      ],
      "metadata": {
        "id": "niWjoF-sqRRN"
      },
      "execution_count": null,
      "outputs": []
    },
    {
      "cell_type": "code",
      "source": [
        "# Arreglo original\n",
        "arreglo_1 = np.array([[0, 1, 2, 3],[4, 5, 6, 7],[8, 9, 10, 11]])"
      ],
      "metadata": {
        "id": "tMJFRG3HXWTx"
      },
      "execution_count": null,
      "outputs": []
    },
    {
      "cell_type": "code",
      "source": [
        "print(arreglo_1)"
      ],
      "metadata": {
        "id": "UNP24c-XanCq",
        "outputId": "2a4a1915-2104-492d-e8f9-628bc0a0de33",
        "colab": {
          "base_uri": "https://localhost:8080/"
        }
      },
      "execution_count": null,
      "outputs": [
        {
          "output_type": "stream",
          "name": "stdout",
          "text": [
            "[[ 0  1  2  3]\n",
            " [ 4  5  6  7]\n",
            " [ 8  9 10 11]]\n"
          ]
        }
      ]
    },
    {
      "cell_type": "code",
      "source": [
        "arreglo_1.shape"
      ],
      "metadata": {
        "id": "uiLwxXCDarFC",
        "outputId": "9ca66831-5816-4bcc-e6ed-6a0a7c85674f",
        "colab": {
          "base_uri": "https://localhost:8080/"
        }
      },
      "execution_count": null,
      "outputs": [
        {
          "output_type": "execute_result",
          "data": {
            "text/plain": [
              "(3, 4)"
            ]
          },
          "metadata": {},
          "execution_count": 20
        }
      ]
    },
    {
      "cell_type": "code",
      "source": [
        "# Lleva la matriz (arreglo_1) a 1D\n",
        "arreglo_1.ravel()"
      ],
      "metadata": {
        "id": "vZN3_k-2XeL6",
        "outputId": "29a72503-03fb-4ae6-9a4e-f189deea2054",
        "colab": {
          "base_uri": "https://localhost:8080/"
        }
      },
      "execution_count": null,
      "outputs": [
        {
          "output_type": "execute_result",
          "data": {
            "text/plain": [
              "array([ 0,  1,  2,  3,  4,  5,  6,  7,  8,  9, 10, 11])"
            ]
          },
          "metadata": {},
          "execution_count": 21
        }
      ]
    },
    {
      "cell_type": "code",
      "source": [
        "arreglo_1.shape = (6,2)"
      ],
      "metadata": {
        "id": "S5dlrdg1XgCT"
      },
      "execution_count": null,
      "outputs": []
    },
    {
      "cell_type": "code",
      "source": [
        "print(arreglo_1)"
      ],
      "metadata": {
        "id": "iGd9D40pa54-",
        "outputId": "46c29cc2-bd3f-442e-c4e4-f90336ccb5b5",
        "colab": {
          "base_uri": "https://localhost:8080/"
        }
      },
      "execution_count": null,
      "outputs": [
        {
          "output_type": "stream",
          "name": "stdout",
          "text": [
            "[[ 0  1]\n",
            " [ 2  3]\n",
            " [ 4  5]\n",
            " [ 6  7]\n",
            " [ 8  9]\n",
            " [10 11]]\n"
          ]
        }
      ]
    },
    {
      "cell_type": "code",
      "source": [
        "arreglo_1.ravel()\n",
        "arreglo_1.shape = (2,6)"
      ],
      "metadata": {
        "id": "dbSZ9I2KbQ4b"
      },
      "execution_count": null,
      "outputs": []
    },
    {
      "cell_type": "code",
      "source": [
        "print(arreglo_1)"
      ],
      "metadata": {
        "id": "oRo4lRpNbYMw",
        "outputId": "bbaf1abb-a4ce-4be3-d6de-88e013bf41cf",
        "colab": {
          "base_uri": "https://localhost:8080/"
        }
      },
      "execution_count": null,
      "outputs": [
        {
          "output_type": "stream",
          "name": "stdout",
          "text": [
            "[[ 0  1  2  3  4  5]\n",
            " [ 6  7  8  9 10 11]]\n"
          ]
        }
      ]
    },
    {
      "cell_type": "code",
      "source": [
        "arreglo_1.transpose()"
      ],
      "metadata": {
        "id": "odhL7RqdXksE"
      },
      "execution_count": null,
      "outputs": []
    },
    {
      "cell_type": "code",
      "source": [
        "#Seleccionamos la fila 1 y la columna 2.\n",
        "arreglo_1[0,1]"
      ],
      "metadata": {
        "id": "BFZGYsDcYH3_"
      },
      "execution_count": null,
      "outputs": []
    },
    {
      "cell_type": "code",
      "source": [
        "#Seleccionamos la fila 1 y las 3 primeras columnas.\n",
        "arreglo_1[ 0 , 0:3 ]"
      ],
      "metadata": {
        "id": "_B1JZKb5YSfc"
      },
      "execution_count": null,
      "outputs": []
    },
    {
      "cell_type": "code",
      "source": [
        "#Seleccionamos la fila 1 y todas las columnas.\n",
        "arreglo_1[ 0 , : ]"
      ],
      "metadata": {
        "id": "YgUxPko1YT8j"
      },
      "execution_count": null,
      "outputs": []
    },
    {
      "cell_type": "code",
      "source": [
        "#Seleccionamos todas las filas y la columna 2.\n",
        "arreglo_1[ : , 1 ]"
      ],
      "metadata": {
        "id": "IBOmihejYVQd"
      },
      "execution_count": null,
      "outputs": []
    },
    {
      "cell_type": "markdown",
      "source": [
        "### Actividad N037"
      ],
      "metadata": {
        "id": "TTYIFEXvYWZv"
      }
    },
    {
      "cell_type": "markdown",
      "source": [
        "Seleccione del arreglo data_array la edad y los años de experiencia del primer y tercer registro\n"
      ],
      "metadata": {
        "id": "l_pRWxCRYaji"
      }
    },
    {
      "cell_type": "code",
      "source": [],
      "metadata": {
        "id": "3jNMiNmKYhVI"
      },
      "execution_count": null,
      "outputs": []
    },
    {
      "cell_type": "markdown",
      "source": [
        "### [5] Estadísticas en arreglos NumPy"
      ],
      "metadata": {
        "id": "bgDhLt00XvBE"
      }
    },
    {
      "cell_type": "code",
      "source": [
        "a = np.array([1, 2, 3, 4])\n",
        "\n",
        "print(a.mean())   # promedio\n",
        "print(a.sum())    # suma total\n",
        "print(a.max())    # valor máximo\n",
        "print(a.min())    # valor mínimo\n"
      ],
      "metadata": {
        "id": "LgSCO9TkX1TF"
      },
      "execution_count": null,
      "outputs": []
    },
    {
      "cell_type": "markdown",
      "source": [
        "### Actividad N038"
      ],
      "metadata": {
        "id": "b8cqM5mJX7f-"
      }
    },
    {
      "cell_type": "markdown",
      "source": [
        "Del arreglo data_array, calcule los valores mínimo, máximos y promedios de todas las variables\n"
      ],
      "metadata": {
        "id": "vgJpDiufYkfC"
      }
    },
    {
      "cell_type": "code",
      "source": [],
      "metadata": {
        "id": "KPKkTN8RYqao"
      },
      "execution_count": null,
      "outputs": []
    },
    {
      "cell_type": "markdown",
      "source": [
        "### [6] Comparación de listas y arreglos NumPy"
      ],
      "metadata": {
        "id": "nwoy0lQ2Ys6d"
      }
    },
    {
      "cell_type": "code",
      "source": [
        "import numpy as np\n",
        "\n",
        "lista = list(range(1_000_000))\n",
        "array = np.array(lista)"
      ],
      "metadata": {
        "id": "5ZV888_YrxQH"
      },
      "execution_count": null,
      "outputs": []
    },
    {
      "cell_type": "code",
      "source": [
        "lista"
      ],
      "metadata": {
        "id": "4gYi5Isavgqz"
      },
      "execution_count": null,
      "outputs": []
    },
    {
      "cell_type": "code",
      "source": [
        "array"
      ],
      "metadata": {
        "id": "D0ay9CWgvmjs"
      },
      "execution_count": null,
      "outputs": []
    },
    {
      "cell_type": "code",
      "source": [
        "type(lista)"
      ],
      "metadata": {
        "id": "v2gIlxFxvqdx"
      },
      "execution_count": null,
      "outputs": []
    },
    {
      "cell_type": "code",
      "source": [
        "type(array)"
      ],
      "metadata": {
        "id": "aKrIzQbEvskN"
      },
      "execution_count": null,
      "outputs": []
    },
    {
      "cell_type": "code",
      "source": [
        "import time\n",
        "\n",
        "start = time.time()\n",
        "[ x*2 for x in lista ]\n",
        "print(\"Lista:\", time.time() - start)\n"
      ],
      "metadata": {
        "id": "4PGE4iYzvuwf"
      },
      "execution_count": null,
      "outputs": []
    },
    {
      "cell_type": "code",
      "source": [
        "import time\n",
        "\n",
        "start = time.time()\n",
        "array * 2\n",
        "print(\"NumPy:\", time.time() - start)"
      ],
      "metadata": {
        "id": "9VbDA_WIvyIP"
      },
      "execution_count": null,
      "outputs": []
    },
    {
      "cell_type": "markdown",
      "source": [
        "### [7] Caso aplicado: Cálculo de la elasticidad precio"
      ],
      "metadata": {
        "id": "C05k156lY2C5"
      }
    },
    {
      "cell_type": "code",
      "source": [
        "import pandas as pd\n",
        "\n",
        "data = pd.read_csv(\"data_arroz.csv\", encoding='latin-1')"
      ],
      "metadata": {
        "id": "3z5ywQqCv8li"
      },
      "execution_count": 92,
      "outputs": []
    },
    {
      "cell_type": "code",
      "source": [
        "data.head()"
      ],
      "metadata": {
        "id": "XnjgBcRq3mo8",
        "outputId": "aed7f92c-0c43-407d-b5ff-5281686b0a0b",
        "colab": {
          "base_uri": "https://localhost:8080/",
          "height": 206
        }
      },
      "execution_count": 94,
      "outputs": [
        {
          "output_type": "execute_result",
          "data": {
            "text/plain": [
              "                           Sku  Semana  Precio  Demanda\n",
              "0  ARROZ EXTRA  X 5 KG COSTEÑO  201709    18.9     2468\n",
              "1  ARROZ EXTRA  X 5 KG COSTEÑO  201710    19.2     1746\n",
              "2  ARROZ EXTRA  X 5 KG COSTEÑO  201711    20.7     3941\n",
              "3  ARROZ EXTRA  X 5 KG COSTEÑO  201712    18.4     4244\n",
              "4  ARROZ EXTRA  X 5 KG COSTEÑO  201713    20.4    11699"
            ],
            "text/html": [
              "\n",
              "  <div id=\"df-385b3b08-c1f1-4309-b110-c10383362ffe\" class=\"colab-df-container\">\n",
              "    <div>\n",
              "<style scoped>\n",
              "    .dataframe tbody tr th:only-of-type {\n",
              "        vertical-align: middle;\n",
              "    }\n",
              "\n",
              "    .dataframe tbody tr th {\n",
              "        vertical-align: top;\n",
              "    }\n",
              "\n",
              "    .dataframe thead th {\n",
              "        text-align: right;\n",
              "    }\n",
              "</style>\n",
              "<table border=\"1\" class=\"dataframe\">\n",
              "  <thead>\n",
              "    <tr style=\"text-align: right;\">\n",
              "      <th></th>\n",
              "      <th>Sku</th>\n",
              "      <th>Semana</th>\n",
              "      <th>Precio</th>\n",
              "      <th>Demanda</th>\n",
              "    </tr>\n",
              "  </thead>\n",
              "  <tbody>\n",
              "    <tr>\n",
              "      <th>0</th>\n",
              "      <td>ARROZ EXTRA  X 5 KG COSTEÑO</td>\n",
              "      <td>201709</td>\n",
              "      <td>18.9</td>\n",
              "      <td>2468</td>\n",
              "    </tr>\n",
              "    <tr>\n",
              "      <th>1</th>\n",
              "      <td>ARROZ EXTRA  X 5 KG COSTEÑO</td>\n",
              "      <td>201710</td>\n",
              "      <td>19.2</td>\n",
              "      <td>1746</td>\n",
              "    </tr>\n",
              "    <tr>\n",
              "      <th>2</th>\n",
              "      <td>ARROZ EXTRA  X 5 KG COSTEÑO</td>\n",
              "      <td>201711</td>\n",
              "      <td>20.7</td>\n",
              "      <td>3941</td>\n",
              "    </tr>\n",
              "    <tr>\n",
              "      <th>3</th>\n",
              "      <td>ARROZ EXTRA  X 5 KG COSTEÑO</td>\n",
              "      <td>201712</td>\n",
              "      <td>18.4</td>\n",
              "      <td>4244</td>\n",
              "    </tr>\n",
              "    <tr>\n",
              "      <th>4</th>\n",
              "      <td>ARROZ EXTRA  X 5 KG COSTEÑO</td>\n",
              "      <td>201713</td>\n",
              "      <td>20.4</td>\n",
              "      <td>11699</td>\n",
              "    </tr>\n",
              "  </tbody>\n",
              "</table>\n",
              "</div>\n",
              "    <div class=\"colab-df-buttons\">\n",
              "\n",
              "  <div class=\"colab-df-container\">\n",
              "    <button class=\"colab-df-convert\" onclick=\"convertToInteractive('df-385b3b08-c1f1-4309-b110-c10383362ffe')\"\n",
              "            title=\"Convert this dataframe to an interactive table.\"\n",
              "            style=\"display:none;\">\n",
              "\n",
              "  <svg xmlns=\"http://www.w3.org/2000/svg\" height=\"24px\" viewBox=\"0 -960 960 960\">\n",
              "    <path d=\"M120-120v-720h720v720H120Zm60-500h600v-160H180v160Zm220 220h160v-160H400v160Zm0 220h160v-160H400v160ZM180-400h160v-160H180v160Zm440 0h160v-160H620v160ZM180-180h160v-160H180v160Zm440 0h160v-160H620v160Z\"/>\n",
              "  </svg>\n",
              "    </button>\n",
              "\n",
              "  <style>\n",
              "    .colab-df-container {\n",
              "      display:flex;\n",
              "      gap: 12px;\n",
              "    }\n",
              "\n",
              "    .colab-df-convert {\n",
              "      background-color: #E8F0FE;\n",
              "      border: none;\n",
              "      border-radius: 50%;\n",
              "      cursor: pointer;\n",
              "      display: none;\n",
              "      fill: #1967D2;\n",
              "      height: 32px;\n",
              "      padding: 0 0 0 0;\n",
              "      width: 32px;\n",
              "    }\n",
              "\n",
              "    .colab-df-convert:hover {\n",
              "      background-color: #E2EBFA;\n",
              "      box-shadow: 0px 1px 2px rgba(60, 64, 67, 0.3), 0px 1px 3px 1px rgba(60, 64, 67, 0.15);\n",
              "      fill: #174EA6;\n",
              "    }\n",
              "\n",
              "    .colab-df-buttons div {\n",
              "      margin-bottom: 4px;\n",
              "    }\n",
              "\n",
              "    [theme=dark] .colab-df-convert {\n",
              "      background-color: #3B4455;\n",
              "      fill: #D2E3FC;\n",
              "    }\n",
              "\n",
              "    [theme=dark] .colab-df-convert:hover {\n",
              "      background-color: #434B5C;\n",
              "      box-shadow: 0px 1px 3px 1px rgba(0, 0, 0, 0.15);\n",
              "      filter: drop-shadow(0px 1px 2px rgba(0, 0, 0, 0.3));\n",
              "      fill: #FFFFFF;\n",
              "    }\n",
              "  </style>\n",
              "\n",
              "    <script>\n",
              "      const buttonEl =\n",
              "        document.querySelector('#df-385b3b08-c1f1-4309-b110-c10383362ffe button.colab-df-convert');\n",
              "      buttonEl.style.display =\n",
              "        google.colab.kernel.accessAllowed ? 'block' : 'none';\n",
              "\n",
              "      async function convertToInteractive(key) {\n",
              "        const element = document.querySelector('#df-385b3b08-c1f1-4309-b110-c10383362ffe');\n",
              "        const dataTable =\n",
              "          await google.colab.kernel.invokeFunction('convertToInteractive',\n",
              "                                                    [key], {});\n",
              "        if (!dataTable) return;\n",
              "\n",
              "        const docLinkHtml = 'Like what you see? Visit the ' +\n",
              "          '<a target=\"_blank\" href=https://colab.research.google.com/notebooks/data_table.ipynb>data table notebook</a>'\n",
              "          + ' to learn more about interactive tables.';\n",
              "        element.innerHTML = '';\n",
              "        dataTable['output_type'] = 'display_data';\n",
              "        await google.colab.output.renderOutput(dataTable, element);\n",
              "        const docLink = document.createElement('div');\n",
              "        docLink.innerHTML = docLinkHtml;\n",
              "        element.appendChild(docLink);\n",
              "      }\n",
              "    </script>\n",
              "  </div>\n",
              "\n",
              "\n",
              "    <div id=\"df-9537004e-10e8-42c9-b92e-8a1fcc195fbb\">\n",
              "      <button class=\"colab-df-quickchart\" onclick=\"quickchart('df-9537004e-10e8-42c9-b92e-8a1fcc195fbb')\"\n",
              "                title=\"Suggest charts\"\n",
              "                style=\"display:none;\">\n",
              "\n",
              "<svg xmlns=\"http://www.w3.org/2000/svg\" height=\"24px\"viewBox=\"0 0 24 24\"\n",
              "     width=\"24px\">\n",
              "    <g>\n",
              "        <path d=\"M19 3H5c-1.1 0-2 .9-2 2v14c0 1.1.9 2 2 2h14c1.1 0 2-.9 2-2V5c0-1.1-.9-2-2-2zM9 17H7v-7h2v7zm4 0h-2V7h2v10zm4 0h-2v-4h2v4z\"/>\n",
              "    </g>\n",
              "</svg>\n",
              "      </button>\n",
              "\n",
              "<style>\n",
              "  .colab-df-quickchart {\n",
              "      --bg-color: #E8F0FE;\n",
              "      --fill-color: #1967D2;\n",
              "      --hover-bg-color: #E2EBFA;\n",
              "      --hover-fill-color: #174EA6;\n",
              "      --disabled-fill-color: #AAA;\n",
              "      --disabled-bg-color: #DDD;\n",
              "  }\n",
              "\n",
              "  [theme=dark] .colab-df-quickchart {\n",
              "      --bg-color: #3B4455;\n",
              "      --fill-color: #D2E3FC;\n",
              "      --hover-bg-color: #434B5C;\n",
              "      --hover-fill-color: #FFFFFF;\n",
              "      --disabled-bg-color: #3B4455;\n",
              "      --disabled-fill-color: #666;\n",
              "  }\n",
              "\n",
              "  .colab-df-quickchart {\n",
              "    background-color: var(--bg-color);\n",
              "    border: none;\n",
              "    border-radius: 50%;\n",
              "    cursor: pointer;\n",
              "    display: none;\n",
              "    fill: var(--fill-color);\n",
              "    height: 32px;\n",
              "    padding: 0;\n",
              "    width: 32px;\n",
              "  }\n",
              "\n",
              "  .colab-df-quickchart:hover {\n",
              "    background-color: var(--hover-bg-color);\n",
              "    box-shadow: 0 1px 2px rgba(60, 64, 67, 0.3), 0 1px 3px 1px rgba(60, 64, 67, 0.15);\n",
              "    fill: var(--button-hover-fill-color);\n",
              "  }\n",
              "\n",
              "  .colab-df-quickchart-complete:disabled,\n",
              "  .colab-df-quickchart-complete:disabled:hover {\n",
              "    background-color: var(--disabled-bg-color);\n",
              "    fill: var(--disabled-fill-color);\n",
              "    box-shadow: none;\n",
              "  }\n",
              "\n",
              "  .colab-df-spinner {\n",
              "    border: 2px solid var(--fill-color);\n",
              "    border-color: transparent;\n",
              "    border-bottom-color: var(--fill-color);\n",
              "    animation:\n",
              "      spin 1s steps(1) infinite;\n",
              "  }\n",
              "\n",
              "  @keyframes spin {\n",
              "    0% {\n",
              "      border-color: transparent;\n",
              "      border-bottom-color: var(--fill-color);\n",
              "      border-left-color: var(--fill-color);\n",
              "    }\n",
              "    20% {\n",
              "      border-color: transparent;\n",
              "      border-left-color: var(--fill-color);\n",
              "      border-top-color: var(--fill-color);\n",
              "    }\n",
              "    30% {\n",
              "      border-color: transparent;\n",
              "      border-left-color: var(--fill-color);\n",
              "      border-top-color: var(--fill-color);\n",
              "      border-right-color: var(--fill-color);\n",
              "    }\n",
              "    40% {\n",
              "      border-color: transparent;\n",
              "      border-right-color: var(--fill-color);\n",
              "      border-top-color: var(--fill-color);\n",
              "    }\n",
              "    60% {\n",
              "      border-color: transparent;\n",
              "      border-right-color: var(--fill-color);\n",
              "    }\n",
              "    80% {\n",
              "      border-color: transparent;\n",
              "      border-right-color: var(--fill-color);\n",
              "      border-bottom-color: var(--fill-color);\n",
              "    }\n",
              "    90% {\n",
              "      border-color: transparent;\n",
              "      border-bottom-color: var(--fill-color);\n",
              "    }\n",
              "  }\n",
              "</style>\n",
              "\n",
              "      <script>\n",
              "        async function quickchart(key) {\n",
              "          const quickchartButtonEl =\n",
              "            document.querySelector('#' + key + ' button');\n",
              "          quickchartButtonEl.disabled = true;  // To prevent multiple clicks.\n",
              "          quickchartButtonEl.classList.add('colab-df-spinner');\n",
              "          try {\n",
              "            const charts = await google.colab.kernel.invokeFunction(\n",
              "                'suggestCharts', [key], {});\n",
              "          } catch (error) {\n",
              "            console.error('Error during call to suggestCharts:', error);\n",
              "          }\n",
              "          quickchartButtonEl.classList.remove('colab-df-spinner');\n",
              "          quickchartButtonEl.classList.add('colab-df-quickchart-complete');\n",
              "        }\n",
              "        (() => {\n",
              "          let quickchartButtonEl =\n",
              "            document.querySelector('#df-9537004e-10e8-42c9-b92e-8a1fcc195fbb button');\n",
              "          quickchartButtonEl.style.display =\n",
              "            google.colab.kernel.accessAllowed ? 'block' : 'none';\n",
              "        })();\n",
              "      </script>\n",
              "    </div>\n",
              "\n",
              "    </div>\n",
              "  </div>\n"
            ],
            "application/vnd.google.colaboratory.intrinsic+json": {
              "type": "dataframe",
              "variable_name": "data",
              "summary": "{\n  \"name\": \"data\",\n  \"rows\": 27,\n  \"fields\": [\n    {\n      \"column\": \"Sku\",\n      \"properties\": {\n        \"dtype\": \"category\",\n        \"num_unique_values\": 1,\n        \"samples\": [\n          \"ARROZ EXTRA  X 5 KG COSTE\\u00d1O\"\n        ],\n        \"semantic_type\": \"\",\n        \"description\": \"\"\n      }\n    },\n    {\n      \"column\": \"Semana\",\n      \"properties\": {\n        \"dtype\": \"number\",\n        \"std\": 7,\n        \"min\": 201709,\n        \"max\": 201735,\n        \"num_unique_values\": 27,\n        \"samples\": [\n          201717\n        ],\n        \"semantic_type\": \"\",\n        \"description\": \"\"\n      }\n    },\n    {\n      \"column\": \"Precio\",\n      \"properties\": {\n        \"dtype\": \"number\",\n        \"std\": 1.7296064470099726,\n        \"min\": 14.9,\n        \"max\": 24.0,\n        \"num_unique_values\": 20,\n        \"samples\": [\n          18.9\n        ],\n        \"semantic_type\": \"\",\n        \"description\": \"\"\n      }\n    },\n    {\n      \"column\": \"Demanda\",\n      \"properties\": {\n        \"dtype\": \"number\",\n        \"std\": 7518,\n        \"min\": 1746,\n        \"max\": 31372,\n        \"num_unique_values\": 24,\n        \"samples\": [\n          11648\n        ],\n        \"semantic_type\": \"\",\n        \"description\": \"\"\n      }\n    }\n  ]\n}"
            }
          },
          "metadata": {},
          "execution_count": 94
        }
      ]
    },
    {
      "cell_type": "code",
      "source": [
        "array_arroz = np.array(data.iloc[:,2:])"
      ],
      "metadata": {
        "id": "OMJT7N0l4B7e"
      },
      "execution_count": 95,
      "outputs": []
    },
    {
      "cell_type": "code",
      "source": [
        "print(array_arroz)"
      ],
      "metadata": {
        "id": "Sru3tTwtxofG",
        "outputId": "7df682fb-8b79-48b8-8a17-b29c50768846",
        "colab": {
          "base_uri": "https://localhost:8080/"
        }
      },
      "execution_count": 96,
      "outputs": [
        {
          "output_type": "stream",
          "name": "stdout",
          "text": [
            "[[1.8900e+01 2.4680e+03]\n",
            " [1.9200e+01 1.7460e+03]\n",
            " [2.0700e+01 3.9410e+03]\n",
            " [1.8400e+01 4.2440e+03]\n",
            " [2.0400e+01 1.1699e+04]\n",
            " [2.4000e+01 1.7460e+03]\n",
            " [1.9600e+01 3.9410e+03]\n",
            " [1.8900e+01 4.2440e+03]\n",
            " [1.8500e+01 9.2310e+03]\n",
            " [1.8900e+01 1.0703e+04]\n",
            " [1.9100e+01 6.7510e+03]\n",
            " [1.7300e+01 1.1648e+04]\n",
            " [1.7400e+01 1.0219e+04]\n",
            " [1.8100e+01 1.3600e+04]\n",
            " [1.8300e+01 1.1005e+04]\n",
            " [1.7800e+01 9.1120e+03]\n",
            " [1.5600e+01 2.8216e+04]\n",
            " [1.7500e+01 1.4062e+04]\n",
            " [1.9200e+01 9.3040e+03]\n",
            " [1.9000e+01 9.3670e+03]\n",
            " [1.9200e+01 8.2840e+03]\n",
            " [1.4900e+01 3.1372e+04]\n",
            " [1.6800e+01 3.4870e+03]\n",
            " [1.9200e+01 4.8590e+03]\n",
            " [1.8900e+01 7.5030e+03]\n",
            " [1.6300e+01 2.4464e+04]\n",
            " [1.7400e+01 1.3449e+04]]\n"
          ]
        }
      ]
    },
    {
      "cell_type": "code",
      "source": [
        "X = array_arroz[:,0]\n",
        "X"
      ],
      "metadata": {
        "id": "wEbPCv1Y4HNH"
      },
      "execution_count": null,
      "outputs": []
    },
    {
      "cell_type": "code",
      "source": [
        "print(f\"Las estadísticas de los precios son \\n Mínimo: {X.min()} \\n Máximo: {X.max()} \\n Promedio: {X.mean()}\")"
      ],
      "metadata": {
        "id": "-Gmz4qEbNQUb"
      },
      "execution_count": null,
      "outputs": []
    },
    {
      "cell_type": "code",
      "source": [
        "y = array_arroz[:,1]\n",
        "y"
      ],
      "metadata": {
        "id": "6IbkffoD4x4E"
      },
      "execution_count": null,
      "outputs": []
    },
    {
      "cell_type": "code",
      "source": [
        "print(f\"Las estadísticas de la demanda semanal en unidades son \\n Mínimo: {y.min()} \\n Máximo: {y.max()} \\n Promedio: {np.round(y.mean(),2)}\")"
      ],
      "metadata": {
        "id": "jnXNWTsZNvpX"
      },
      "execution_count": null,
      "outputs": []
    },
    {
      "cell_type": "code",
      "source": [
        "X_ = np.column_stack((np.ones(len(X)), X))\n",
        "X_"
      ],
      "metadata": {
        "id": "u1DCeqtD44tq"
      },
      "execution_count": null,
      "outputs": []
    },
    {
      "cell_type": "code",
      "source": [
        "y = y.reshape(-1, 1)\n",
        "y"
      ],
      "metadata": {
        "id": "NEH7dDfI5B9d"
      },
      "execution_count": null,
      "outputs": []
    },
    {
      "cell_type": "code",
      "source": [
        "p1 = np.linalg.inv(np.dot(X_.transpose(),X_))\n",
        "p2 = np.dot(X_.transpose(),y)\n",
        "beta = np.dot(p1,p2)"
      ],
      "metadata": {
        "id": "bEACEGhg5IDe"
      },
      "execution_count": null,
      "outputs": []
    },
    {
      "cell_type": "code",
      "source": [
        "beta"
      ],
      "metadata": {
        "id": "XXZKF9qc6c3x"
      },
      "execution_count": null,
      "outputs": []
    },
    {
      "cell_type": "code",
      "source": [
        "beta[1,:]"
      ],
      "metadata": {
        "id": "M4EsJDee6kFm"
      },
      "execution_count": null,
      "outputs": []
    },
    {
      "cell_type": "code",
      "source": [
        "elasticidad = beta[1,:] * (X.mean()/y.mean())"
      ],
      "metadata": {
        "id": "w1nqRXjc6vkp"
      },
      "execution_count": null,
      "outputs": []
    },
    {
      "cell_type": "code",
      "source": [
        "elasticidad"
      ],
      "metadata": {
        "id": "pwXtE90YPRP5"
      },
      "execution_count": null,
      "outputs": []
    },
    {
      "cell_type": "markdown",
      "source": [
        "### Actividad N039"
      ],
      "metadata": {
        "id": "lLRhA9HrY_N2"
      }
    },
    {
      "cell_type": "markdown",
      "source": [
        "Calcular la elasticidad precio de un yogurt de 1 Litro, considere la información del archivo yogurt1L.csv que registra los precios y la demanda de este producto en 20 semanas consecutivas."
      ],
      "metadata": {
        "id": "xK3YD4cWZGrw"
      }
    },
    {
      "cell_type": "code",
      "source": [],
      "metadata": {
        "id": "U9N_TaxQPSo3"
      },
      "execution_count": null,
      "outputs": []
    }
  ]
}